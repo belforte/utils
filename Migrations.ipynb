{
 "cells": [
  {
   "cell_type": "markdown",
   "metadata": {},
   "source": [
    "## Small utility to test migration status and deal with failed migrations\n",
    "by removing them and trying again.\n",
    "Should only be used when the migration failure reason has\n",
    "been understood and solved. Or to reproduce a failure for\n",
    "investigation\n"
   ]
  },
  {
   "cell_type": "code",
   "execution_count": 3,
   "metadata": {},
   "outputs": [],
   "source": [
    "# this import is what's needed to work with CRAB+DBS client distribution in CMSSW\n",
    "import CRABClient\n",
    "from dbs.apis.dbsClient import DbsApi"
   ]
  },
  {
   "cell_type": "code",
   "execution_count": 24,
   "metadata": {},
   "outputs": [],
   "source": [
    "# we migrate from G(lobal) to P(hys0)3\n",
    "# bu which DBS instance do we migrate to ?\n",
    "# Yuyi's dev machine\n",
    "#migUrl='https://dbs3-test1.cern.ch/dbs/dev/global/DBSMigrate'\n",
    "#phy3Url = 'https://dbs3-test1.cern.ch/dbs/dev/global/DBSReader'\n",
    "# testbed\n",
    "#migUrl='https://cmsweb-testbed.cern.ch/dbs/int/phys03/DBSMigrate'\n",
    "#phy3Url = 'https://cmsweb-testbed.cern.ch/dbs/int/phys03/DBSReader'\n",
    "# production DBS\n",
    "migUrl='https://cmsweb.cern.ch/dbs/prod/phys03/DBSMigrate'\n",
    "phy3Url = 'https://cmsweb.cern.ch/dbs/prod/phys03/DBSReader'\n",
    "\n",
    "#datasets to migrate always come from global\n",
    "globUrl='https://cmsweb.cern.ch/dbs/prod/global/DBSReader'\n",
    "apiG   = DbsApi(url=globUrl)\n",
    "apiP3  = DbsApi(url=phy3Url)\n",
    "apiMig = DbsApi(url=migUrl)\n"
   ]
  },
  {
   "cell_type": "code",
   "execution_count": 25,
   "metadata": {},
   "outputs": [
    {
     "name": "stdout",
     "output_type": "stream",
     "text": [
      "385\n"
     ]
    }
   ],
   "source": [
    "# pick  a dataset\n",
    "dataset='/Neutrino_E-10_gun/RunIISummer19ULPrePremix-UL17_106X_mc2017_realistic_v6-v1/PREMIX'\n",
    "\n",
    "#find blocks\n",
    "bList=[]\n",
    "for dic in apiG.listBlocks(dataset=dataset):\n",
    "    bList.append(dic['block_name'])\n",
    "print(len(bList))\n"
   ]
  },
  {
   "cell_type": "code",
   "execution_count": 39,
   "metadata": {},
   "outputs": [
    {
     "name": "stdout",
     "output_type": "stream",
     "text": [
      "There are 385 blocks in that dataset\n"
     ]
    }
   ],
   "source": [
    "print('There are %d blocks in that dataset' % len(bList))"
   ]
  },
  {
   "cell_type": "code",
   "execution_count": 36,
   "metadata": {},
   "outputs": [],
   "source": [
    "#submit migrations and collect their Id's\n",
    "migrIds=[]\n",
    "for b in bList:\n",
    "    data= {'migration_url': globUrl, 'migration_input': b}\n",
    "    result = apiMig.submitMigration(data)\n",
    "    id = result.get(\"migration_details\", {}).get(\"migration_request_id\")\n",
    "    migrIds.append(id)\n",
    "doneMigrs=[]"
   ]
  },
  {
   "cell_type": "code",
   "execution_count": 70,
   "metadata": {},
   "outputs": [
    {
     "name": "stdout",
     "output_type": "stream",
     "text": [
      "created 385 migration Ids\n",
      "Done migrations to skip in next iteration: 175\n"
     ]
    }
   ],
   "source": [
    "print('created %d migration Ids' % len(migrIds))\n",
    "print('Done migrations to skip in next iteration: %d' % len(doneMigrs))"
   ]
  },
  {
   "cell_type": "code",
   "execution_count": 73,
   "metadata": {},
   "outputs": [
    {
     "data": {
      "text/plain": [
       "2879310"
      ]
     },
     "execution_count": 73,
     "metadata": {},
     "output_type": "execute_result"
    }
   ],
   "source": [
    "migrIds[0]"
   ]
  },
  {
   "cell_type": "code",
   "execution_count": 93,
   "metadata": {},
   "outputs": [
    {
     "name": "stdout",
     "output_type": "stream",
     "text": [
      "Migration tally:\n",
      "{'DONE': 56, 'retrying': 0, 'ongoing': 0, 'failed': 0, 'created': 0}\n",
      "There are 0 failed migrations\n",
      "Done migrations to skip in next iteration: 385\n",
      "total = 385\n"
     ]
    }
   ],
   "source": [
    "#check status, to be repeated until OK (state=2) or terminally failed (state=9)\n",
    "# status values are:\n",
    "#    0-request created;\n",
    "#    1-migration in process;\n",
    "#    2-migration successed;\n",
    "#    3-migrationfailed, but has three chances to try;\n",
    "#    9-migration Permanently failed.\n",
    "# https://github.com/dmwm/DBS/blob/625525721c3df9a9b842c84ad0ac29f55180524b/Client/src/python/dbs/apis/dbsClient.py#L1489-L1492\n",
    "failedMigs=[]\n",
    "migTally={'created':0, 'ongoing':0, 'DONE':0, 'retrying':0, 'failed':0}\n",
    "label={0:'created', 1:'ongoing', 2:'DONE', 3:'retrying', 9:'failed'}\n",
    "for id in migrIds:\n",
    "        if id in doneMigrs: continue\n",
    "        status = apiMig.statusMigration(migration_rqst_id=id)\n",
    "        if not status: continue # protection against stale list of migrIds\n",
    "        state = status[0].get(\"migration_status\")\n",
    "        retry_count = status[0].get(\"retry_count\")\n",
    "        if state in [3,9]:\n",
    "            print \"migration id, state, retries : %d %d %s\" % (id, state, retry_count)\n",
    "        migTally[label[state]] += 1\n",
    "        if state == 9 :\n",
    "            failedMigs.append(id)\n",
    "        if state == 2:\n",
    "            doneMigrs.append(id)\n",
    "\n",
    "print('Migration tally:\\n%s' % migTally)\n",
    "print('There are %d failed migrations' % len(failedMigs))\n",
    "if failedMigs: print('first failed migration: %s' % failedMigs[0])\n",
    "print('Done migrations to skip in next iteration: %d' % len(doneMigrs))\n",
    "total = 0\n",
    "for state in migTally.keys():\n",
    "  total += migTally[state]\n",
    "total = total - migTally['DONE'] + len(doneMigrs)\n",
    "print('total = %d' % total)"
   ]
  },
  {
   "cell_type": "code",
   "execution_count": 94,
   "metadata": {},
   "outputs": [
    {
     "name": "stdout",
     "output_type": "stream",
     "text": [
      "Migration tally:\n",
      "{'DONE': 56, 'retrying': 0, 'ongoing': 0, 'failed': 0, 'created': 0}\n",
      "There are 0 failed migrations\n",
      "Done migrations to skip in next iteration: 385\n",
      "total = 385\n"
     ]
    }
   ],
   "source": [
    "# repeat previous count in case it went log in long output\n",
    "print('Migration tally:\\n%s' % migTally)\n",
    "total = 0\n",
    "print('There are %d failed migrations' % len(failedMigs))\n",
    "if failedMigs: print('first failed migration: %s' % failedMigs[0])\n",
    "print('Done migrations to skip in next iteration: %d' % len(doneMigrs))\n",
    "for state in migTally.keys():\n",
    "  total += migTally[state]\n",
    "total = total - migTally['DONE'] + len(doneMigrs)\n",
    "print('total = %d' % total)"
   ]
  },
  {
   "cell_type": "code",
   "execution_count": 34,
   "metadata": {},
   "outputs": [],
   "source": [
    "# if there are old, failed migrations, need to remove them in order to\n",
    "# submit them again, the first loop will simly collect their ID's\n",
    "for mig in failedMigs:\n",
    "    #mdic={'migration_rqst_id':mig}\n",
    "    apiMig.removeMigration({'migration_rqst_id':mig})\n"
   ]
  },
  {
   "cell_type": "code",
   "execution_count": null,
   "metadata": {},
   "outputs": [],
   "source": []
  },
  {
   "cell_type": "code",
   "execution_count": null,
   "metadata": {},
   "outputs": [],
   "source": [
    "# now that failed migrations have remove you can go back to create the migrations from the block list."
   ]
  }
 ],
 "metadata": {
  "kernelspec": {
   "display_name": "Python 2",
   "language": "python",
   "name": "python2"
  }
 },
 "nbformat": 4,
 "nbformat_minor": 2
}
