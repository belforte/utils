{
 "cells": [
  {
   "cell_type": "code",
   "execution_count": 5,
   "id": "8e432572",
   "metadata": {},
   "outputs": [],
   "source": [
    "import os\n",
    "import sys\n",
    "import logging\n",
    "import pprint\n",
    "from RESTInteractions import CRABRest\n",
    "from ServerUtilities import getHashLfn, encodeRequest\n"
   ]
  },
  {
   "cell_type": "code",
   "execution_count": 6,
   "id": "0f83c533",
   "metadata": {},
   "outputs": [],
   "source": [
    "logger = logging.getLogger()\n",
    "logging.basicConfig(stream=sys.stdout, level=logging.INFO)\n",
    "logger.setLevel(logging.DEBUG)\n",
    "\n",
    "# if X509 vars are not defined, use default Publisher location\n",
    "userProxy = os.getenv('X509_USER_PROXY')\n",
    "if userProxy:\n",
    "    os.environ['X509_USER_CERT'] = userProxy\n",
    "    os.environ['X509_USER_KEY'] = userProxy\n",
    "if not os.getenv('X509_USER_CERT'):\n",
    "    os.environ['X509_USER_CERT'] = '/data/certs/servicecert.pem'\n",
    "if not os.getenv('X509_USER_KEY'):\n",
    "    os.environ['X509_USER_KEY'] = '/data/certs/servicekey.pem'\n",
    "    \n",
    "hostCert = os.getenv('X509_USER_CERT')\n",
    "hostKey = os.getenv('X509_USER_KEY')\n",
    "\n",
    "# CRAB REST API's\n",
    "\n",
    "restHost='cmsweb-test2.cern.ch'\n",
    "dbInst='dev'\n",
    "crabServer = CRABRest(hostname=restHost, localcert=hostCert,\n",
    "                      localkey=hostKey, retry=3,\n",
    "                      userAgent='StressTest')\n",
    "crabServer.setDbInstance(dbInstance=dbInst)\n"
   ]
  },
  {
   "cell_type": "code",
   "execution_count": null,
   "id": "cc0af612",
   "metadata": {},
   "outputs": [],
   "source": [
    "crabS"
   ]
  },
  {
   "cell_type": "code",
   "execution_count": 3,
   "id": "da834a8e",
   "metadata": {},
   "outputs": [],
   "source": [
    "def mark_good(files, crabServer, logger):\n",
    "    \"\"\"\n",
    "    Mark the list of files as tranferred\n",
    "    \"\"\"\n",
    "\n",
    "    msg = \"Marking %s file(s) as published.\" % len(files)\n",
    "    logger.info(msg)\n",
    "    nMarked = 0\n",
    "    for lfn in files:\n",
    "        data = {}\n",
    "        source_lfn = lfn\n",
    "        docId = getHashLfn(source_lfn)\n",
    "        data['asoworker'] = 'schedd'\n",
    "        data['subresource'] = 'updatePublication'\n",
    "        data['list_of_ids'] = [docId]\n",
    "        data['list_of_publication_state'] = ['DONE']\n",
    "        data['list_of_retry_value'] = [1]\n",
    "        data['list_of_failure_reason'] = ['']\n",
    "\n",
    "        try:\n",
    "            result = crabServer.post(api='filetransfers', data=encodeRequest(data))\n",
    "            logger.debug(\"updated DocumentId: %s lfn: %s Result %s\", docId, source_lfn, result)\n",
    "        except Exception as ex:\n",
    "            logger.error(\"Error updating status for DocumentId: %s lfn: %s\", docId, source_lfn)\n",
    "            logger.error(\"Error reason: %s\", ex)\n",
    "\n",
    "        nMarked += 1\n",
    "        if nMarked % 10 == 0:\n",
    "            logger.info('marked %d files', nMarked)"
   ]
  },
  {
   "cell_type": "code",
   "execution_count": 5,
   "id": "657f991f",
   "metadata": {},
   "outputs": [],
   "source": [
    "# prepare a list of 10 files\n",
    "lfnTemplate = '/store/temp/user/dmapelli.08aeb7b050bc579abba57f9ea54d7bc13447d65b/GenericTTbar/autotest-dmapelli-1645459633/220221_160717/0000/output_%d.root'\n",
    "files=[]\n",
    "for i in range(1,11):\n",
    "    files.append(lfnTemplate % i)\n",
    "#pprint.pprint(files)\n",
    "# mark them\n",
    "mark_good(files,crabServer,logger)"
   ]
  },
  {
   "cell_type": "code",
   "execution_count": null,
   "id": "54253d90",
   "metadata": {},
   "outputs": [],
   "source": []
  }
 ],
 "metadata": {
  "kernelspec": {
   "display_name": "Python 3 (ipykernel)",
   "language": "python",
   "name": "python3"
  },
  "language_info": {
   "codemirror_mode": {
    "name": "ipython",
    "version": 3
   },
   "file_extension": ".py",
   "mimetype": "text/x-python",
   "name": "python",
   "nbconvert_exporter": "python",
   "pygments_lexer": "ipython3",
   "version": "3.9.6"
  }
 },
 "nbformat": 4,
 "nbformat_minor": 5
}
