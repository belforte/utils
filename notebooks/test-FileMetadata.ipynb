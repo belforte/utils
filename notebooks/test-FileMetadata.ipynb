{
 "cells": [
  {
   "cell_type": "code",
   "execution_count": 1,
   "metadata": {},
   "outputs": [],
   "source": [
    "from RESTInteractions import CRABRest"
   ]
  },
  {
   "cell_type": "code",
   "execution_count": 19,
   "metadata": {},
   "outputs": [],
   "source": [
    "host='cmsweb-test1.cern.ch'\n",
    "dbInstance='dev'\n"
   ]
  },
  {
   "cell_type": "code",
   "execution_count": 20,
   "metadata": {},
   "outputs": [
    {
     "name": "stdout",
     "output_type": "stream",
     "text": [
      "Proxy: /tmp/x509up_u8516\n"
     ]
    }
   ],
   "source": [
    "import logging\n",
    "import sys\n",
    "import os\n",
    "logging.basicConfig(stream=sys.stdout, level=logging.INFO)\n",
    "logger = logging.getLogger('Logger')\n",
    "\n",
    "proxy = os.environ['X509_USER_PROXY']\n",
    "print(\"Proxy: %s\" % proxy)"
   ]
  },
  {
   "cell_type": "code",
   "execution_count": 21,
   "metadata": {},
   "outputs": [],
   "source": [
    "server = CRABRest(host, proxy, proxy, userAgent='CRABtestSB',verbose=False)\n",
    "# this means that we will use URL's like  https://cmsweb-test1.cern.ch/crabserver\n"
   ]
  },
  {
   "cell_type": "code",
   "execution_count": 22,
   "metadata": {},
   "outputs": [],
   "source": [
    "server.setDbInstance(dbInstance)\n",
    "# this means that we will use URL's like https://cmsweb-test1.cern.ch/crabserver/dev"
   ]
  },
  {
   "cell_type": "code",
   "execution_count": 23,
   "metadata": {},
   "outputs": [],
   "source": [
    "crabServer=server"
   ]
  },
  {
   "cell_type": "code",
   "execution_count": 24,
   "metadata": {},
   "outputs": [],
   "source": [
    "api='filemetadata'\n",
    "# means that we will use URL's like https://cmsweb-test1.cern.ch/crabserver/dev/filemetadata"
   ]
  },
  {
   "cell_type": "code",
   "execution_count": 25,
   "metadata": {},
   "outputs": [
    {
     "name": "stdout",
     "output_type": "stream",
     "text": [
      "https://cmsweb-test1.cern.ch/crabserver/dev/filemetadata?taskname=220121_172844%3Atseethon_crab_20220131_182840&filetype=EDM\n"
     ]
    }
   ],
   "source": [
    "data={'taskname':'220121_172844:tseethon_crab_20220131_182840', 'filetype':'EDM'}\n",
    "from ServerUtilities import encodeRequest\n",
    "data = encodeRequest(data)\n",
    "# this means thar URL will be\n",
    "url='https://cmsweb-test1.cern.ch/crabserver/dev/filemetadata'\n",
    "finalUrl=url+'?'+data\n",
    "print(finalUrl)"
   ]
  },
  {
   "cell_type": "code",
   "execution_count": 26,
   "metadata": {},
   "outputs": [],
   "source": [
    "res = crabServer.get(api=api,data=data)"
   ]
  },
  {
   "cell_type": "code",
   "execution_count": 27,
   "metadata": {},
   "outputs": [],
   "source": [
    "import pprint"
   ]
  },
  {
   "cell_type": "code",
   "execution_count": 28,
   "metadata": {},
   "outputs": [
    {
     "name": "stdout",
     "output_type": "stream",
     "text": [
      "({u'result': []}, 200, u'OK')\n"
     ]
    }
   ],
   "source": [
    "pprint.pprint(res)"
   ]
  },
  {
   "cell_type": "code",
   "execution_count": null,
   "metadata": {},
   "outputs": [],
   "source": []
  }
 ],
 "metadata": {
  "kernelspec": {
   "display_name": "Python 2",
   "language": "python",
   "name": "python2"
  },
  "language_info": {
   "codemirror_mode": {
    "name": "ipython",
    "version": 2
   },
   "file_extension": ".py",
   "mimetype": "text/x-python",
   "name": "python",
   "nbconvert_exporter": "python",
   "pygments_lexer": "ipython2",
   "version": "2.7.14+"
  }
 },
 "nbformat": 4,
 "nbformat_minor": 2
}
