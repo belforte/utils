{
 "cells": [
  {
   "cell_type": "code",
   "execution_count": 8,
   "metadata": {},
   "outputs": [],
   "source": [
    "\n",
    "from __future__ import division\n",
    "from __future__ import print_function\n",
    "import argparse\n",
    "import logging\n",
    "from logging import FileHandler\n",
    "from logging.handlers import TimedRotatingFileHandler\n",
    "import os\n",
    "import traceback\n",
    "import sys\n",
    "import json\n",
    "import pickle\n",
    "import tempfile\n",
    "from datetime import datetime\n",
    "import time\n",
    "from multiprocessing import Process\n",
    "from WMCore.Configuration import loadConfigurationFile\n",
    "from WMCore.Services.Requests import Requests\n",
    "\n",
    "from RESTInteractions import CRABRest\n",
    "from ServerUtilities import getColumn, encodeRequest, oracleOutputMapping, executeCommand\n",
    "from ServerUtilities import SERVICE_INSTANCES\n",
    "from ServerUtilities import getProxiedWebDir\n"
   ]
  },
  {
   "cell_type": "code",
   "execution_count": 9,
   "metadata": {},
   "outputs": [
    {
     "name": "stdout",
     "output_type": "stream",
     "text": [
      "/tmp/x509up_u8516\n"
     ]
    }
   ],
   "source": [
    "confFile = os.path.abspath('PublisherConfig.py')\n",
    "config = loadConfigurationFile(confFile)\n",
    "config = config.General\n",
    "logging.basicConfig(stream=sys.stdout, level=logging.INFO)\n",
    "logger = logging.getLogger('Logger')\n",
    "instance = config.instance\n",
    "restHost = SERVICE_INSTANCES[instance]['restHost']\n",
    "dbInstance = SERVICE_INSTANCES[instance]['dbInstance']\n",
    "myp = os.getenv('X509_USER_PROXY')\n",
    "print(myp)"
   ]
  },
  {
   "cell_type": "code",
   "execution_count": 10,
   "metadata": {},
   "outputs": [
    {
     "name": "stdout",
     "output_type": "stream",
     "text": [
      "/tmp/belforte/data/srv/Publisher/logs\n"
     ]
    }
   ],
   "source": [
    "logger.warning('rewre')\n",
    "print(config.logsDir)"
   ]
  },
  {
   "cell_type": "code",
   "execution_count": 10,
   "metadata": {},
   "outputs": [],
   "source": [
    "crabServer = CRABRest(hostname=restHost, localcert=myp, localkey=myp, retry=0,\n",
    "                      userAgent='StefanoTest')\n",
    "crabServer.setDbInstance(dbInstance=dbInstance)\n",
    "workflow='211118_173745:belforte_crab_20211118_183738'"
   ]
  },
  {
   "cell_type": "code",
   "execution_count": 11,
   "metadata": {},
   "outputs": [
    {
     "name": "stdout",
     "output_type": "stream",
     "text": [
      "SUBMITTED\n"
     ]
    }
   ],
   "source": [
    "crabDBInfo, _, _ = crabServer.get(api='task', data={'subresource':'search', 'workflow':workflow})\n",
    "dbStatus = getColumn(crabDBInfo, 'tm_task_status')\n",
    "print(dbStatus)"
   ]
  },
  {
   "cell_type": "code",
   "execution_count": 12,
   "metadata": {},
   "outputs": [
    {
     "name": "stdout",
     "output_type": "stream",
     "text": [
      "https://cmsweb.cern.ch:8443/scheddmon/059/cms1627/211118_173745:belforte_crab_20211118_183738\n"
     ]
    }
   ],
   "source": [
    "proxiedWebDir = getProxiedWebDir(crabserver=crabServer, task=workflow)\n",
    "print(proxiedWebDir)\n"
   ]
  },
  {
   "cell_type": "code",
   "execution_count": 9,
   "metadata": {},
   "outputs": [],
   "source": [
    "_, local_status_cache_pkl = tempfile.mkstemp(dir='/tmp', prefix='status-cache-', suffix='.pkl')\n",
    "url = proxiedWebDir + \"/status_cache.pkl\"\n",
    "host = 'https://cmsweb.cern.ch'  # this is actually dummy but WMCore.Requests needs it\n",
    "cdict = {'cert':myp, 'key':myp}\n",
    "req = Requests(url=host, idict=cdict)\n",
    "_, ret = req.downloadFile(local_status_cache_pkl, url)\n",
    "if not ret.status == 200:\n",
    "    raise Exception('download attempt returned HTTP code %d' % ret.status)\n",
    "with open(local_status_cache_pkl, 'rb') as fp:\n",
    "    statusCache = pickle.load(fp)"
   ]
  },
  {
   "cell_type": "code",
   "execution_count": 11,
   "metadata": {},
   "outputs": [
    {
     "name": "stdout",
     "output_type": "stream",
     "text": [
      "{u'fjrParseResCheckpoint': 1441, u'nodeMap': {(8968425, 0): u'42', (8968384, 0): u'1', (8968405, 0): u'22', (8968410, 0): u'27', (8968431, 0): u'49', (8968390, 0): u'7', (8968395, 0): u'12', (8968400, 0): u'17', (8968421, 0): u'38', (8968426, 0): u'43', (8968385, 0): u'2', (8968406, 0): u'23', (8968411, 0): u'28', (8968416, 0): u'33', (8968391, 0): u'8', (8968396, 0): u'13', (8968401, 0): u'18', (8968422, 0): u'39', (8968427, 0): u'45', (8968386, 0): u'3', (8968432, 0): u'50', (8968407, 0): u'24', (8968412, 0): u'29', (8968417, 0): u'34', (8968397, 0): u'14', (8968402, 0): u'19', (8968423, 0): u'40', (8968428, 0): u'46', (8968387, 0): u'4', (8968433, 0): u'44', (8968392, 0): u'9', (8968413, 0): u'30', (8968418, 0): u'35', (8968398, 0): u'15', (8968403, 0): u'20', (8968408, 0): u'25', (8968429, 0): u'47', (8968388, 0): u'5', (8968393, 0): u'10', (8968414, 0): u'31', (8968419, 0): u'36', (8968424, 0): u'41', (8968399, 0): u'16', (8968404, 0): u'21', (8968409, 0): u'26', (8968430, 0): u'48', (8968389, 0): u'6', (8968394, 0): u'11', (8968415, 0): u'32', (8968420, 0): u'37'}, u'nodes': {u'42': {u'Retries': 0, u'WallDurations': [61.0, 148.61127471923828, 148.61127471923828], u'StartTimes': [1637356364.0], u'SubmitTimes': [1637356160.0], u'JobIds': [u'8968425.0'], u'EndTimes': [1637356425.0], u'Restarts': 0, u'RecordedSite': True, u'State': u'finished', u'ResidentSetSize': [61464], u'TotalUserCpuTimeHistory': [0], u'SiteHistory': [u'Unknown', u'T2_CH_CERN', u'T2_CH_CERN'], u'TotalSysCpuTimeHistory': [0]}, u'48': {u'Retries': 0, u'WallDurations': [62.0, 146.61127471923828, 146.61127471923828], u'StartTimes': [1637356366.0], u'SubmitTimes': [1637356161.0], u'JobIds': [u'8968430.0'], u'EndTimes': [1637356428.0], u'Restarts': 0, u'RecordedSite': True, u'State': u'finished', u'ResidentSetSize': [28424], u'TotalUserCpuTimeHistory': [3], u'SiteHistory': [u'Unknown', u'T2_CH_CERN', u'T2_CH_CERN'], u'TotalSysCpuTimeHistory': [3]}, u'43': {u'Retries': 0, u'WallDurations': [61.0, 147.61127471923828, 147.61127471923828], u'StartTimes': [1637356365.0], u'SubmitTimes': [1637356160.0], u'JobIds': [u'8968426.0'], u'EndTimes': [1637356426.0], u'Restarts': 0, u'RecordedSite': True, u'State': u'finished', u'ResidentSetSize': [38616], u'TotalUserCpuTimeHistory': [3], u'SiteHistory': [u'Unknown', u'T2_CH_CERN', u'T2_CH_CERN'], u'TotalSysCpuTimeHistory': [3]}, u'49': {u'Retries': 0, u'WallDurations': [62.0, 145.61127471923828, 145.61127471923828], u'StartTimes': [1637356367.0], u'SubmitTimes': [1637356161.0], u'JobIds': [u'8968431.0'], u'EndTimes': [1637356429.0], u'Restarts': 0, u'RecordedSite': True, u'State': u'finished', u'ResidentSetSize': [66700], u'TotalUserCpuTimeHistory': [4], u'SiteHistory': [u'Unknown', u'T2_CH_CERN', u'T2_CH_CERN'], u'TotalSysCpuTimeHistory': [4]}, u'24': {u'Retries': 0, u'WallDurations': [79.0, 147.61127471923828, 147.61127471923828], u'StartTimes': [1637356365.0], u'SubmitTimes': [1637356159.0], u'JobIds': [u'8968407.0'], u'EndTimes': [1637356444.0], u'Restarts': 0, u'RecordedSite': True, u'State': u'finished', u'ResidentSetSize': [40556], u'TotalUserCpuTimeHistory': [1], u'SiteHistory': [u'Unknown', u'T2_CH_CERN', u'T2_CH_CERN'], u'TotalSysCpuTimeHistory': [0]}, u'25': {u'Retries': 0, u'WallDurations': [60.0, 147.61127471923828, 147.61127471923828], u'StartTimes': [1637356365.0], u'SubmitTimes': [1637356159.0], u'JobIds': [u'8968408.0'], u'EndTimes': [1637356425.0], u'Restarts': 0, u'RecordedSite': True, u'State': u'finished', u'ResidentSetSize': [61500], u'TotalUserCpuTimeHistory': [2], u'SiteHistory': [u'Unknown', u'T2_CH_CERN', u'T2_CH_CERN'], u'TotalSysCpuTimeHistory': [1]}, u'26': {u'Retries': 0, u'WallDurations': [110.0, 143.61127471923828, 143.61127471923828], u'StartTimes': [1637356369.0], u'SubmitTimes': [1637356159.0], u'JobIds': [u'8968409.0'], u'EndTimes': [1637356479.0], u'Restarts': 0, u'RecordedSite': True, u'State': u'finished', u'ResidentSetSize': [2964], u'TotalUserCpuTimeHistory': [2], u'SiteHistory': [u'Unknown', u'T2_CH_CERN', u'T2_CH_CERN'], u'TotalSysCpuTimeHistory': [3]}, u'27': {u'Retries': 0, u'WallDurations': [114.0, 148.61127471923828, 148.61127471923828], u'StartTimes': [1637356364.0], u'SubmitTimes': [1637356159.0], u'JobIds': [u'8968410.0'], u'EndTimes': [1637356478.0], u'Restarts': 0, u'RecordedSite': True, u'State': u'finished', u'ResidentSetSize': [2820], u'TotalUserCpuTimeHistory': [7], u'SiteHistory': [u'Unknown', u'T2_CH_CERN', u'T2_CH_CERN'], u'TotalSysCpuTimeHistory': [3]}, u'20': {u'Retries': 0, u'WallDurations': [61.0, 148.61127471923828, 148.61127471923828], u'StartTimes': [1637356364.0], u'SubmitTimes': [1637356153.0], u'JobIds': [u'8968403.0'], u'EndTimes': [1637356425.0], u'Restarts': 0, u'RecordedSite': True, u'State': u'finished', u'ResidentSetSize': [52136], u'TotalUserCpuTimeHistory': [2], u'SiteHistory': [u'Unknown', u'T2_CH_CERN', u'T2_CH_CERN'], u'TotalSysCpuTimeHistory': [1]}, u'21': {u'Retries': 0, u'WallDurations': [62.0, 148.61127471923828, 148.61127471923828], u'StartTimes': [1637356364.0], u'SubmitTimes': [1637356153.0], u'JobIds': [u'8968404.0'], u'EndTimes': [1637356426.0], u'Restarts': 0, u'RecordedSite': True, u'State': u'finished', u'ResidentSetSize': [2840], u'TotalUserCpuTimeHistory': [4], u'SiteHistory': [u'Unknown', u'T2_CH_CERN', u'T2_CH_CERN'], u'TotalSysCpuTimeHistory': [2]}, u'22': {u'Retries': 0, u'WallDurations': [60.0, 147.61127471923828, 147.61127471923828], u'StartTimes': [1637356365.0], u'SubmitTimes': [1637356153.0], u'JobIds': [u'8968405.0'], u'EndTimes': [1637356425.0], u'Restarts': 0, u'RecordedSite': True, u'State': u'finished', u'ResidentSetSize': [45836], u'TotalUserCpuTimeHistory': [2], u'SiteHistory': [u'Unknown', u'T2_CH_CERN', u'T2_CH_CERN'], u'TotalSysCpuTimeHistory': [1]}, u'23': {u'Retries': 0, u'WallDurations': [8.0, 147.61127471923828, 166.0], u'StartTimes': [1637356365.0], u'SubmitTimes': [1637356153.0], u'JobIds': [u'8968406.0'], u'EndTimes': [1637356531.0], u'Restarts': 0, u'RecordedSite': True, u'State': u'finished', u'ResidentSetSize': [36928], u'TotalUserCpuTimeHistory': [8], u'SiteHistory': [u'Unknown', u'T2_CH_CERN', u'T2_CH_CERN'], u'TotalSysCpuTimeHistory': [3]}, u'46': {u'Retries': 0, u'WallDurations': [76.0, 147.61127471923828, 147.61127471923828], u'StartTimes': [1637356365.0], u'SubmitTimes': [1637356160.0], u'JobIds': [u'8968428.0'], u'EndTimes': [1637356441.0], u'Restarts': 0, u'RecordedSite': True, u'State': u'finished', u'ResidentSetSize': [30020], u'TotalUserCpuTimeHistory': [3], u'SiteHistory': [u'Unknown', u'T2_CH_CERN', u'T2_CH_CERN'], u'TotalSysCpuTimeHistory': [3]}, u'47': {u'Retries': 0, u'WallDurations': [8.0, 144.61127471923828, 662.0], u'StartTimes': [1637356368.0], u'SubmitTimes': [1637356161.0], u'JobIds': [u'8968429.0'], u'EndTimes': [1637357030.0], u'Restarts': 0, u'RecordedSite': True, u'State': u'finished', u'ResidentSetSize': [579168], u'TotalUserCpuTimeHistory': [8], u'SiteHistory': [u'Unknown', u'T2_CH_CERN', u'T2_CH_CERN'], u'TotalSysCpuTimeHistory': [6]}, u'44': {u'Retries': 0, u'WallDurations': [62.0, 142.61127471923828, 142.61127471923828], u'StartTimes': [1637356370.0], u'SubmitTimes': [1637356161.0], u'JobIds': [u'8968433.0'], u'EndTimes': [1637356432.0], u'Restarts': 0, u'RecordedSite': True, u'State': u'finished', u'ResidentSetSize': [55472], u'TotalUserCpuTimeHistory': [2], u'SiteHistory': [u'Unknown', u'T2_CH_CERN', u'T2_CH_CERN'], u'TotalSysCpuTimeHistory': [3]}, u'45': {u'Retries': 0, u'WallDurations': [9.0, 145.61127471923828, 149.0], u'StartTimes': [1637356367.0], u'SubmitTimes': [1637356160.0], u'JobIds': [u'8968427.0'], u'EndTimes': [1637356516.0], u'Restarts': 0, u'RecordedSite': True, u'State': u'finished', u'ResidentSetSize': [892], u'TotalUserCpuTimeHistory': [8], u'SiteHistory': [u'Unknown', u'T2_CH_CERN', u'T2_CH_CERN'], u'TotalSysCpuTimeHistory': [4]}, u'28': {u'Retries': 0, u'WallDurations': [62.0, 148.61127471923828, 148.61127471923828], u'StartTimes': [1637356364.0], u'SubmitTimes': [1637356159.0], u'JobIds': [u'8968411.0'], u'EndTimes': [1637356426.0], u'Restarts': 0, u'RecordedSite': True, u'State': u'finished', u'ResidentSetSize': [2968], u'TotalUserCpuTimeHistory': [2], u'SiteHistory': [u'Unknown', u'T2_CH_CERN', u'T2_CH_CERN'], u'TotalSysCpuTimeHistory': [1]}, u'29': {u'Retries': 0, u'WallDurations': [9.0, 146.61127471923828, 478.0], u'StartTimes': [1637356366.0], u'SubmitTimes': [1637356159.0], u'JobIds': [u'8968412.0'], u'EndTimes': [1637356844.0], u'Restarts': 0, u'RecordedSite': True, u'State': u'finished', u'ResidentSetSize': [424864], u'TotalUserCpuTimeHistory': [7], u'SiteHistory': [u'Unknown', u'T2_CH_CERN', u'T2_CH_CERN'], u'TotalSysCpuTimeHistory': [2]}, u'40': {u'Retries': 0, u'WallDurations': [98.0, 147.61127471923828, 147.61127471923828], u'StartTimes': [1637356365.0], u'SubmitTimes': [1637356160.0], u'JobIds': [u'8968423.0'], u'EndTimes': [1637356463.0], u'Restarts': 0, u'RecordedSite': True, u'State': u'finished', u'ResidentSetSize': [30288], u'TotalUserCpuTimeHistory': [9], u'SiteHistory': [u'Unknown', u'T2_CH_CERN', u'T2_CH_CERN'], u'TotalSysCpuTimeHistory': [4]}, u'41': {u'Retries': 0, u'WallDurations': [80.0, 147.61127471923828, 147.61127471923828], u'StartTimes': [1637356365.0], u'SubmitTimes': [1637356160.0], u'JobIds': [u'8968424.0'], u'EndTimes': [1637356445.0], u'Restarts': 0, u'RecordedSite': True, u'State': u'finished', u'ResidentSetSize': [36700], u'TotalUserCpuTimeHistory': [7], u'SiteHistory': [u'Unknown', u'T2_CH_CERN', u'T2_CH_CERN'], u'TotalSysCpuTimeHistory': [3]}, u'1': {u'Retries': 0, u'WallDurations': [95.0, 146.61127471923828, 146.61127471923828], u'StartTimes': [1637356366.0], u'SubmitTimes': [1637356151.0], u'JobIds': [u'8968384.0'], u'EndTimes': [1637356461.0], u'Restarts': 0, u'RecordedSite': True, u'State': u'finished', u'ResidentSetSize': [61840], u'TotalUserCpuTimeHistory': [11], u'SiteHistory': [u'Unknown', u'T2_CH_CERN', u'T2_CH_CERN'], u'TotalSysCpuTimeHistory': [4]}, u'3': {u'Retries': 0, u'WallDurations': [96.0, 146.61127471923828, 146.61127471923828], u'StartTimes': [1637356366.0], u'SubmitTimes': [1637356151.0], u'JobIds': [u'8968386.0'], u'EndTimes': [1637356462.0], u'Restarts': 0, u'RecordedSite': True, u'State': u'finished', u'ResidentSetSize': [2916], u'TotalUserCpuTimeHistory': [9], u'SiteHistory': [u'Unknown', u'T2_CH_CERN', u'T2_CH_CERN'], u'TotalSysCpuTimeHistory': [4]}, u'2': {u'Retries': 0, u'WallDurations': [10.0, 144.61127471923828, 148.0], u'StartTimes': [1637356368.0], u'SubmitTimes': [1637356151.0], u'JobIds': [u'8968385.0'], u'EndTimes': [1637356516.0], u'Restarts': 0, u'RecordedSite': True, u'State': u'finished', u'ResidentSetSize': [48784], u'TotalUserCpuTimeHistory': [8], u'SiteHistory': [u'Unknown', u'T2_CH_CERN', u'T2_CH_CERN'], u'TotalSysCpuTimeHistory': [4]}, u'5': {u'Retries': 0, u'WallDurations': [9.0, 145.61127471923828, 677.0], u'StartTimes': [1637356367.0], u'SubmitTimes': [1637356151.0], u'JobIds': [u'8968388.0'], u'EndTimes': [1637357044.0], u'Restarts': 0, u'RecordedSite': True, u'State': u'finished', u'ResidentSetSize': [461692], u'TotalUserCpuTimeHistory': [8], u'SiteHistory': [u'Unknown', u'T2_CH_CERN', u'T2_CH_CERN'], u'TotalSysCpuTimeHistory': [5]}, u'4': {u'Retries': 0, u'WallDurations': [61.0, 146.61127471923828, 146.61127471923828], u'StartTimes': [1637356366.0], u'SubmitTimes': [1637356151.0], u'JobIds': [u'8968387.0'], u'EndTimes': [1637356427.0], u'Restarts': 0, u'RecordedSite': True, u'State': u'finished', u'ResidentSetSize': [56964], u'TotalUserCpuTimeHistory': [2], u'SiteHistory': [u'Unknown', u'T2_CH_CERN', u'T2_CH_CERN'], u'TotalSysCpuTimeHistory': [1]}, u'7': {u'Retries': 0, u'WallDurations': [80.0, 147.61127471923828, 147.61127471923828], u'StartTimes': [1637356365.0], u'SubmitTimes': [1637356151.0], u'JobIds': [u'8968390.0'], u'EndTimes': [1637356445.0], u'Restarts': 0, u'RecordedSite': True, u'State': u'finished', u'ResidentSetSize': [2836], u'TotalUserCpuTimeHistory': [7], u'SiteHistory': [u'Unknown', u'T2_CH_CERN', u'T2_CH_CERN'], u'TotalSysCpuTimeHistory': [4]}, u'6': {u'Retries': 0, u'WallDurations': [61.0, 148.61127471923828, 148.61127471923828], u'StartTimes': [1637356364.0], u'SubmitTimes': [1637356151.0], u'JobIds': [u'8968389.0'], u'EndTimes': [1637356425.0], u'Restarts': 0, u'RecordedSite': True, u'State': u'finished', u'ResidentSetSize': [2960], u'TotalUserCpuTimeHistory': [6], u'SiteHistory': [u'Unknown', u'T2_CH_CERN', u'T2_CH_CERN'], u'TotalSysCpuTimeHistory': [2]}, u'9': {u'Retries': 0, u'WallDurations': [62.0, 148.61127471923828, 148.61127471923828], u'StartTimes': [1637356364.0], u'SubmitTimes': [1637356151.0], u'JobIds': [u'8968392.0'], u'EndTimes': [1637356426.0], u'Restarts': 0, u'RecordedSite': True, u'State': u'finished', u'ResidentSetSize': [48100], u'TotalUserCpuTimeHistory': [5], u'SiteHistory': [u'Unknown', u'T2_CH_CERN', u'T2_CH_CERN'], u'TotalSysCpuTimeHistory': [3]}, u'8': {u'Retries': 0, u'WallDurations': [74.0, 146.61127471923828, 146.61127471923828], u'StartTimes': [1637356366.0], u'SubmitTimes': [1637356151.0], u'JobIds': [u'8968391.0'], u'EndTimes': [1637356440.0], u'Restarts': 0, u'RecordedSite': True, u'State': u'finished', u'ResidentSetSize': [2824], u'TotalUserCpuTimeHistory': [6], u'SiteHistory': [u'Unknown', u'T2_CH_CERN', u'T2_CH_CERN'], u'TotalSysCpuTimeHistory': [2]}, u'39': {u'Retries': 0, u'WallDurations': [63.0, 146.61127471923828, 146.61127471923828], u'StartTimes': [1637356366.0], u'SubmitTimes': [1637356160.0], u'JobIds': [u'8968422.0'], u'EndTimes': [1637356429.0], u'Restarts': 0, u'RecordedSite': True, u'State': u'finished', u'ResidentSetSize': [2892], u'TotalUserCpuTimeHistory': [6], u'SiteHistory': [u'Unknown', u'T2_CH_CERN', u'T2_CH_CERN'], u'TotalSysCpuTimeHistory': [4]}, u'38': {u'Retries': 0, u'WallDurations': [63.0, 147.61127471923828, 147.61127471923828], u'StartTimes': [1637356365.0], u'SubmitTimes': [1637356160.0], u'JobIds': [u'8968421.0'], u'EndTimes': [1637356428.0], u'Restarts': 0, u'RecordedSite': True, u'State': u'finished', u'ResidentSetSize': [2828], u'TotalUserCpuTimeHistory': [5], u'SiteHistory': [u'Unknown', u'T2_CH_CERN', u'T2_CH_CERN'], u'TotalSysCpuTimeHistory': [4]}, u'DagStatus': {u'SubDagStatus': {}, u'Timestamp': 1637357050, u'NodesTotal': 50, u'SubDags': {}, u'DagStatus': 5}, u'11': {u'Retries': 0, u'WallDurations': [60.0, 148.61127471923828, 148.61127471923828], u'StartTimes': [1637356364.0], u'SubmitTimes': [1637356152.0], u'JobIds': [u'8968394.0'], u'EndTimes': [1637356424.0], u'Restarts': 0, u'RecordedSite': True, u'State': u'finished', u'ResidentSetSize': [2820], u'TotalUserCpuTimeHistory': [0], u'SiteHistory': [u'Unknown', u'T2_CH_CERN', u'T2_CH_CERN'], u'TotalSysCpuTimeHistory': [0]}, u'10': {u'Retries': 0, u'WallDurations': [61.0, 147.61127471923828, 147.61127471923828], u'StartTimes': [1637356365.0], u'SubmitTimes': [1637356152.0], u'JobIds': [u'8968393.0'], u'EndTimes': [1637356426.0], u'Restarts': 0, u'RecordedSite': True, u'State': u'finished', u'ResidentSetSize': [28580], u'TotalUserCpuTimeHistory': [2], u'SiteHistory': [u'Unknown', u'T2_CH_CERN', u'T2_CH_CERN'], u'TotalSysCpuTimeHistory': [2]}, u'13': {u'Retries': 0, u'WallDurations': [60.0, 147.61127471923828, 147.61127471923828], u'StartTimes': [1637356365.0], u'SubmitTimes': [1637356152.0], u'JobIds': [u'8968396.0'], u'EndTimes': [1637356425.0], u'Restarts': 0, u'RecordedSite': True, u'State': u'finished', u'ResidentSetSize': [3000], u'TotalUserCpuTimeHistory': [0], u'SiteHistory': [u'Unknown', u'T2_CH_CERN', u'T2_CH_CERN'], u'TotalSysCpuTimeHistory': [0]}, u'12': {u'Retries': 0, u'WallDurations': [62.0, 148.61127471923828, 148.61127471923828], u'StartTimes': [1637356364.0], u'SubmitTimes': [1637356152.0], u'JobIds': [u'8968395.0'], u'EndTimes': [1637356426.0], u'Restarts': 0, u'RecordedSite': True, u'State': u'finished', u'ResidentSetSize': [56104], u'TotalUserCpuTimeHistory': [5], u'SiteHistory': [u'Unknown', u'T2_CH_CERN', u'T2_CH_CERN'], u'TotalSysCpuTimeHistory': [2]}, u'15': {u'Retries': 0, u'WallDurations': [61.0, 148.61127471923828, 148.61127471923828], u'StartTimes': [1637356364.0], u'SubmitTimes': [1637356152.0], u'JobIds': [u'8968398.0'], u'EndTimes': [1637356425.0], u'Restarts': 0, u'RecordedSite': True, u'State': u'finished', u'ResidentSetSize': [2820], u'TotalUserCpuTimeHistory': [0], u'SiteHistory': [u'Unknown', u'T2_CH_CERN', u'T2_CH_CERN'], u'TotalSysCpuTimeHistory': [0]}, u'14': {u'Retries': 0, u'WallDurations': [95.0, 146.61127471923828, 146.61127471923828], u'StartTimes': [1637356366.0], u'SubmitTimes': [1637356152.0], u'JobIds': [u'8968397.0'], u'EndTimes': [1637356461.0], u'Restarts': 0, u'RecordedSite': True, u'State': u'finished', u'ResidentSetSize': [6844], u'TotalUserCpuTimeHistory': [12], u'SiteHistory': [u'Unknown', u'T2_CH_CERN', u'T2_CH_CERN'], u'TotalSysCpuTimeHistory': [4]}, u'17': {u'Retries': 0, u'WallDurations': [62.0, 147.61127471923828, 147.61127471923828], u'StartTimes': [1637356365.0], u'SubmitTimes': [1637356152.0], u'JobIds': [u'8968400.0'], u'EndTimes': [1637356427.0], u'Restarts': 0, u'RecordedSite': True, u'State': u'finished', u'ResidentSetSize': [41636], u'TotalUserCpuTimeHistory': [6], u'SiteHistory': [u'Unknown', u'T2_CH_CERN', u'T2_CH_CERN'], u'TotalSysCpuTimeHistory': [4]}, u'16': {u'Retries': 0, u'WallDurations': [61.0, 149.61127471923828, 149.61127471923828], u'StartTimes': [1637356363.0], u'SubmitTimes': [1637356152.0], u'JobIds': [u'8968399.0'], u'EndTimes': [1637356424.0], u'Restarts': 0, u'RecordedSite': True, u'State': u'finished', u'ResidentSetSize': [2860], u'TotalUserCpuTimeHistory': [2], u'SiteHistory': [u'Unknown', u'T2_CH_CERN', u'T2_CH_CERN'], u'TotalSysCpuTimeHistory': [3]}, u'19': {u'Retries': 0, u'WallDurations': [61.0, 148.61127471923828, 148.61127471923828], u'StartTimes': [1637356364.0], u'SubmitTimes': [1637356153.0], u'JobIds': [u'8968402.0'], u'EndTimes': [1637356425.0], u'Restarts': 0, u'RecordedSite': True, u'State': u'finished', u'ResidentSetSize': [83224], u'TotalUserCpuTimeHistory': [5], u'SiteHistory': [u'Unknown', u'T2_CH_CERN', u'T2_CH_CERN'], u'TotalSysCpuTimeHistory': [3]}, u'18': {u'Retries': 0, u'WallDurations': [61.0, 147.61127471923828, 147.61127471923828], u'StartTimes': [1637356365.0], u'SubmitTimes': [1637356152.0], u'JobIds': [u'8968401.0'], u'EndTimes': [1637356426.0], u'Restarts': 0, u'RecordedSite': True, u'State': u'finished', u'ResidentSetSize': [33088], u'TotalUserCpuTimeHistory': [2], u'SiteHistory': [u'Unknown', u'T2_CH_CERN', u'T2_CH_CERN'], u'TotalSysCpuTimeHistory': [2]}, u'31': {u'Retries': 0, u'WallDurations': [61.0, 149.61127471923828, 149.61127471923828], u'StartTimes': [1637356363.0], u'SubmitTimes': [1637356159.0], u'JobIds': [u'8968414.0'], u'EndTimes': [1637356424.0], u'Restarts': 0, u'RecordedSite': True, u'State': u'finished', u'ResidentSetSize': [2960], u'TotalUserCpuTimeHistory': [6], u'SiteHistory': [u'Unknown', u'T2_CH_CERN', u'T2_CH_CERN'], u'TotalSysCpuTimeHistory': [3]}, u'30': {u'Retries': 0, u'WallDurations': [62.0, 148.61127471923828, 148.61127471923828], u'StartTimes': [1637356364.0], u'SubmitTimes': [1637356159.0], u'JobIds': [u'8968413.0'], u'EndTimes': [1637356426.0], u'Restarts': 0, u'RecordedSite': True, u'State': u'finished', u'ResidentSetSize': [29616], u'TotalUserCpuTimeHistory': [0], u'SiteHistory': [u'Unknown', u'T2_CH_CERN', u'T2_CH_CERN'], u'TotalSysCpuTimeHistory': [0]}, u'37': {u'Retries': 0, u'WallDurations': [90.0, 146.61127471923828, 146.61127471923828], u'StartTimes': [1637356366.0], u'SubmitTimes': [1637356160.0], u'JobIds': [u'8968420.0'], u'EndTimes': [1637356456.0], u'Restarts': 0, u'RecordedSite': True, u'State': u'finished', u'ResidentSetSize': [35036], u'TotalUserCpuTimeHistory': [3], u'SiteHistory': [u'Unknown', u'T2_CH_CERN', u'T2_CH_CERN'], u'TotalSysCpuTimeHistory': [4]}, u'36': {u'Retries': 0, u'WallDurations': [9.0, 146.61127471923828, 403.0], u'StartTimes': [1637356366.0], u'SubmitTimes': [1637356160.0], u'JobIds': [u'8968419.0'], u'EndTimes': [1637356769.0], u'Restarts': 0, u'RecordedSite': True, u'State': u'finished', u'ResidentSetSize': [447872], u'TotalUserCpuTimeHistory': [8], u'SiteHistory': [u'Unknown', u'T2_CH_CERN', u'T2_CH_CERN'], u'TotalSysCpuTimeHistory': [6]}, u'35': {u'Retries': 0, u'WallDurations': [61.0, 148.61127471923828, 148.61127471923828], u'StartTimes': [1637356364.0], u'SubmitTimes': [1637356160.0], u'JobIds': [u'8968418.0'], u'EndTimes': [1637356425.0], u'Restarts': 0, u'RecordedSite': True, u'State': u'finished', u'ResidentSetSize': [2960], u'TotalUserCpuTimeHistory': [6], u'SiteHistory': [u'Unknown', u'T2_CH_CERN', u'T2_CH_CERN'], u'TotalSysCpuTimeHistory': [3]}, u'34': {u'Retries': 0, u'WallDurations': [61.0, 148.61127471923828, 148.61127471923828], u'StartTimes': [1637356364.0], u'SubmitTimes': [1637356159.0], u'JobIds': [u'8968417.0'], u'EndTimes': [1637356425.0], u'Restarts': 0, u'RecordedSite': True, u'State': u'finished', u'ResidentSetSize': [2968], u'TotalUserCpuTimeHistory': [0], u'SiteHistory': [u'Unknown', u'T2_CH_CERN', u'T2_CH_CERN'], u'TotalSysCpuTimeHistory': [0]}, u'33': {u'Retries': 0, u'WallDurations': [9.0, 146.61127471923828, 389.0], u'StartTimes': [1637356366.0], u'SubmitTimes': [1637356159.0], u'JobIds': [u'8968416.0'], u'EndTimes': [1637356755.0], u'Restarts': 0, u'RecordedSite': True, u'State': u'finished', u'ResidentSetSize': [426812], u'TotalUserCpuTimeHistory': [9], u'SiteHistory': [u'Unknown', u'T2_CH_CERN', u'T2_CH_CERN'], u'TotalSysCpuTimeHistory': [5]}, u'32': {u'Retries': 0, u'WallDurations': [62.0, 147.61127471923828, 147.61127471923828], u'StartTimes': [1637356365.0], u'SubmitTimes': [1637356159.0], u'JobIds': [u'8968415.0'], u'EndTimes': [1637356427.0], u'Restarts': 0, u'RecordedSite': True, u'State': u'finished', u'ResidentSetSize': [62660], u'TotalUserCpuTimeHistory': [2], u'SiteHistory': [u'Unknown', u'T2_CH_CERN', u'T2_CH_CERN'], u'TotalSysCpuTimeHistory': [2]}, u'50': {u'Retries': 0, u'WallDurations': [61.0, 146.61127471923828, 146.61127471923828], u'StartTimes': [1637356366.0], u'SubmitTimes': [1637356161.0], u'JobIds': [u'8968432.0'], u'EndTimes': [1637356427.0], u'Restarts': 0, u'RecordedSite': True, u'State': u'finished', u'ResidentSetSize': [48616], u'TotalUserCpuTimeHistory': [3], u'SiteHistory': [u'Unknown', u'T2_CH_CERN', u'T2_CH_CERN'], u'TotalSysCpuTimeHistory': [3]}}, u'jobLogCheckpoint': u'jel-1637443263.pkl'}\n"
     ]
    }
   ],
   "source": [
    "print(statusCache)"
   ]
  },
  {
   "cell_type": "code",
   "execution_count": 15,
   "metadata": {},
   "outputs": [],
   "source": [
    "def translateStatus(statusToTr, dbstatus):\n",
    "    \"\"\"Translate from DAGMan internal integer status to a string.\n",
    "\n",
    "    Uses parameter `dbstatus` to clarify if the state is due to the\n",
    "    user killing the task.\n",
    "    \"\"\"\n",
    "    statusToTr = {1: 'SUBMITTED', 2: 'SUBMITTED', 3: 'SUBMITTED', 4: 'SUBMITTED', 5: 'COMPLETED', 6: 'FAILED'}[\n",
    "        statusToTr]\n",
    "    # Unfortunately DAG code for killed task is 6, just as like for finished DAGs with failed jobs\n",
    "    # Relabeling the status from 'FAILED' to 'FAILED (KILLED)' if a successful kill command was issued\n",
    "    if statusToTr == 'FAILED' and dbstatus == 'KILLED':\n",
    "        statusToTr = 'FAILED (KILLED)'\n",
    "    return statusToTr\n"
   ]
  },
  {
   "cell_type": "code",
   "execution_count": 16,
   "metadata": {},
   "outputs": [],
   "source": [
    "def collapseDAGStatus(dagInfo, dbstatus):\n",
    "    \"\"\"Collapse the status of one or several DAGs to a single one.\n",
    "\n",
    "    Take into account that subdags can be submitted to the queue on the\n",
    "    schedd, but not yet started.\n",
    "    \"\"\"\n",
    "    status_order = ['SUBMITTED', 'FAILED', 'FAILED (KILLED)', 'COMPLETED']\n",
    "\n",
    "    subDagInfos = dagInfo.get('SubDags', {})\n",
    "    subDagStatus = dagInfo.get('SubDagStatus', {})\n",
    "    # Regular splitting, return status of DAG\n",
    "    if len(subDagInfos) == 0 and len(subDagStatus) == 0:\n",
    "        return translateStatus(dagInfo['DagStatus'], dbstatus)\n",
    "\n",
    "    def check_queued(statusOrSUBMITTED):\n",
    "        # 99 is the status to expect a submitted DAG. If there are less\n",
    "        # actual DAG status informations than expected DAGs, at least one\n",
    "        # DAG has to be queued.\n",
    "        if dbstatus != 'KILLED' and len(subDagInfos) < len([k for k in subDagStatus if subDagStatus[k] == 99]):\n",
    "            return 'SUBMITTED'\n",
    "        return statusOrSUBMITTED\n",
    "\n",
    "    # If the processing DAG is still running, we are 'SUBMITTED',\n",
    "    # still.\n",
    "    if len(subDagInfos) > 0:\n",
    "        state = translateStatus(subDagInfos[0]['DagStatus'], dbstatus)\n",
    "        if state == 'SUBMITTED':\n",
    "            return state\n",
    "    # Tails active: return most active tail status according to\n",
    "    # `status_order`\n",
    "    if len(subDagInfos) > 1:\n",
    "        states = [translateStatus(subDagInfos[k]['DagStatus'], dbstatus) for k in subDagInfos if k > 0]\n",
    "        for iStatus in status_order:\n",
    "            if states.count(iStatus) > 0:\n",
    "                return check_queued(iStatus)\n",
    "    # If no tails are active, return the status of the processing DAG.\n",
    "    if len(subDagInfos) > 0:\n",
    "        return check_queued(translateStatus(subDagInfos[0]['DagStatus'], dbstatus))\n",
    "    return check_queued(translateStatus(dagInfo['DagStatus'], dbstatus))\n"
   ]
  },
  {
   "cell_type": "code",
   "execution_count": 19,
   "metadata": {},
   "outputs": [
    {
     "name": "stdout",
     "output_type": "stream",
     "text": [
      "{u'SubDagStatus': {}, u'Timestamp': 1637357050, u'NodesTotal': 50, u'SubDags': {}, u'DagStatus': 5}\n",
      "COMPLETED\n"
     ]
    }
   ],
   "source": [
    "statusCacheInfo = statusCache['nodes']\n",
    "dagInfo = statusCacheInfo['DagStatus']\n",
    "print(dagInfo)\n",
    "dagStatus = collapseDAGStatus(dagInfo, dbStatus)\n",
    "print(dagStatus)\n",
    "status = dagStatus"
   ]
  },
  {
   "cell_type": "code",
   "execution_count": 20,
   "metadata": {},
   "outputs": [],
   "source": [
    "def getTaskStatusFromSched(self, workflow, logger):\n",
    "\n",
    "    def translateStatus(statusToTr, dbstatus):\n",
    "        \"\"\"Translate from DAGMan internal integer status to a string.\n",
    "\n",
    "        Uses parameter `dbstatus` to clarify if the state is due to the\n",
    "        user killing the task.\n",
    "        \"\"\"\n",
    "        statusToTr = {1: 'SUBMITTED', 2: 'SUBMITTED', 3: 'SUBMITTED', 4: 'SUBMITTED', 5: 'COMPLETED', 6: 'FAILED'}[\n",
    "            statusToTr]\n",
    "        # Unfortunately DAG code for killed task is 6, just as like for finished DAGs with failed jobs\n",
    "        # Relabeling the status from 'FAILED' to 'FAILED (KILLED)' if a successful kill command was issued\n",
    "        if statusToTr == 'FAILED' and dbstatus == 'KILLED':\n",
    "            statusToTr = 'FAILED (KILLED)'\n",
    "        return statusToTr\n",
    "\n",
    "    def collapseDAGStatus(dagInfo, dbstatus):\n",
    "        \"\"\"Collapse the status of one or several DAGs to a single one.\n",
    "\n",
    "        Take into account that subdags can be submitted to the queue on the\n",
    "        schedd, but not yet started.\n",
    "        \"\"\"\n",
    "        status_order = ['SUBMITTED', 'FAILED', 'FAILED (KILLED)', 'COMPLETED']\n",
    "\n",
    "        subDagInfos = dagInfo.get('SubDags', {})\n",
    "        subDagStatus = dagInfo.get('SubDagStatus', {})\n",
    "        # Regular splitting, return status of DAG\n",
    "        if len(subDagInfos) == 0 and len(subDagStatus) == 0:\n",
    "            return translateStatus(dagInfo['DagStatus'], dbstatus)\n",
    "\n",
    "        def check_queued(statusOrSUBMITTED):\n",
    "            # 99 is the status to expect a submitted DAG. If there are less\n",
    "            # actual DAG status informations than expected DAGs, at least one\n",
    "            # DAG has to be queued.\n",
    "            if dbstatus != 'KILLED' and len(subDagInfos) < len([k for k in subDagStatus if subDagStatus[k] == 99]):\n",
    "                return 'SUBMITTED'\n",
    "            return statusOrSUBMITTED\n",
    "\n",
    "        # If the processing DAG is still running, we are 'SUBMITTED',\n",
    "        # still.\n",
    "        if len(subDagInfos) > 0:\n",
    "            state = translateStatus(subDagInfos[0]['DagStatus'], dbstatus)\n",
    "            if state == 'SUBMITTED':\n",
    "                return state\n",
    "        # Tails active: return most active tail status according to\n",
    "        # `status_order`\n",
    "        if len(subDagInfos) > 1:\n",
    "            states = [translateStatus(subDagInfos[k]['DagStatus'], dbstatus) for k in subDagInfos if k > 0]\n",
    "            for iStatus in status_order:\n",
    "                if states.count(iStatus) > 0:\n",
    "                    return check_queued(iStatus)\n",
    "        # If no tails are active, return the status of the processing DAG.\n",
    "        if len(subDagInfos) > 0:\n",
    "            return check_queued(translateStatus(subDagInfos[0]['DagStatus'], dbstatus))\n",
    "        return check_queued(translateStatus(dagInfo['DagStatus'], dbstatus))\n",
    "\n",
    "    crabDBInfo, _, _ = self.crabServer.get(api='task', data={'subresource':'search', 'workflow':workflow})\n",
    "    dbStatus = getColumn(crabDBInfo, 'tm_task_status')\n",
    "    if dbStatus == 'KILLED':\n",
    "        return 'KILLED'\n",
    "    proxiedWebDir = getProxiedWebDir(crabserver=self.crabServer, task=workflow, logFunction=logger)\n",
    "    # Download status_cache file\n",
    "    _, local_status_cache_pkl = tempfile.mkstemp(dir='/tmp', prefix='status-cache-', suffix='.pkl')\n",
    "    url = proxiedWebDir + \"/status_cache.pkl\"\n",
    "    host = 'https://cmsweb.cern.ch'  # this is actually dummy but WMCore.Requests needs it\n",
    "    cdict = {'cert':self.config.serviceCert, 'key':self.config.serviceKey}\n",
    "    req = Requests(url=host, idict=cdict)\n",
    "    _, ret = req.downloadFile(local_status_cache_pkl, url)\n",
    "    if not ret.status == 200:\n",
    "        raise Exception('download attempt returned HTTP code %d' % ret.status)\n",
    "    with open(local_status_cache_pkl, 'rb') as fp:\n",
    "        statusCache = pickle.load(fp)\n",
    "    statusCacheInfo = statusCache['nodes']\n",
    "    dagInfo = statusCacheInfo['DagStatus']\n",
    "    dagStatus = self.collapseDAGStatus(dagInfo, dbStatus)\n",
    "    #statusToString = {1:'SUBMITTED', 2:'SUBMITTED', 3:'SUBMITTED', 4:'SUBMITTED', 5:'COMPLETED', 6:'FAILED'}\n",
    "    #status = statusToString[dagStatus]\n",
    "    status = dagStatus\n",
    "    return status\n"
   ]
  },
  {
   "cell_type": "code",
   "execution_count": 2,
   "metadata": {},
   "outputs": [],
   "source": [
    "import os\n",
    "confFile = os.path.abspath('PublisherConfig.py')\n",
    "configurationFile = confFile"
   ]
  },
  {
   "cell_type": "code",
   "execution_count": 3,
   "metadata": {},
   "outputs": [],
   "source": [
    "from Publisher.PublisherMaster import Master"
   ]
  },
  {
   "cell_type": "code",
   "execution_count": 3,
   "metadata": {
    "scrolled": true
   },
   "outputs": [],
   "source": [
    "master = Master(confFile=configurationFile)\n"
   ]
  },
  {
   "cell_type": "code",
   "execution_count": null,
   "metadata": {},
   "outputs": [],
   "source": []
  }
 ],
 "metadata": {
  "kernelspec": {
   "display_name": "Python 2",
   "language": "python",
   "name": "python2"
  },
  "language_info": {
   "codemirror_mode": {
    "name": "ipython",
    "version": 2
   },
   "file_extension": ".py",
   "mimetype": "text/x-python",
   "name": "python",
   "nbconvert_exporter": "python",
   "pygments_lexer": "ipython2",
   "version": "2.7.14+"
  }
 },
 "nbformat": 4,
 "nbformat_minor": 2
}
