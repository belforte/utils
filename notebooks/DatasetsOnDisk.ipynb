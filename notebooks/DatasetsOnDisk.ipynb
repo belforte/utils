{
 "cells": [
  {
   "cell_type": "code",
   "execution_count": 1,
   "metadata": {},
   "outputs": [],
   "source": [
    "# this works on my Ubuntu laptop. It will work on lxplus as well\n",
    "# I pip-installed DBSclient\n",
    "# as per https://github.com/dmwm/DBSClient\n",
    "# I create a proxy and point $X509_USER_PROXY to it\n",
    "# and I do:\n",
    "# export DBS3_CLIENT_ROOT=/home/belforte/.local/lib/python3.8/site-packages/dbs\n",
    "# export RUCIO_CONFIG=/cvmfs/cms.cern.ch/rucio/x86_64/slc7/py3/current/etc/rucio.cfg\n",
    "# (it is good to have /cvmfs on my laptop)"
   ]
  },
  {
   "cell_type": "code",
   "execution_count": 2,
   "metadata": {},
   "outputs": [],
   "source": [
    "# sort of standard listof imports, not all used here\n",
    "import sys\n",
    "import os\n",
    "import logging\n",
    "import dbs.apis.dbsClient as dbsClient\n",
    "import random\n",
    "import pprint\n",
    "import json\n",
    "import time\n",
    "import pandas as pd\n",
    "import numpy as np\n",
    "import matplotlib.pyplot as plt\n",
    "from datetime import datetime\n"
   ]
  },
  {
   "cell_type": "code",
   "execution_count": 3,
   "metadata": {},
   "outputs": [],
   "source": [
    "# just in case something we use needs a logger\n",
    "logging.basicConfig(stream=sys.stdout, level=logging.INFO)\n",
    "logger = logging.getLogger('Logger')"
   ]
  },
  {
   "cell_type": "code",
   "execution_count": 4,
   "metadata": {},
   "outputs": [],
   "source": [
    "# initialize a DBS API client\n",
    "dbsUrl = 'https://cmsweb.cern.ch/dbs/prod/global/DBSReader'\n",
    "dbs = dbsClient.DbsApi(url=dbsUrl)"
   ]
  },
  {
   "cell_type": "code",
   "execution_count": 5,
   "metadata": {},
   "outputs": [
    {
     "name": "stdout",
     "output_type": "stream",
     "text": [
      "7867\n"
     ]
    }
   ],
   "source": [
    "# look for datasets parially on disk. AOD looks a goot candidate\n",
    "allAODs = [d['dataset'] for d in dbs.listDatasets(dataset='/*/*/AOD')]\n",
    "print(len(allAODs))"
   ]
  },
  {
   "cell_type": "code",
   "execution_count": 6,
   "metadata": {},
   "outputs": [
    {
     "name": "stdout",
     "output_type": "stream",
     "text": [
      "500\n"
     ]
    }
   ],
   "source": [
    "# pick not-too-old datasets and prefer the UltraLegacy campaign\n",
    "AODs = [dataset for dataset in allAODs if 'UL' in dataset and\n",
    "        not any (tag in dataset for tag in\n",
    "             ['2013', '2014', '2015','2017','REPLAY','Commissioning']\n",
    "                )\n",
    "        ]\n",
    "print(len(AODs))"
   ]
  },
  {
   "cell_type": "code",
   "execution_count": 7,
   "metadata": {},
   "outputs": [
    {
     "data": {
      "text/plain": [
       "{'account_type': 'USER',\n",
       " 'suspended_at': None,\n",
       " 'created_at': '2020-04-28T23:25:20',\n",
       " 'account': 'belforte',\n",
       " 'status': 'ACTIVE',\n",
       " 'email': 'Stefano.Belforte@cern.ch',\n",
       " 'deleted_at': None,\n",
       " 'updated_at': '2020-04-28T23:25:20'}"
      ]
     },
     "execution_count": 7,
     "metadata": {},
     "output_type": "execute_result"
    }
   ],
   "source": [
    "# intialize a rucio client\n",
    "from rucio.client import Client\n",
    "rucio=Client()\n",
    "# test it\n",
    "rucio.whoami()"
   ]
  },
  {
   "cell_type": "code",
   "execution_count": 8,
   "metadata": {},
   "outputs": [],
   "source": [
    "# this method lists #blocks/#block-on-disk\n",
    "def locateBlocks(dataset):\n",
    "    onDisk=False\n",
    "    locationsMap={}\n",
    "    blocksDicts=dbs.listBlocks(dataset=dataset)\n",
    "    blocks = [d['block_name'] for d in blocksDicts]\n",
    "    \n",
    "    for block in blocks:\n",
    "        replicas = set()\n",
    "        response = rucio.list_dataset_replicas(scope='cms', name=block, deep=True)\n",
    "        for item in response:\n",
    "            # same as complete='y' used for PhEDEx\n",
    "            if item['state'].upper() == 'AVAILABLE' and not 'Tape' in item['rse']:\n",
    "                replicas.add(item['rse'])\n",
    "                onDisk=True\n",
    "        if replicas:  # only fill map for blocks which have at least one location\n",
    "            locationsMap[block] = replicas\n",
    "    if locationsMap and onDisk:\n",
    "        print ('dset #blocks/#onDisk: %s %d/%d' % (dataset, len(blocks), len(locationsMap)) )\n",
    "        #print(locationsMap)"
   ]
  },
  {
   "cell_type": "code",
   "execution_count": 9,
   "metadata": {},
   "outputs": [
    {
     "name": "stdout",
     "output_type": "stream",
     "text": [
      "dset #blocks/#onDisk: /BTagCSV/Run2016E-21Feb2020_UL2016_HIPM_rsb-v1/AOD 33/1\n",
      "dset #blocks/#onDisk: /BTagCSV/Run2016F-21Feb2020_UL2016-v1/AOD 5/5\n",
      "dset #blocks/#onDisk: /DoubleMuonLowMass/Run2016D-21Feb2020_UL2016_HIPM-v1/AOD 16/6\n",
      "dset #blocks/#onDisk: /DoubleMuonLowMass/Run2016E-21Feb2020_UL2016_HIPM-v1/AOD 18/2\n",
      "dset #blocks/#onDisk: /DoubleMuonLowMass/Run2016F-21Feb2020_UL2016_HIPM-v1/AOD 18/7\n",
      "dset #blocks/#onDisk: /DoubleMuonLowMass/Run2016G-21Feb2020_UL2016-v1/AOD 55/33\n"
     ]
    }
   ],
   "source": [
    "# sample same AOD's\n",
    "for dataset in AODs[5:7]:\n",
    "    locateBlocks(dataset)\n",
    "for dataset in AODs[110:115]:\n",
    "    locateBlocks(dataset)"
   ]
  }
 ],
 "metadata": {
  "kernelspec": {
   "display_name": "Python 3",
   "language": "python",
   "name": "python3"
  },
  "language_info": {
   "codemirror_mode": {
    "name": "ipython",
    "version": 3
   },
   "file_extension": ".py",
   "mimetype": "text/x-python",
   "name": "python",
   "nbconvert_exporter": "python",
   "pygments_lexer": "ipython3",
   "version": "3.8.10"
  }
 },
 "nbformat": 4,
 "nbformat_minor": 2
}
