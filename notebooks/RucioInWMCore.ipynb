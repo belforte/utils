{
 "cells": [
  {
   "cell_type": "code",
   "execution_count": 69,
   "metadata": {},
   "outputs": [],
   "source": [
    "from rucio.client import Client\n",
    "\n",
    "#help(Client)"
   ]
  },
  {
   "cell_type": "code",
   "execution_count": 70,
   "metadata": {},
   "outputs": [
    {
     "name": "stdout",
     "output_type": "stream",
     "text": [
      "1.23.11.post3\n",
      "{u'status': u'ACTIVE', u'account': u'belforte', u'account_type': u'USER', u'created_at': u'2020-04-28T23:25:20', u'updated_at': u'2020-04-28T23:25:20', u'suspended_at': None, u'deleted_at': None, u'email': u'Stefano.Belforte@cern.ch'}\n"
     ]
    }
   ],
   "source": [
    "import os\n",
    "Rucio_cert = os.getenv('X509_USER_CERT')\n",
    "Rucio_key = os.getenv('X509_USER_KEY')\n",
    "Rucio_host = 'https://cms-rucio.cern.ch'\n",
    "Rucio_account = 'belforte'\n",
    "Rucio_authUrl = 'https://cms-rucio-auth.cern.ch'\n",
    "Rucio_caPath = '/etc/grid-security/certificates/'\n",
    "\n",
    "nativeClient = Client(\n",
    "    rucio_host=Rucio_host, auth_host=Rucio_authUrl, ca_cert=Rucio_caPath,\n",
    "    account=Rucio_account,\n",
    "    creds={\"client_cert\": Rucio_cert, \"client_key\": Rucio_key},\n",
    "    auth_type = 'x509'\n",
    ")\n",
    "ret=nativeClient.ping()\n",
    "print(ret['version'])\n",
    "ret = nativeClient.whoami()\n",
    "print(ret)"
   ]
  },
  {
   "cell_type": "code",
   "execution_count": 71,
   "metadata": {},
   "outputs": [],
   "source": [
    "import os\n",
    "import sys\n",
    "import pprint\n",
    "import logging\n",
    "\n",
    "from WMCore.Services.Rucio.Rucio import Rucio\n",
    "\n",
    "logging.basicConfig(stream=sys.stdout, level=logging.INFO)\n",
    "logger = logging.getLogger('Logger')\n"
   ]
  },
  {
   "cell_type": "code",
   "execution_count": 72,
   "metadata": {},
   "outputs": [
    {
     "name": "stdout",
     "output_type": "stream",
     "text": [
      "INFO:Logger:Initializing WMCore Rucio client\n",
      "INFO:Logger:WMCore Rucio client OK\n"
     ]
    }
   ],
   "source": [
    "\n",
    "logger.info(\"Initializing WMCore Rucio client\")\n",
    "logger.setLevel(logging.ERROR)\n",
    "rucio_config_dict = {\n",
    "    \"phedexCompatible\": True,\n",
    "    \"auth_type\": \"x509\", \"ca_cert\": '/etc/grid-security/certificates/',\n",
    "    \"logger\": logger,\n",
    "    \"creds\": {\"client_cert\": '/data/certs/servicecert.pem', \"client_key\": '/data/certs/servicekey.pem'}\n",
    "}\n",
    "user='belforte'\n",
    "username = user\n",
    "rucioClient = Rucio(\n",
    "    user,\n",
    "    hostUrl='https://cms-rucio.cern.ch',\n",
    "    authUrl='https://cms-rucio-auth.cern.ch',\n",
    "    configDict=rucio_config_dict\n",
    ")\n",
    "rucioClient.whoAmI()\n",
    "logger.setLevel(logging.INFO)\n",
    "logger.info(\"WMCore Rucio client OK\")\n"
   ]
  },
  {
   "cell_type": "code",
   "execution_count": 73,
   "metadata": {},
   "outputs": [
    {
     "name": "stdout",
     "output_type": "stream",
     "text": [
      "INFO:Logger:found 4 blocks\n",
      "[u'/MuonEG/Run2016B-v1/RAW#86bc5e3e-1519-11e6-a3f4-001e67ac06a0',\n",
      " u'/MuonEG/Run2016B-v1/RAW#898359ee-1760-11e6-8d9e-001e67ac06a0',\n",
      " u'/MuonEG/Run2016B-v1/RAW#9da47a68-1682-11e6-8d9e-001e67ac06a0',\n",
      " u'/MuonEG/Run2016B-v1/RAW#cd4b1b62-13aa-11e6-a3f4-001e67ac06a0']\n"
     ]
    }
   ],
   "source": [
    "# in CRAB tape requests start with a block list\n",
    "# start with a dataset on tape\n",
    "dataset = '/MuonEG/Run2016B-v1/RAW'\n",
    "\n",
    "# can't use DBS Api in this Jupyter. Ask Rucio via WMCore wrapper\n",
    "blocks = rucioClient.getBlocksInContainer(dataset)\n",
    "\n",
    "logger.info('found %d blocks', len(blocks))\n",
    "pprint.pprint(blocks)\n"
   ]
  },
  {
   "cell_type": "code",
   "execution_count": 74,
   "metadata": {},
   "outputs": [
    {
     "name": "stdout",
     "output_type": "stream",
     "text": [
      "[{'name': u'/MuonEG/Run2016B-v1/RAW#86bc5e3e-1519-11e6-a3f4-001e67ac06a0',\n",
      "  'scope': 'cms'},\n",
      " {'name': u'/MuonEG/Run2016B-v1/RAW#898359ee-1760-11e6-8d9e-001e67ac06a0',\n",
      "  'scope': 'cms'},\n",
      " {'name': u'/MuonEG/Run2016B-v1/RAW#9da47a68-1682-11e6-8d9e-001e67ac06a0',\n",
      "  'scope': 'cms'},\n",
      " {'name': u'/MuonEG/Run2016B-v1/RAW#cd4b1b62-13aa-11e6-a3f4-001e67ac06a0',\n",
      "  'scope': 'cms'}]\n"
     ]
    }
   ],
   "source": [
    "dids = [{'scope':'cms','name':block} for block in blocks]\n",
    "#dids = [{'scope':'user.belforte:','name':block} for block in blocks]\n",
    "pprint.pprint(dids)"
   ]
  },
  {
   "cell_type": "code",
   "execution_count": 75,
   "metadata": {},
   "outputs": [
    {
     "name": "stdout",
     "output_type": "stream",
     "text": [
      "16797810203\n",
      "121278508448\n",
      "2191775241\n",
      "2240775706\n",
      "total = 142 GBytes\n",
      "total = 0 TBytes\n"
     ]
    }
   ],
   "source": [
    "#print(len(blocks))\n",
    "size = 0\n",
    "for block in blocks:\n",
    "    block_replicas = nativeClient.list_dataset_replicas('cms',block)\n",
    "    bytes = block_replicas.next()['bytes']\n",
    "    print (bytes)\n",
    "    size += bytes\n",
    "#replicas=list(block_replicas)\n",
    "print('total = %d GBytes' % (size / 1e9))\n",
    "print('total = %d TBytes' % (size / 1e12))"
   ]
  },
  {
   "cell_type": "code",
   "execution_count": 77,
   "metadata": {},
   "outputs": [
    {
     "name": "stdout",
     "output_type": "stream",
     "text": [
      "[{'scope': 'cms', 'name': u'/MuonEG/Run2016B-v1/RAW#86bc5e3e-1519-11e6-a3f4-001e67ac06a0'}, {'scope': 'cms', 'name': u'/MuonEG/Run2016B-v1/RAW#898359ee-1760-11e6-8d9e-001e67ac06a0'}]\n",
      "201120_131722.belforte_crab_20201120_141717\n",
      "/TapeRecall/201120_131722.belforte_crab_20201120_141717/USER\n",
      "INFO:Logger:contrainer creation is True\n"
     ]
    }
   ],
   "source": [
    "#let's assume we want recall 2 blocks\n",
    "didsToRecall=dids[0:2]\n",
    "print(didsToRecall)\n",
    "# make a new container to hold them, embedding task name\n",
    "taskName='201120_131722:belforte_crab_20201120_141717'.replace(':','.')\n",
    "print(taskName)\n",
    "ctrName='/TapeRecall/%s/USER' % taskName\n",
    "print(ctrName)\n",
    "created = rucioClient.createContainer(ctrName, scope='user.belforte')\n",
    "logger.info('contrainer creation is %s', created)"
   ]
  },
  {
   "cell_type": "code",
   "execution_count": 78,
   "metadata": {},
   "outputs": [],
   "source": [
    "containerName = ctrName\n",
    "myScope = 'user.belforte'\n",
    "containerDid = {'scope':myScope, 'name':containerName}"
   ]
  },
  {
   "cell_type": "code",
   "execution_count": 79,
   "metadata": {},
   "outputs": [
    {
     "name": "stdout",
     "output_type": "stream",
     "text": [
      "[{'name': u'/MuonEG/Run2016B-v1/RAW#86bc5e3e-1519-11e6-a3f4-001e67ac06a0',\n",
      "  'scope': 'cms'},\n",
      " {'name': u'/MuonEG/Run2016B-v1/RAW#898359ee-1760-11e6-8d9e-001e67ac06a0',\n",
      "  'scope': 'cms'}]\n",
      "'/TapeRecall/201120_131722.belforte_crab_20201120_141717/USER'\n"
     ]
    },
    {
     "ename": "DuplicateContent",
     "evalue": "Data identifier already added to the destination content.\nDetails: [u'(cx_Oracle.IntegrityError) ORA-00001: unique constraint (CMS_RUCIO_PROD.CONTENTS_PK) violated']",
     "output_type": "error",
     "traceback": [
      "\u001b[0;31m\u001b[0m",
      "\u001b[0;31mDuplicateContent\u001b[0mTraceback (most recent call last)",
      "\u001b[0;32m<ipython-input-79-30a1440fdcd6>\u001b[0m in \u001b[0;36m<module>\u001b[0;34m()\u001b[0m\n\u001b[1;32m      4\u001b[0m \u001b[0;31m#ret=nativeCli.add_datasets_to_container('user.belforte', containerName, didsToRecall)\u001b[0m\u001b[0;34m\u001b[0m\u001b[0;34m\u001b[0m\u001b[0m\n\u001b[1;32m      5\u001b[0m \u001b[0;31m#ret=nativeCli.add_containers_to_container('user.belforte', containerName, didsToRecall)\u001b[0m\u001b[0;34m\u001b[0m\u001b[0;34m\u001b[0m\u001b[0m\n\u001b[0;32m----> 6\u001b[0;31m \u001b[0mret\u001b[0m \u001b[0;34m=\u001b[0m \u001b[0mnativeClient\u001b[0m\u001b[0;34m.\u001b[0m\u001b[0mattach_dids\u001b[0m\u001b[0;34m(\u001b[0m\u001b[0;34m'user.belforte'\u001b[0m\u001b[0;34m,\u001b[0m \u001b[0mcontainerName\u001b[0m\u001b[0;34m,\u001b[0m \u001b[0mdidsToRecall\u001b[0m\u001b[0;34m)\u001b[0m\u001b[0;34m\u001b[0m\u001b[0m\n\u001b[0m",
      "\u001b[0;32m/cvmfs/cms.cern.ch/rucio/current/lib/python2.7/site-packages/rucio/client/didclient.pyc\u001b[0m in \u001b[0;36mattach_dids\u001b[0;34m(self, scope, name, dids, rse)\u001b[0m\n\u001b[1;32m    204\u001b[0m         \u001b[0;32melse\u001b[0m\u001b[0;34m:\u001b[0m\u001b[0;34m\u001b[0m\u001b[0m\n\u001b[1;32m    205\u001b[0m             \u001b[0mexc_cls\u001b[0m\u001b[0;34m,\u001b[0m \u001b[0mexc_msg\u001b[0m \u001b[0;34m=\u001b[0m \u001b[0mself\u001b[0m\u001b[0;34m.\u001b[0m\u001b[0m_get_exception\u001b[0m\u001b[0;34m(\u001b[0m\u001b[0mheaders\u001b[0m\u001b[0;34m=\u001b[0m\u001b[0mr\u001b[0m\u001b[0;34m.\u001b[0m\u001b[0mheaders\u001b[0m\u001b[0;34m,\u001b[0m \u001b[0mstatus_code\u001b[0m\u001b[0;34m=\u001b[0m\u001b[0mr\u001b[0m\u001b[0;34m.\u001b[0m\u001b[0mstatus_code\u001b[0m\u001b[0;34m,\u001b[0m \u001b[0mdata\u001b[0m\u001b[0;34m=\u001b[0m\u001b[0mr\u001b[0m\u001b[0;34m.\u001b[0m\u001b[0mcontent\u001b[0m\u001b[0;34m)\u001b[0m\u001b[0;34m\u001b[0m\u001b[0m\n\u001b[0;32m--> 206\u001b[0;31m             \u001b[0;32mraise\u001b[0m \u001b[0mexc_cls\u001b[0m\u001b[0;34m(\u001b[0m\u001b[0mexc_msg\u001b[0m\u001b[0;34m)\u001b[0m\u001b[0;34m\u001b[0m\u001b[0m\n\u001b[0m\u001b[1;32m    207\u001b[0m \u001b[0;34m\u001b[0m\u001b[0m\n\u001b[1;32m    208\u001b[0m     \u001b[0;32mdef\u001b[0m \u001b[0mdetach_dids\u001b[0m\u001b[0;34m(\u001b[0m\u001b[0mself\u001b[0m\u001b[0;34m,\u001b[0m \u001b[0mscope\u001b[0m\u001b[0;34m,\u001b[0m \u001b[0mname\u001b[0m\u001b[0;34m,\u001b[0m \u001b[0mdids\u001b[0m\u001b[0;34m)\u001b[0m\u001b[0;34m:\u001b[0m\u001b[0;34m\u001b[0m\u001b[0m\n",
      "\u001b[0;31mDuplicateContent\u001b[0m: Data identifier already added to the destination content.\nDetails: [u'(cx_Oracle.IntegrityError) ORA-00001: unique constraint (CMS_RUCIO_PROD.CONTENTS_PK) violated']"
     ]
    }
   ],
   "source": [
    "# add blocks (datasets in Rucio language) to container\n",
    "pprint.pprint(didsToRecall)\n",
    "pprint.pprint(containerName)\n",
    "#ret=nativeCli.add_datasets_to_container('user.belforte', containerName, didsToRecall)\n",
    "#ret=nativeCli.add_containers_to_container('user.belforte', containerName, didsToRecall)\n",
    "ret = nativeClient.attach_dids('user.belforte', containerName, didsToRecall)"
   ]
  },
  {
   "cell_type": "code",
   "execution_count": 80,
   "metadata": {},
   "outputs": [
    {
     "name": "stdout",
     "output_type": "stream",
     "text": [
      "/TapeRecall/201120_131722.belforte_crab_20201120_141717/USER\n",
      "/TapeRecall/201120_131722.belforte_crab_20201120_141717/USER\n",
      "[{u'adler32': None, u'name': u'/MuonEG/Run2016B-v1/RAW#86bc5e3e-1519-11e6-a3f4-001e67ac06a0', u'bytes': None, u'scope': u'cms', u'type': u'DATASET', u'md5': None}, {u'adler32': None, u'name': u'/MuonEG/Run2016B-v1/RAW#898359ee-1760-11e6-8d9e-001e67ac06a0', u'bytes': None, u'scope': u'cms', u'type': u'DATASET', u'md5': None}, {u'adler32': None, u'name': u'/MuonEG/Run2016B-v1/RAW#9da47a68-1682-11e6-8d9e-001e67ac06a0', u'bytes': None, u'scope': u'cms', u'type': u'DATASET', u'md5': None}]\n"
     ]
    }
   ],
   "source": [
    "print(containerName)\n",
    "print(ctrName)\n",
    "cc=nativeClient.list_content('user.belforte',containerName)\n",
    "content = [i for i in cc]\n",
    "print(content)"
   ]
  },
  {
   "cell_type": "code",
   "execution_count": 81,
   "metadata": {},
   "outputs": [
    {
     "name": "stdout",
     "output_type": "stream",
     "text": [
      "{'scope': 'cms', 'name': u'/MuonEG/Run2016B-v1/RAW#86bc5e3e-1519-11e6-a3f4-001e67ac06a0'}\n",
      "{'scope': 'cms', 'name': u'/MuonEG/Run2016B-v1/RAW#898359ee-1760-11e6-8d9e-001e67ac06a0'}\n",
      "{'scope': 'cms', 'name': u'/MuonEG/Run2016B-v1/RAW#9da47a68-1682-11e6-8d9e-001e67ac06a0'}\n"
     ]
    }
   ],
   "source": [
    "did0=didsToRecall[0]\n",
    "did1=didsToRecall[1]\n",
    "did2=dids[2]\n",
    "print(did0)\n",
    "print(did1)\n",
    "print(did2)\n"
   ]
  },
  {
   "cell_type": "code",
   "execution_count": 83,
   "metadata": {},
   "outputs": [
    {
     "name": "stdout",
     "output_type": "stream",
     "text": [
      "/TapeRecall/201120_131722.belforte_crab_20201120_141717/USER\n",
      "{'scope': 'cms', 'name': u'/MuonEG/Run2016B-v1/RAW#898359ee-1760-11e6-8d9e-001e67ac06a0'}\n"
     ]
    },
    {
     "ename": "DuplicateContent",
     "evalue": "Data identifier already added to the destination content.\nDetails: [u'(cx_Oracle.IntegrityError) ORA-00001: unique constraint (CMS_RUCIO_PROD.CONTENTS_PK) violated']",
     "output_type": "error",
     "traceback": [
      "\u001b[0;31m\u001b[0m",
      "\u001b[0;31mDuplicateContent\u001b[0mTraceback (most recent call last)",
      "\u001b[0;32m<ipython-input-83-2d9166814b23>\u001b[0m in \u001b[0;36m<module>\u001b[0;34m()\u001b[0m\n\u001b[1;32m      2\u001b[0m \u001b[0;32mprint\u001b[0m\u001b[0;34m(\u001b[0m\u001b[0mdid1\u001b[0m\u001b[0;34m)\u001b[0m\u001b[0;34m\u001b[0m\u001b[0m\n\u001b[1;32m      3\u001b[0m \u001b[0;31m# can't use WMCore/ServicesRucio.attachDIDs because it does not support dids and container to be in different scope\u001b[0m\u001b[0;34m\u001b[0m\u001b[0;34m\u001b[0m\u001b[0m\n\u001b[0;32m----> 4\u001b[0;31m \u001b[0mret\u001b[0m\u001b[0;34m=\u001b[0m\u001b[0mnativeClient\u001b[0m\u001b[0;34m.\u001b[0m\u001b[0mattach_dids\u001b[0m\u001b[0;34m(\u001b[0m\u001b[0;34m'user.belforte'\u001b[0m\u001b[0;34m,\u001b[0m \u001b[0mcontainerName\u001b[0m\u001b[0;34m,\u001b[0m \u001b[0;34m[\u001b[0m\u001b[0mdid2\u001b[0m\u001b[0;34m]\u001b[0m\u001b[0;34m)\u001b[0m\u001b[0;34m\u001b[0m\u001b[0m\n\u001b[0m",
      "\u001b[0;32m/cvmfs/cms.cern.ch/rucio/current/lib/python2.7/site-packages/rucio/client/didclient.pyc\u001b[0m in \u001b[0;36mattach_dids\u001b[0;34m(self, scope, name, dids, rse)\u001b[0m\n\u001b[1;32m    204\u001b[0m         \u001b[0;32melse\u001b[0m\u001b[0;34m:\u001b[0m\u001b[0;34m\u001b[0m\u001b[0m\n\u001b[1;32m    205\u001b[0m             \u001b[0mexc_cls\u001b[0m\u001b[0;34m,\u001b[0m \u001b[0mexc_msg\u001b[0m \u001b[0;34m=\u001b[0m \u001b[0mself\u001b[0m\u001b[0;34m.\u001b[0m\u001b[0m_get_exception\u001b[0m\u001b[0;34m(\u001b[0m\u001b[0mheaders\u001b[0m\u001b[0;34m=\u001b[0m\u001b[0mr\u001b[0m\u001b[0;34m.\u001b[0m\u001b[0mheaders\u001b[0m\u001b[0;34m,\u001b[0m \u001b[0mstatus_code\u001b[0m\u001b[0;34m=\u001b[0m\u001b[0mr\u001b[0m\u001b[0;34m.\u001b[0m\u001b[0mstatus_code\u001b[0m\u001b[0;34m,\u001b[0m \u001b[0mdata\u001b[0m\u001b[0;34m=\u001b[0m\u001b[0mr\u001b[0m\u001b[0;34m.\u001b[0m\u001b[0mcontent\u001b[0m\u001b[0;34m)\u001b[0m\u001b[0;34m\u001b[0m\u001b[0m\n\u001b[0;32m--> 206\u001b[0;31m             \u001b[0;32mraise\u001b[0m \u001b[0mexc_cls\u001b[0m\u001b[0;34m(\u001b[0m\u001b[0mexc_msg\u001b[0m\u001b[0;34m)\u001b[0m\u001b[0;34m\u001b[0m\u001b[0m\n\u001b[0m\u001b[1;32m    207\u001b[0m \u001b[0;34m\u001b[0m\u001b[0m\n\u001b[1;32m    208\u001b[0m     \u001b[0;32mdef\u001b[0m \u001b[0mdetach_dids\u001b[0m\u001b[0;34m(\u001b[0m\u001b[0mself\u001b[0m\u001b[0;34m,\u001b[0m \u001b[0mscope\u001b[0m\u001b[0;34m,\u001b[0m \u001b[0mname\u001b[0m\u001b[0;34m,\u001b[0m \u001b[0mdids\u001b[0m\u001b[0;34m)\u001b[0m\u001b[0;34m:\u001b[0m\u001b[0;34m\u001b[0m\u001b[0m\n",
      "\u001b[0;31mDuplicateContent\u001b[0m: Data identifier already added to the destination content.\nDetails: [u'(cx_Oracle.IntegrityError) ORA-00001: unique constraint (CMS_RUCIO_PROD.CONTENTS_PK) violated']"
     ]
    }
   ],
   "source": [
    "print(containerName)\n",
    "print(did1)\n",
    "# can't use WMCore/ServicesRucio.attachDIDs because it does not support dids and container to be in different scope\n",
    "ret=nativeClient.attach_dids('user.belforte', containerName, [did2])"
   ]
  },
  {
   "cell_type": "code",
   "execution_count": 84,
   "metadata": {},
   "outputs": [],
   "source": [
    "ret=nativeClient.list_content('user.belforte', containerName)\n",
    "content = [c for c in ret]"
   ]
  },
  {
   "cell_type": "code",
   "execution_count": 86,
   "metadata": {
    "scrolled": true
   },
   "outputs": [],
   "source": [
    "#pprint.pprint(content)"
   ]
  },
  {
   "cell_type": "code",
   "execution_count": 91,
   "metadata": {},
   "outputs": [
    {
     "name": "stdout",
     "output_type": "stream",
     "text": [
      "{u'rse': u'T3_IT_Trieste'}\n"
     ]
    }
   ],
   "source": [
    "RSE_EXPRESSION = 'ddm_quota>0&tier=2&rse_type=DISK'\n",
    "RSE_EXPRESSION = 'T3_IT_Trieste'\n",
    "rl=nativeClient.list_rses(RSE_EXPRESSION)\n",
    "for r in rl:\n",
    "    print(r)\n",
    "WEIGHT = 'ddm_quota'\n",
    "DAYS = 14 * 24 * 3600\n",
    "copies = 1"
   ]
  },
  {
   "cell_type": "code",
   "execution_count": 93,
   "metadata": {},
   "outputs": [],
   "source": [
    "# createReplicationRule(self, names, rseExpression, scope='cms', copies=1, **kwargs):\n",
    "rules = nativeClient.add_replication_rule([containerDid], copies, 'T3_IT_Trieste',\n",
    "                                  weight=None, lifetime=DAYS, account=user, grouping='ALL',\n",
    "                                  activity='Analysis Input', comment='Staged from tape for %s' % username,\n",
    "                                  ask_approval=True, asynchronous=True,\n",
    "                                           )"
   ]
  },
  {
   "cell_type": "code",
   "execution_count": 94,
   "metadata": {},
   "outputs": [
    {
     "name": "stdout",
     "output_type": "stream",
     "text": [
      "[u'5cc7dca7f29647c684d74461bdfeb3fa']\n"
     ]
    }
   ],
   "source": [
    "print(rules)"
   ]
  },
  {
   "cell_type": "code",
   "execution_count": null,
   "metadata": {},
   "outputs": [],
   "source": [
    "resp = nativeClient.list_rule"
   ]
  },
  {
   "cell_type": "code",
   "execution_count": null,
   "metadata": {},
   "outputs": [],
   "source": [
    "# createReplicationRule(self, names, rseExpression, scope='cms', copies=1, **kwargs):\n",
    "rules = rucioClient.createReplicationRule(containerName, 'T3_IT_Trieste', scope='user.belforte', copies=1,\n",
    "                                  weight=None, lifetime=DAYS, account=user,\n",
    "                                  activity='Analysis Input', comment='Staged from tape for %s' % username,\n",
    "                                  ask_approval=True, asynchronous=True,\n",
    "                                           )"
   ]
  },
  {
   "cell_type": "code",
   "execution_count": null,
   "metadata": {},
   "outputs": [],
   "source": [
    "rule = rules[0]\n",
    "\n",
    "print(\"Rule %s has been created for %s\" % (rule, user))\n",
    "print(\"This rule can be monitored through DAS by checking the dataset or directly through Rucio with:\")\n",
    "print(\" rucio rule-info %s\" % rule)\n",
    "\n",
    "rule_info = rucli.get_replication_rule(rule)\n",
    "\n",
    "print('This rule expires at %s after which the data may be removed if not used occassionally'\n",
    "      % rule_info['expires_at'])\n",
    "\n",
    "print(\"This rule can be found by asking Rucio with:\")\n",
    "print(\" rucio list-rules %s:%s\" % ('user.belforte', containerName))"
   ]
  },
  {
   "cell_type": "code",
   "execution_count": 60,
   "metadata": {},
   "outputs": [],
   "source": [
    "ruleId='cf9db5949a894efc9f39805a64ac275a'\n",
    "resp=nativeClient.get_replication_rule(ruleId)"
   ]
  },
  {
   "cell_type": "code",
   "execution_count": 68,
   "metadata": {},
   "outputs": [
    {
     "name": "stdout",
     "output_type": "stream",
     "text": [
      "Rule cf9db5949a894efc9f39805a64ac275a has been created for user belforte\n",
      "This rule can be monitored through DAS by checking the dataset or directly through Rucio with:\n",
      " rucio rule-info cf9db5949a894efc9f39805a64ac275a\n",
      "This rule expires at 2020-12-21 17:54:43 after which the data may be removed if not used\n",
      "This rule can be found by asking Rucio with:\n",
      " rucio list-rules user.belforte:/TapeRecall/201120_131722.belforte_crab_20201120_141717/USER\n"
     ]
    }
   ],
   "source": [
    "rule_info=resp\n",
    "rule = ruleId\n",
    "\n",
    "\n",
    "print(\"Rule %s has been created for user %s\" % (rule, user))\n",
    "print(\"This rule can be monitored through DAS by checking the dataset or directly through Rucio with:\")\n",
    "print(\" rucio rule-info %s\" % rule)\n",
    "\n",
    "rule_info = nativeClient.get_replication_rule(rule)\n",
    "\n",
    "print('This rule expires at %s after which the data may be removed if not used'\n",
    "      % rule_info['expires_at'])\n",
    "\n",
    "print(\"This rule can be found by asking Rucio with:\")\n",
    "print(\" rucio list-rules %s:%s\" % ('user.belforte', containerName))"
   ]
  },
  {
   "cell_type": "code",
   "execution_count": 61,
   "metadata": {},
   "outputs": [
    {
     "name": "stdout",
     "output_type": "stream",
     "text": [
      "{u'account': u'belforte',\n",
      " u'activity': u'Analysis Input',\n",
      " u'child_rule_id': None,\n",
      " u'comments': u'Staged from tape for belforte',\n",
      " u'copies': 1,\n",
      " u'created_at': datetime.datetime(2020, 12, 21, 16, 9, 1),\n",
      " u'did_type': u'CONTAINER',\n",
      " u'eol_at': None,\n",
      " u'error': None,\n",
      " u'expires_at': datetime.datetime(2020, 12, 21, 17, 54, 43),\n",
      " u'grouping': u'DATASET',\n",
      " u'id': u'cf9db5949a894efc9f39805a64ac275a',\n",
      " u'ignore_account_limit': True,\n",
      " u'ignore_availability': False,\n",
      " u'locked': False,\n",
      " u'locks_ok_cnt': 55,\n",
      " u'locks_replicating_cnt': 14,\n",
      " u'locks_stuck_cnt': 0,\n",
      " u'meta': None,\n",
      " u'name': u'/TapeRecall/201120_131722.belforte_crab_20201120_141717/USER',\n",
      " u'notification': u'NO',\n",
      " u'priority': 3,\n",
      " u'purge_replicas': False,\n",
      " u'rse_expression': u'T2_IT_Pisa',\n",
      " u'scope': u'user.belforte',\n",
      " u'source_replica_expression': None,\n",
      " u'split_container': False,\n",
      " u'state': u'REPLICATING',\n",
      " u'stuck_at': None,\n",
      " u'subscription_id': None,\n",
      " u'updated_at': datetime.datetime(2020, 12, 21, 17, 2, 53),\n",
      " u'weight': None}\n"
     ]
    }
   ],
   "source": [
    "pprint.pprint(resp)"
   ]
  },
  {
   "cell_type": "code",
   "execution_count": null,
   "metadata": {},
   "outputs": [],
   "source": []
  }
 ],
 "metadata": {
  "kernelspec": {
   "display_name": "Python 2",
   "language": "python",
   "name": "python2"
  },
  "language_info": {
   "codemirror_mode": {
    "name": "ipython",
    "version": 2
   },
   "file_extension": ".py",
   "mimetype": "text/x-python",
   "name": "python",
   "nbconvert_exporter": "python",
   "pygments_lexer": "ipython2",
   "version": "2.7.5"
  }
 },
 "nbformat": 4,
 "nbformat_minor": 2
}
