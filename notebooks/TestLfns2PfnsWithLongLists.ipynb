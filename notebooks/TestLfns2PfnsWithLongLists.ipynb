{
 "cells": [
  {
   "cell_type": "code",
   "execution_count": 1,
   "metadata": {},
   "outputs": [],
   "source": [
    "import os"
   ]
  },
  {
   "cell_type": "code",
   "execution_count": 2,
   "metadata": {},
   "outputs": [],
   "source": [
    "from rucio.client import Client\n",
    "cli=Client()"
   ]
  },
  {
   "cell_type": "code",
   "execution_count": 4,
   "metadata": {},
   "outputs": [],
   "source": [
    "site='T2_DE_DESY'\n",
    "lfn1='/store/user/belforte/afile-%s.root'"
   ]
  },
  {
   "cell_type": "code",
   "execution_count": 51,
   "metadata": {},
   "outputs": [
    {
     "name": "stdout",
     "output_type": "stream",
     "text": [
      "50 FileNames created\n"
     ]
    }
   ],
   "source": [
    "NUM = 50\n",
    "fns=[]\n",
    "fns = ['/afile-%s.root'%i for i in range(NUM)]\n",
    "print(\"%d FileNames created\" % len(fns))"
   ]
  },
  {
   "cell_type": "code",
   "execution_count": 52,
   "metadata": {},
   "outputs": [
    {
     "name": "stdout",
     "output_type": "stream",
     "text": [
      "50\n",
      "/store/user/belforte/a123456789a123456789a123456789a123456789a123456789a123456789a123456789a123456789a123456789a123456789/afile-0.root\n",
      "/store/user/belforte/a123456789a123456789a123456789a123456789a123456789a123456789a123456789a123456789a123456789a123456789/afile-49.root\n",
      "135\n"
     ]
    }
   ],
   "source": [
    "# from filename to LFN - add a directory path\n",
    "path = '/store/user/belforte/'\n",
    "filler = 'a123456789'\n",
    "fuller = filler*10\n",
    "#print(filler)\n",
    "#print(fuller)\n",
    "lfns = [ path + fuller + file for file in fns]\n",
    "print(len(lfns))\n",
    "print(lfns[0])\n",
    "print(lfns[-1])\n",
    "print(len(lfns[-1]))\n",
    "\n",
    "dids= ['cms:'+lfn for lfn in lfns]"
   ]
  },
  {
   "cell_type": "code",
   "execution_count": 54,
   "metadata": {},
   "outputs": [],
   "source": [
    "#print(dids)"
   ]
  },
  {
   "cell_type": "code",
   "execution_count": 55,
   "metadata": {},
   "outputs": [],
   "source": [
    "pd=cli.lfns2pfns(site,dids,operation='write')"
   ]
  },
  {
   "cell_type": "code",
   "execution_count": 56,
   "metadata": {},
   "outputs": [
    {
     "name": "stdout",
     "output_type": "stream",
     "text": [
      "50\n"
     ]
    }
   ],
   "source": [
    "print len(pd.keys())"
   ]
  },
  {
   "cell_type": "code",
   "execution_count": null,
   "metadata": {},
   "outputs": [],
   "source": []
  }
 ],
 "metadata": {
  "kernelspec": {
   "display_name": "Python 2",
   "language": "python",
   "name": "python2"
  },
  "language_info": {
   "codemirror_mode": {
    "name": "ipython",
    "version": 2
   },
   "file_extension": ".py",
   "mimetype": "text/x-python",
   "name": "python",
   "nbconvert_exporter": "python",
   "pygments_lexer": "ipython2",
   "version": "2.7.5"
  }
 },
 "nbformat": 4,
 "nbformat_minor": 2
}
