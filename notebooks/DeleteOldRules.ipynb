{
 "cells": [
  {
   "cell_type": "code",
   "execution_count": 18,
   "id": "f5711f4f",
   "metadata": {},
   "outputs": [],
   "source": [
    "# delete all rules created N months ago\n",
    "from datetime import datetime, timedelta\n",
    "from rucio.client import Client\n"
   ]
  },
  {
   "cell_type": "code",
   "execution_count": 58,
   "id": "1184708d",
   "metadata": {},
   "outputs": [],
   "source": [
    "days=0"
   ]
  },
  {
   "cell_type": "code",
   "execution_count": 20,
   "id": "83f94a07",
   "metadata": {},
   "outputs": [
    {
     "name": "stdout",
     "output_type": "stream",
     "text": [
      "using Rucio account: belforte\n"
     ]
    }
   ],
   "source": [
    "rucio=Client()\n",
    "me=rucio.whoami()\n",
    "account=me['account']\n",
    "print(f\"using Rucio account: {account}\")"
   ]
  },
  {
   "cell_type": "code",
   "execution_count": 21,
   "id": "67479c3e",
   "metadata": {},
   "outputs": [
    {
     "name": "stdout",
     "output_type": "stream",
     "text": [
      "64 rules exist for account: belforte\n"
     ]
    }
   ],
   "source": [
    "# get rules for this account\n",
    "ruleGen = rucio.list_replication_rules({'account': account})\n",
    "rules = list(ruleGen)\n",
    "print(f\"{len(rules)} rules exist for account: {account}\")"
   ]
  },
  {
   "cell_type": "code",
   "execution_count": 64,
   "id": "90cfaea1",
   "metadata": {},
   "outputs": [],
   "source": [
    "def getRuleQuota(id):\n",
    "    \"\"\" return quota needed by this rule in MB \"\"\"\n",
    "    size = 0\n",
    "    ruleG = rucio.list_replication_rules({'id':id})\n",
    "    try:\n",
    "        rule=next(ruleG)\n",
    "        replicaG = rucio.list_replicas([{'scope': rule['scope'], 'name': rule['name']}])\n",
    "        for rep in replicaG:\n",
    "            size += rep['bytes']\n",
    "    except StopIteration:\n",
    "        pass\n",
    "\n",
    "    return size/1e6"
   ]
  },
  {
   "cell_type": "code",
   "execution_count": 65,
   "id": "f9ca27d0",
   "metadata": {},
   "outputs": [
    {
     "name": "stdout",
     "output_type": "stream",
     "text": [
      "298.306411\n"
     ]
    }
   ],
   "source": [
    "id='a256abc2f93f40eba5b3b0107d686956'\n",
    "quota = getRuleQuota(id)\n",
    "print(quota)"
   ]
  },
  {
   "cell_type": "code",
   "execution_count": 69,
   "id": "23a3a1e4",
   "metadata": {},
   "outputs": [
    {
     "name": "stdout",
     "output_type": "stream",
     "text": [
      "will delete rule 998abb1f29b84cd5a984b531ba26f962 created on 2023-08-07 16:05:28 -      0.562 MB\n",
      "will delete rule 50ee3109481f49e8928a29ab675eaf67 created on 2023-08-07 09:15:47 -      0.562 MB\n",
      "will delete rule e137d7bd2d90455ca7dc438820160f34 created on 2023-08-07 09:06:06 -      0.562 MB\n",
      "will delete rule 50c656c243824b88b80d4f6e646e8743 created on 2023-08-04 17:21:38 -       1.12 MB\n",
      "will delete rule 3543cf8372d44ad490c4e59d5d06d6c7 created on 2023-08-04 19:20:03 -       1.12 MB\n",
      "will delete rule 5b35c397491d4f7b892bc424c554cc52 created on 2023-08-06 17:15:21 -      0.562 MB\n",
      "will delete rule f8e6ca5e14c1458d9536dde6e8056aa2 created on 2023-08-06 17:43:45 -      0.562 MB\n",
      "will delete rule 4a3323dd1ebd43ecb358a76969a113b9 created on 2023-08-06 21:23:43 -      0.562 MB\n",
      "will delete rule cbc0d24de64349dba83ef317f3faf02b created on 2023-08-06 17:27:07 -      0.562 MB\n",
      "will delete rule 5ef399213c664ac2957dc9f6cdea5011 created on 2023-08-06 16:47:04 -       1.12 MB\n",
      "will delete rule 5f0a7a12b4be4fec9747af6e12032676 created on 2023-08-07 12:27:33 -      0.562 MB\n",
      "will delete rule fcfe3ae65ee4448782a2d8b3fcd34c27 created on 2023-08-18 14:35:37 -       70.9 MB\n",
      "will delete rule bb30fc6490b84e4181fadc37b655b59a created on 2023-08-21 12:55:35 -       70.9 MB\n",
      "will delete rule dc5872dbf26c4ec0ac22bfee6bae724f created on 2023-07-07 17:42:10 -       1.82 MB\n",
      "will delete rule 8b1d8bf1c1574242a5b2ef6e4d82efba created on 2023-08-17 21:23:01 -       11.1 MB\n",
      "will delete rule b900e30f81b046acbacf1824c176cedb created on 2023-08-17 19:19:26 -       20.1 MB\n",
      "will delete rule aa0d09c05b274af4a4d563740dbff4cc created on 2023-08-17 20:44:15 -       11.1 MB\n",
      "will delete rule 0642451d74bb4b67a5aac3d237c78837 created on 2023-08-18 19:17:02 -       70.9 MB\n",
      "will delete rule 73f7bced63c74e9ba7b55556580ec2a9 created on 2023-08-18 16:46:34 -       70.9 MB\n",
      "will delete rule 3e5c3a1c1f8b46e7b261a50bae331031 created on 2023-08-22 14:16:38 -   3.62e+02 MB\n",
      "will delete rule 2ba2046638a244a496d442d9015329b8 created on 2023-08-22 19:55:12 -       60.3 MB\n",
      "will delete rule d64c134adb92497590447ae385fd4a4d created on 2023-08-21 10:35:49 -       70.9 MB\n",
      "will delete rule 2aaf85db5c884d30afb77e88cb4d32f5 created on 2023-08-23 16:28:34 -   1.86e+02 MB\n",
      "will delete rule 460bff17b4be425fa73b00e9d8467512 created on 2023-08-23 16:17:24 -       5.27 MB\n",
      "will delete rule fe1c5a08bb8740af918dbb12425eb18a created on 2023-08-21 14:05:44 -   3.62e+02 MB\n",
      "will delete rule 2272dcb4632148f3893ce84841b3bad3 created on 2023-08-24 19:30:23 -   1.24e+02 MB\n",
      "will delete rule 233f5bb8c71248baacea200a11205ad9 created on 2023-08-23 15:26:17 -       33.4 MB\n",
      "will delete rule 82e2b1bc5a2142399ca049b2ca687c2b created on 2023-08-29 15:49:50 -        0.0 MB\n",
      "will delete rule 69c5519a55b44a20a32cf543f0d9f664 created on 2023-08-24 15:16:57 -   1.24e+02 MB\n",
      "will delete rule a4b6850e091e42c3a9a3f2b739a9187b created on 2023-08-24 14:16:25 -   2.98e+02 MB\n",
      "will delete rule 9af41627f24a45858926995c40754867 created on 2023-08-24 19:37:20 -       7.09 MB\n",
      "will delete rule 6e0befe50328445dbddb17d1f1314cd2 created on 2023-08-23 15:50:48 -       2.74 MB\n",
      "will delete rule addd74fd95254367b44b726c1f33012b created on 2023-08-23 20:58:59 -       6.11 MB\n",
      "will delete rule c3cb116aff564d449fdb14c479bb6333 created on 2023-08-24 15:11:53 -       56.0 MB\n",
      "will delete rule edf8f6fe73c2448892a4ff39b3f5f3a9 created on 2023-08-24 14:16:37 -       6.38 MB\n",
      "will delete rule af7b7bec3349430088ad7fcf60b79644 created on 2023-08-24 14:23:30 -   1.38e+02 MB\n",
      "will delete rule a256abc2f93f40eba5b3b0107d686956 created on 2023-08-23 20:55:45 -   2.98e+02 MB\n",
      "will delete rule 6904ad6084fe4e32835620aad68d8382 created on 2023-08-23 20:54:36 -   3.11e+02 MB\n",
      "will delete rule f17f38cd254142658b88ef5dba9efe3b created on 2023-08-24 15:15:52 -       7.07 MB\n",
      "will delete rule a0e33dcbfd47418f9bfc5029f9ea58c3 created on 2023-08-25 10:16:33 -   1.24e+02 MB\n",
      "will delete rule 7274bb39421949b989545875ef7da86a created on 2023-08-29 15:54:54 -   1.07e+02 MB\n",
      "will delete rule 025bb1cb324245cda03e83413e04f3c3 created on 2023-08-28 13:31:06 -   1.24e+02 MB\n",
      "will delete rule 4b71b7d35d374a3c9ad474bf6a7f0bf5 created on 2023-07-07 21:42:09 -       1.82 MB\n",
      "will delete rule 75a5601a7d6646edbea15cbc9c6a016a created on 2023-07-07 17:26:40 -       1.82 MB\n",
      "will delete rule f4d8441a0df440d59577777f0a2086b4 created on 2023-09-07 15:38:05 -       33.4 MB\n",
      "will delete rule 0d0a451b5bb44856ae0d645a452d7165 created on 2023-09-07 15:38:05 -        0.0 MB\n",
      "will delete rule f9302bd5e3564c878d2cefd61322ad3a created on 2024-01-24 14:55:42 -        0.0 MB\n",
      "will delete rule b4288fac12e542b2a834dd7fe62197e5 created on 2024-02-01 17:23:33 -        0.0 MB\n",
      "will delete rule 7552defba1184adb849ef17cee116115 created on 2024-01-24 14:55:42 -        0.0 MB\n",
      "will delete rule 8597a922c6b947dc80073ec8b262a598 created on 2024-02-01 16:55:45 -        0.0 MB\n",
      "will delete rule a32daca29fe941f9a8154fe6d14b1cb4 created on 2024-02-01 17:23:34 -        0.0 MB\n",
      "will delete rule 4acdfa1d410547fbbec4bacf11330860 created on 2024-02-01 16:55:45 -        0.0 MB\n",
      "will delete rule f33e58b8631c46518937be2de5bf2328 created on 2024-02-01 17:14:47 -        0.0 MB\n",
      "will delete rule d76572004201445aa4405d22104a12df created on 2024-01-24 21:16:32 -   7.73e+03 MB\n",
      "will delete rule 6e1b274e03ae4278bc8f94ec67eba3d8 created on 2024-01-24 21:41:25 -   7.73e+03 MB\n",
      "will delete rule c14a00c2c76b491d9588cc7152145583 created on 2024-02-01 21:59:09 -   2.85e+03 MB\n",
      "will delete rule b1c3a29e39b14936a53f4df97a80fa63 created on 2023-10-27 14:25:47 -      0.556 MB\n",
      "will delete rule 579e577534654beeadd5c661b98714c3 created on 2024-02-01 22:03:44 -        0.0 MB\n",
      "will delete rule 84036d7f4a8f42cab7ac554d7dfdd4d2 created on 2024-02-01 21:49:05 -   2.54e+03 MB\n",
      "will delete rule ab5542538c93491dbe9b91fce7742961 created on 2024-02-01 21:43:08 -       27.9 MB\n",
      "will delete rule fe3399d5fce446049d05130ffd79780a created on 2024-02-01 21:43:08 -       27.9 MB\n",
      "will delete rule 79a0d812e7cf4cac8ac8a7d46bbc5f0d created on 2024-02-01 21:59:09 -        0.0 MB\n",
      "will delete rule 9d96c58420a6448c85a0593d8cccb36c created on 2023-10-27 14:25:47 -      0.556 MB\n",
      "will delete rule 1f6fe272bce74c7680c637b93133bdf5 created on 2024-02-01 22:03:44 -    4.1e+03 MB\n",
      "TOTAL: 64 rules - 28203 MB = 28.203 GB\n"
     ]
    }
   ],
   "source": [
    "now = datetime.now()\n",
    "totalSize = 0\n",
    "totalRules = 0\n",
    "for rule in rules:\n",
    "    created=rule['created_at']\n",
    "    size = getRuleQuota(rule['id'])\n",
    "    isOld = (now - created) > timedelta(days=days)\n",
    "    if isOld:\n",
    "        totalRules +=1\n",
    "        totalSize += size\n",
    "        print(f\"will delete rule {rule['id']} created on {created} - {size:10.3} MB\")\n",
    "        #rr=rucio.delete_replication_rule(rule_id=rule['id'], purge_replicas=True)\n",
    "        #if rr:\n",
    "        #    print(f\"deleted rule {rule['id']} created on {created}\")\n",
    "        #else:\n",
    "        #    print(f\"ERROR deletion of rule {rule['ruleId']} failed\")\n",
    "              \n",
    "print(f\"TOTAL: {totalRules} rules - {totalSize:.0f} MB = {totalSize/1e3:0.3f} GB\")"
   ]
  },
  {
   "cell_type": "code",
   "execution_count": null,
   "id": "2a3fe311",
   "metadata": {},
   "outputs": [],
   "source": []
  }
 ],
 "metadata": {
  "kernelspec": {
   "display_name": "Python 3 (ipykernel)",
   "language": "python",
   "name": "python3"
  },
  "language_info": {
   "codemirror_mode": {
    "name": "ipython",
    "version": 3
   },
   "file_extension": ".py",
   "mimetype": "text/x-python",
   "name": "python",
   "nbconvert_exporter": "python",
   "pygments_lexer": "ipython3",
   "version": "3.10.12"
  }
 },
 "nbformat": 4,
 "nbformat_minor": 5
}
