{
 "cells": [
  {
   "cell_type": "code",
   "execution_count": 1,
   "id": "f5711f4f",
   "metadata": {},
   "outputs": [],
   "source": [
    "# delete all rules created N months ago\n",
    "from datetime import datetime, timedelta\n",
    "from rucio.client import Client\n"
   ]
  },
  {
   "cell_type": "code",
   "execution_count": 2,
   "id": "1184708d",
   "metadata": {},
   "outputs": [],
   "source": [
    "days=0"
   ]
  },
  {
   "cell_type": "code",
   "execution_count": 3,
   "id": "83f94a07",
   "metadata": {},
   "outputs": [
    {
     "name": "stdout",
     "output_type": "stream",
     "text": [
      "using Rucio account: belforte\n"
     ]
    }
   ],
   "source": [
    "rucio=Client()\n",
    "me=rucio.whoami()\n",
    "account=me['account']\n",
    "print(f\"using Rucio account: {account}\")"
   ]
  },
  {
   "cell_type": "code",
   "execution_count": 4,
   "id": "67479c3e",
   "metadata": {},
   "outputs": [
    {
     "name": "stdout",
     "output_type": "stream",
     "text": [
      "10 rules exist for account: belforte\n"
     ]
    }
   ],
   "source": [
    "# get rules for this account\n",
    "ruleGen = rucio.list_replication_rules({'account': account})\n",
    "rules = list(ruleGen)\n",
    "print(f\"{len(rules)} rules exist for account: {account}\")"
   ]
  },
  {
   "cell_type": "code",
   "execution_count": 5,
   "id": "2aa21ee2",
   "metadata": {},
   "outputs": [],
   "source": [
    "def getRuleQuota(id):\n",
    "    \"\"\" return quota needed by this rule in MB \"\"\"\n",
    "    size = 0\n",
    "    ruleG = rucio.list_replication_rules({'id':id})\n",
    "    try:\n",
    "        rule=next(ruleG)\n",
    "        replicaG = rucio.list_replicas([{'scope': rule['scope'], 'name': rule['name']}])\n",
    "        for rep in replicaG:\n",
    "            size += rep['bytes']\n",
    "    except StopIteration:\n",
    "        pass\n",
    "\n",
    "    return size/1e6"
   ]
  },
  {
   "cell_type": "code",
   "execution_count": 6,
   "id": "76963610",
   "metadata": {},
   "outputs": [
    {
     "name": "stdout",
     "output_type": "stream",
     "text": [
      "0.0\n"
     ]
    }
   ],
   "source": [
    "id='a256abc2f93f40eba5b3b0107d686956'\n",
    "quota = getRuleQuota(id)\n",
    "print(quota)"
   ]
  },
  {
   "cell_type": "code",
   "execution_count": 8,
   "id": "23a3a1e4",
   "metadata": {},
   "outputs": [
    {
     "name": "stdout",
     "output_type": "stream",
     "text": [
      "will delete rule f9302bd5e3564c878d2cefd61322ad3a created on 2024-01-24 14:55:42 -      0.000 MB\n",
      "will delete rule d76572004201445aa4405d22104a12df created on 2024-01-24 21:16:32 -   7733.942 MB\n",
      "will delete rule 6e1b274e03ae4278bc8f94ec67eba3d8 created on 2024-01-24 21:41:25 -   7733.942 MB\n",
      "will delete rule c14a00c2c76b491d9588cc7152145583 created on 2024-02-01 21:59:09 -   2845.587 MB\n",
      "will delete rule 579e577534654beeadd5c661b98714c3 created on 2024-02-01 22:03:44 -   4103.823 MB\n",
      "will delete rule 84036d7f4a8f42cab7ac554d7dfdd4d2 created on 2024-02-01 21:49:05 -   2542.482 MB\n",
      "will delete rule ab5542538c93491dbe9b91fce7742961 created on 2024-02-01 21:43:08 -     27.874 MB\n",
      "will delete rule fe3399d5fce446049d05130ffd79780a created on 2024-02-01 21:43:08 -     27.874 MB\n",
      "will delete rule 79a0d812e7cf4cac8ac8a7d46bbc5f0d created on 2024-02-01 21:59:09 -   2845.587 MB\n",
      "will delete rule 1f6fe272bce74c7680c637b93133bdf5 created on 2024-02-01 22:03:44 -   4103.823 MB\n",
      "TOTAL: 10 rules - 31965 MB = 31.965 GB\n"
     ]
    }
   ],
   "source": [
    "now = datetime.now()\n",
    "totalSize = 0\n",
    "totalRules = 0\n",
    "for rule in rules:\n",
    "    created=rule['created_at']\n",
    "    size = getRuleQuota(rule['id'])\n",
    "    isOld = (now - created) > timedelta(days=days)\n",
    "    if isOld:\n",
    "        totalRules +=1\n",
    "        totalSize += size\n",
    "        print(f\"will delete rule {rule['id']} created on {created} - {size:10.3f} MB\")\n",
    "        #rr=rucio.delete_replication_rule(rule_id=rule['id'], purge_replicas=True)\n",
    "        #if rr:\n",
    "        #    print(f\"deleted rule {rule['id']} created on {created}\")\n",
    "        #else:\n",
    "        #    print(f\"ERROR deletion of rule {rule['ruleId']} failed\")\n",
    "              \n",
    "print(f\"TOTAL: {totalRules} rules - {totalSize:.0f} MB = {totalSize/1e3:0.3f} GB\")"
   ]
  },
  {
   "cell_type": "code",
   "execution_count": null,
   "id": "2a3fe311",
   "metadata": {},
   "outputs": [],
   "source": []
  }
 ],
 "metadata": {
  "kernelspec": {
   "display_name": "Python 3 (ipykernel)",
   "language": "python",
   "name": "python3"
  },
  "language_info": {
   "codemirror_mode": {
    "name": "ipython",
    "version": 3
   },
   "file_extension": ".py",
   "mimetype": "text/x-python",
   "name": "python",
   "nbconvert_exporter": "python",
   "pygments_lexer": "ipython3",
   "version": "3.10.12"
  }
 },
 "nbformat": 4,
 "nbformat_minor": 5
}
