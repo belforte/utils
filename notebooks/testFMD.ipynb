{
 "cells": [
  {
   "cell_type": "code",
   "execution_count": 1,
   "id": "8e432572",
   "metadata": {},
   "outputs": [],
   "source": [
    "import os\n",
    "import sys\n",
    "import json\n",
    "import logging\n",
    "import pprint\n",
    "from RESTInteractions import CRABRest\n",
    "from ServerUtilities import getHashLfn, encodeRequest\n"
   ]
  },
  {
   "cell_type": "code",
   "execution_count": 2,
   "id": "0f83c533",
   "metadata": {},
   "outputs": [],
   "source": [
    "logger = logging.getLogger()\n",
    "logging.basicConfig(stream=sys.stdout, level=logging.INFO)\n",
    "logger.setLevel(logging.DEBUG)\n",
    "\n",
    "# if X509 vars are not defined, use default Publisher location\n",
    "userProxy = os.getenv('X509_USER_PROXY')\n",
    "if userProxy:\n",
    "    os.environ['X509_USER_CERT'] = userProxy\n",
    "    os.environ['X509_USER_KEY'] = userProxy\n",
    "if not os.getenv('X509_USER_CERT'):\n",
    "    os.environ['X509_USER_CERT'] = '/data/certs/servicecert.pem'\n",
    "if not os.getenv('X509_USER_KEY'):\n",
    "    os.environ['X509_USER_KEY'] = '/data/certs/servicekey.pem'\n",
    "    \n",
    "hostCert = os.getenv('X509_USER_CERT')\n",
    "hostKey = os.getenv('X509_USER_KEY')\n",
    "\n",
    "# CRAB REST API's\n",
    "\n",
    "restHost='cmsweb-test2.cern.ch'\n",
    "dbInst='dev'\n",
    "task='220509_172003:belforte_crab_20220509_191951'\n",
    "aFile='/store/user/belforte/GenericTTbar/Stefano-Test-220506/220509_172003/0000/kk_5.root'\n",
    "file1=aFile.replace('kk_5', 'kk_1')\n",
    "\n",
    "restHost='cmsweb-testbed.cern.ch'\n",
    "dbInst='preprod'\n",
    "task='220511_124622:belforte_crab_20220511_144618'\n",
    "aFile='/store/user/belforte/GenericTTbar/Stefano-Test-220506/220511_124622/0000/kk_1.root'\n",
    "file1=aFile\n",
    "\n",
    "crabServer = CRABRest(hostname=restHost, localcert=hostCert,\n",
    "                      localkey=hostKey, retry=3,\n",
    "                      userAgent='StressTest')\n",
    "crabServer.setDbInstance(dbInstance=dbInst)"
   ]
  },
  {
   "cell_type": "code",
   "execution_count": 3,
   "id": "bb692e1f",
   "metadata": {},
   "outputs": [
    {
     "data": {
      "text/plain": [
       "({'desc': {'columns': ['null']},\n",
       "  'result': [{'crabserver': 'Welcome', 'version': 'development'}]},\n",
       " 200,\n",
       " 'OK')"
      ]
     },
     "execution_count": 3,
     "metadata": {},
     "output_type": "execute_result"
    }
   ],
   "source": [
    "crab=crabServer\n",
    "crab.get(api='info')"
   ]
  },
  {
   "cell_type": "code",
   "execution_count": null,
   "id": "5f863cec",
   "metadata": {},
   "outputs": [],
   "source": [
    "file2=file1.replace('kk_1', 'kk_2')\n",
    "file3=file1.replace('kk_1', 'kk_3')\n",
    "file4=file1.replace('kk_1', 'kk_4')\n",
    "file5=file1.replace('kk_1', 'kk_5')\n",
    "file6=file1.replace('kk_1', 'kk_6')\n",
    "file7=file1.replace('kk_1', 'kk_7')\n",
    "file8=file1.replace('kk_1', 'kk_8')\n",
    "file9=file1.replace('kk_1', 'kk_9')\n",
    "file10=file1.replace('kk_1', 'kk_10')\n",
    "print(file2)"
   ]
  },
  {
   "cell_type": "code",
   "execution_count": null,
   "id": "5790cec8",
   "metadata": {},
   "outputs": [],
   "source": [
    "dataD={}\n",
    "dataD['taskname'] = task\n",
    "dataD['filetype'] = 'EDM'\n",
    "data = encodeRequest(dataD)\n",
    "print(data)\n",
    "result = crab.get(api='filemetadata', data=data)\n",
    "print(len(result))"
   ]
  },
  {
   "cell_type": "code",
   "execution_count": null,
   "id": "b36c67cd",
   "metadata": {},
   "outputs": [],
   "source": [
    "dataD={}\n",
    "dataD['taskname'] = task\n",
    "dataD['lfnList'] = file1\n",
    "\n",
    "data = encodeRequest(dataD)\n",
    "print(data)\n",
    "result = crab.get(api='filemetadata', data=data)\n",
    "print(len(result))"
   ]
  },
  {
   "cell_type": "code",
   "execution_count": null,
   "id": "2d7ded01",
   "metadata": {
    "scrolled": true
   },
   "outputs": [],
   "source": [
    "dataD={}\n",
    "dataD['taskname'] = task\n",
    "dataD['lfnList'] = [file1, file2, file3, file4, file5, file6, file7, file8, file9, file10]\n",
    "#dataD['lfnList'] = file3\n",
    "data = encodeRequest(dataD)\n",
    "#print(data)\n",
    "print(len(data))\n",
    "result = crab.get(api='filemetadata', data=data)\n",
    "\n",
    "#print(result)\n",
    "#print(result[0])\n",
    "resList=result[0]['result']\n",
    "print(len(resList))\n",
    "fm=json.loads(resList[0])\n",
    "pprint.pprint(fm['lfn'])\n",
    "fm=json.loads(resList[-1])\n",
    "pprint.pprint(fm['lfn'])"
   ]
  },
  {
   "cell_type": "code",
   "execution_count": null,
   "id": "3a7ef1fa",
   "metadata": {
    "scrolled": true
   },
   "outputs": [],
   "source": [
    "flist = dataD['lfnList']\n",
    "print(file1)\n",
    "dataDict={}\n",
    "dataDict['taskname'] = task\n",
    "f100 = []\n",
    "for i in range(3): f100 += flist\n",
    "dataDict['lfnList'] = f100\n",
    "print(len(f100))\n",
    "data=encodeRequest(dataDict)\n",
    "print(len(data))\n",
    "\n",
    "result = crab.get(api='filemetadata', data=data)\n",
    "#print(result)\n",
    "#print(result[0])\n",
    "resList=result[0]['result']\n",
    "print(len(resList))\n",
    "fm=json.loads(resList[0])\n",
    "pprint.pprint(fm['lfn'])\n",
    "fm=json.loads(resList[-1])\n",
    "pprint.pprint(fm['lfn'])"
   ]
  },
  {
   "cell_type": "code",
   "execution_count": 3,
   "id": "6de4a2c4",
   "metadata": {},
   "outputs": [],
   "source": [
    "# test things on a more interesting task with longer names and more jobs\n",
    "# where I can investigate possible differences in FMD retrieval\n",
    "task='220511_154229:cmsbot_crab_20220511_174227'\n",
    "file1='/store/user/cmsbot/GenericTTbar/autotest-1652283747/220511_154229/0000/output_1.root'\n",
    "# there are 999 files in this task's output (1 job failed)\n",
    "outputDataSet='/GenericTTbar/cmsbot-autotest-1652274055-94ba0e06145abd65ccb1d21786dc7e1d/USER'\n",
    "\n",
    "# it was run on preprod\n",
    "\n",
    "restHost='cmsweb.cern.ch'\n",
    "dbInst='preprod'\n",
    "\n",
    "crab = CRABRest(hostname=restHost, localcert=hostCert,\n",
    "                      localkey=hostKey, retry=3,\n",
    "                      userAgent='StressTest')\n",
    "crab.setDbInstance(dbInstance=dbInst)\n"
   ]
  },
  {
   "cell_type": "code",
   "execution_count": 4,
   "id": "fd084721",
   "metadata": {},
   "outputs": [
    {
     "name": "stdout",
     "output_type": "stream",
     "text": [
      "220511_154229:cmsbot_crab_20220511_174227\n",
      "taskname=220511_154229%3Acmsbot_crab_20220511_174227&filetype=EDM\n",
      "3\n",
      "999\n"
     ]
    }
   ],
   "source": [
    "# old way\n",
    "print(task)\n",
    "dataD={}\n",
    "dataD['taskname'] = task\n",
    "dataD['filetype'] = 'EDM'\n",
    "data = encodeRequest(dataD)\n",
    "print(data)\n",
    "result = crab.get(api='filemetadata', data=data)\n",
    "print(len(result))\n",
    "print(len(result[0]['result']))"
   ]
  },
  {
   "cell_type": "code",
   "execution_count": 8,
   "id": "16863d20",
   "metadata": {
    "scrolled": true
   },
   "outputs": [
    {
     "name": "stdout",
     "output_type": "stream",
     "text": [
      "999\n",
      "{'acquisitionera': 'null',\n",
      " 'adler32': '34c74d8b',\n",
      " 'cksum': 811952605,\n",
      " 'created': \"['/store/mc/HC/GenericTTbar/AODSIM/CMSSW_9_2_6_91X_mcRun1_realistic_v2-v2/00000/C8E5357B-1476-E711-8503-02163E013EB2.root']\",\n",
      " 'filesize': 647843,\n",
      " 'filetype': 'EDM',\n",
      " 'globaltag': 'None',\n",
      " 'inevents': 300,\n",
      " 'jobid': '751',\n",
      " 'lfn': '/store/user/cmsbot/GenericTTbar/autotest-1652283747/220511_154229/0000/output_751.root',\n",
      " 'location': 'T2_CH_CERN',\n",
      " 'md5': 'asda',\n",
      " 'outdataset': '/GenericTTbar/cmsbot-autotest-1652283747-94ba0e06145abd65ccb1d21786dc7e1d/USER',\n",
      " 'parents': ['/store/mc/HC/GenericTTbar/AODSIM/CMSSW_9_2_6_91X_mcRun1_realistic_v2-v2/00000/C8E5357B-1476-E711-8503-02163E013EB2.root'],\n",
      " 'publishname': 'autotest-1652283747-94ba0e06145abd65ccb1d21786dc7e1d',\n",
      " 'runlumi': {'1': {'1985': '300'}},\n",
      " 'state': None,\n",
      " 'swversion': 'CMSSW_12_0_1',\n",
      " 'taskname': '220511_154229:cmsbot_crab_20220511_174227',\n",
      " 'tmplfn': '/store/user/cmsbot/GenericTTbar/autotest-1652283747/220511_154229/0000/output_751.root',\n",
      " 'tmplocation': 'T2_US_UCSD'}\n"
     ]
    }
   ],
   "source": [
    "res = result[0]\n",
    "metadataList = [json.loads(md) for md in res['result']]  # CRAB REST returns a list of JSON objects\n",
    "print(len(metadataList))\n",
    "pprint.pprint(metadataList[0])\n",
    "oldList=metadataList.copy()"
   ]
  },
  {
   "cell_type": "code",
   "execution_count": 10,
   "id": "3721a782",
   "metadata": {},
   "outputs": [
    {
     "name": "stdout",
     "output_type": "stream",
     "text": [
      "751\n",
      "1-43\n"
     ]
    }
   ],
   "source": [
    "print(oldList[0]['jobid'])\n",
    "#print(file1)\n",
    "oldList[0]['jobid']='1-43'\n",
    "print(oldList[0]['jobid'])\n",
    "\n"
   ]
  },
  {
   "cell_type": "code",
   "execution_count": 16,
   "id": "be44155a",
   "metadata": {},
   "outputs": [
    {
     "name": "stdout",
     "output_type": "stream",
     "text": [
      "999\n",
      "/store/user/cmsbot/GenericTTbar/autotest-1652283747/220511_154229/0000/output_1.root\n",
      "/store/user/cmsbot/GenericTTbar/autotest-1652283747/220511_154229/0000/output_751.root\n",
      "/store/user/cmsbot/GenericTTbar/autotest-1652283747/220511_154229/0000/output_999.root\n",
      "220511_154229:cmsbot_crab_20220511_174227\n",
      "{'acquisitionera': 'null',\n",
      " 'adler32': '6b34cec2',\n",
      " 'cksum': 4067911980,\n",
      " 'created': \"['/store/mc/HC/GenericTTbar/AODSIM/CMSSW_9_2_6_91X_mcRun1_realistic_v2-v2/00000/8ADD04E5-1776-E711-A1BA-FA163E6741E0.root']\",\n",
      " 'filesize': 646146,\n",
      " 'filetype': 'EDM',\n",
      " 'globaltag': 'None',\n",
      " 'inevents': 300,\n",
      " 'jobid': '10',\n",
      " 'lfn': '/store/user/cmsbot/GenericTTbar/autotest-1652283747/220511_154229/0000/output_10.root',\n",
      " 'location': 'T2_CH_CERN',\n",
      " 'md5': 'asda',\n",
      " 'outdataset': '/GenericTTbar/cmsbot-autotest-1652283747-94ba0e06145abd65ccb1d21786dc7e1d/USER',\n",
      " 'parents': ['/store/mc/HC/GenericTTbar/AODSIM/CMSSW_9_2_6_91X_mcRun1_realistic_v2-v2/00000/8ADD04E5-1776-E711-A1BA-FA163E6741E0.root'],\n",
      " 'publishname': 'autotest-1652283747-94ba0e06145abd65ccb1d21786dc7e1d',\n",
      " 'runlumi': {'1': {'2748': '300'}},\n",
      " 'state': None,\n",
      " 'swversion': 'CMSSW_12_0_1',\n",
      " 'taskname': '220511_154229:cmsbot_crab_20220511_174227',\n",
      " 'tmplfn': '/store/user/cmsbot/GenericTTbar/autotest-1652283747/220511_154229/0000/output_10.root',\n",
      " 'tmplocation': 'T2_US_UCSD'}\n"
     ]
    }
   ],
   "source": [
    "# new way\n",
    "# start from the list of LFN\n",
    "# a bit ugly, but since one job is missing it is easier to take\n",
    "# list of ready lfn's from FMD list obtained with old method\n",
    "sortedOld = sorted(oldList, key=lambda i:i['jobid'] )\n",
    "lfn_ready = [md['lfn'] for md in sortedOld]\n",
    "\n",
    "#lfn_ready = [file1.replace('output_1.root', 'output_%d.root'%i)\n",
    "#             for i in range(2,1001)]\n",
    "#lfn_ready = [file1] + lfn_ready\n",
    "print(len(lfn_ready))\n",
    "print(lfn_ready[0])\n",
    "print(lfn_ready[1])\n",
    "print(lfn_ready[-1])\n",
    "print(task)\n",
    "pprint.pprint(sortedOld[2])"
   ]
  },
  {
   "cell_type": "code",
   "execution_count": 18,
   "id": "906ddfba",
   "metadata": {},
   "outputs": [
    {
     "name": "stdout",
     "output_type": "stream",
     "text": [
      "({'result': ['{\"taskname\": \"220511_154229:cmsbot_crab_20220511_174227\", '\n",
      "             '\"filetype\": \"EDM\", \"jobid\": \"1\", \"outdataset\": '\n",
      "             '\"/GenericTTbar/cmsbot-autotest-1652283747-94ba0e06145abd65ccb1d21786dc7e1d/USER\", '\n",
      "             '\"acquisitionera\": \"null\", \"swversion\": \"CMSSW_12_0_1\", '\n",
      "             '\"inevents\": 300, \"globaltag\": \"None\", \"publishname\": '\n",
      "             '\"autotest-1652283747-94ba0e06145abd65ccb1d21786dc7e1d\", '\n",
      "             '\"location\": \"T2_CH_CERN\", \"tmplocation\": \"T2_US_Vanderbilt\", '\n",
      "             '\"runlumi\": {\"1\": {\"419\": \"300\"}}, \"adler32\": \"1c3c09cf\", '\n",
      "             '\"cksum\": 2739933364, \"md5\": \"asda\", \"lfn\": '\n",
      "             '\"/store/user/cmsbot/GenericTTbar/autotest-1652283747/220511_154229/0000/output_1.root\", '\n",
      "             '\"filesize\": 649781, \"parents\": '\n",
      "             '[\"/store/mc/HC/GenericTTbar/AODSIM/CMSSW_9_2_6_91X_mcRun1_realistic_v2-v2/00000/8ADD04E5-1776-E711-A1BA-FA163E6741E0.root\"], '\n",
      "             '\"state\": null, \"created\": '\n",
      "             '\"[\\'/store/mc/HC/GenericTTbar/AODSIM/CMSSW_9_2_6_91X_mcRun1_realistic_v2-v2/00000/8ADD04E5-1776-E711-A1BA-FA163E6741E0.root\\']\", '\n",
      "             '\"tmplfn\": '\n",
      "             '\"/store/user/cmsbot/GenericTTbar/autotest-1652283747/220511_154229/0000/output_1.root\"}']},\n",
      " 200,\n",
      " 'OK')\n"
     ]
    }
   ],
   "source": [
    "# minimal check\n",
    "dataDict={}\n",
    "dataDict['taskname'] = task\n",
    "dataDict['lfnList'] = lfn_ready[0]\n",
    "data = encodeRequest(dataDict)\n",
    "res = crab.get(api='filemetadata', data=data)\n",
    "pprint.pprint(res)"
   ]
  },
  {
   "cell_type": "code",
   "execution_count": 24,
   "id": "e29310d0",
   "metadata": {},
   "outputs": [
    {
     "name": "stdout",
     "output_type": "stream",
     "text": [
      "#in:  999\n",
      "#out:  999\n"
     ]
    }
   ],
   "source": [
    "# copy code from Publisher\n",
    "out=[]\n",
    "metadataList = []\n",
    "dataDict = {}\n",
    "dataDict['taskname'] = task\n",
    "i = 0\n",
    "numFilesAtOneTime = 10\n",
    "print('#in: ',len(lfn_ready))\n",
    "while i < len(lfn_ready):\n",
    "    #print(i)\n",
    "    dataDict['lfnList'] = lfn_ready[i:i+numFilesAtOneTime]\n",
    "    data = encodeRequest(dataDict)\n",
    "    i += numFilesAtOneTime\n",
    "    res = crab.get(api='filemetadata', data=data)\n",
    "    # res is a 3-plu: (result, exit code, status)\n",
    "    res = res[0]\n",
    "    metadataList = [json.loads(md) for md in res['result']]  # CRAB REST returns a list of JSON o\n",
    "    for md in metadataList:\n",
    "        out.append(md)\n",
    "print('#out: ', len(out))\n",
    "\n",
    "newList = out.copy()\n",
    "#print(out[0])\n",
    "#print(newList[0])"
   ]
  },
  {
   "cell_type": "code",
   "execution_count": 25,
   "id": "787f161a",
   "metadata": {},
   "outputs": [
    {
     "name": "stdout",
     "output_type": "stream",
     "text": [
      "999\n",
      "999\n",
      "original\n",
      "751\n",
      "1\n",
      "sorted\n",
      "1\n",
      "1\n",
      "1000\n",
      "1000\n",
      "False\n",
      "True\n"
     ]
    }
   ],
   "source": [
    "# compare old and new\n",
    "print(len(oldList))\n",
    "print(len(newList))\n",
    "print('original')\n",
    "print(oldList[0]['jobid'])\n",
    "print(newList[0]['jobid'])\n",
    "print('sorted')\n",
    "sortedOld = sorted(oldList, key=lambda i:int(i['jobid']) )\n",
    "print(sortedOld[0]['jobid'])\n",
    "print(newList[0]['jobid'])\n",
    "print(sortedOld[-1]['jobid'])\n",
    "print(newList[-1]['jobid'])\n",
    "print(newList==oldList)\n",
    "print(newList==sortedOld)"
   ]
  },
  {
   "cell_type": "code",
   "execution_count": null,
   "id": "4b4206dc",
   "metadata": {},
   "outputs": [],
   "source": [
    "sortedOld[0]"
   ]
  },
  {
   "cell_type": "code",
   "execution_count": null,
   "id": "f626d073",
   "metadata": {
    "scrolled": true
   },
   "outputs": [],
   "source": [
    "newList[0]"
   ]
  },
  {
   "cell_type": "code",
   "execution_count": null,
   "id": "7df84c62",
   "metadata": {},
   "outputs": [],
   "source": []
  },
  {
   "cell_type": "code",
   "execution_count": null,
   "id": "da834a8e",
   "metadata": {},
   "outputs": [],
   "source": [
    "def mark_good(files, crabServer, logger):\n",
    "    \"\"\"\n",
    "    Mark the list of files as tranferred\n",
    "    \"\"\"\n",
    "\n",
    "    msg = \"Marking %s file(s) as published.\" % len(files)\n",
    "    logger.info(msg)\n",
    "    nMarked = 0\n",
    "    for lfn in files:\n",
    "        data = {}\n",
    "        source_lfn = lfn\n",
    "        docId = getHashLfn(source_lfn)\n",
    "        data['asoworker'] = 'schedd'\n",
    "        data['subresource'] = 'updatePublication'\n",
    "        data['list_of_ids'] = [docId]\n",
    "        data['list_of_publication_state'] = ['DONE']\n",
    "        data['list_of_retry_value'] = [1]\n",
    "        data['list_of_failure_reason'] = ['']\n",
    "\n",
    "        try:\n",
    "            result = crabServer.post(api='filetransfers', data=encodeRequest(data))\n",
    "            logger.debug(\"updated DocumentId: %s lfn: %s Result %s\", docId, source_lfn, result)\n",
    "        except Exception as ex:\n",
    "            logger.error(\"Error updating status for DocumentId: %s lfn: %s\", docId, source_lfn)\n",
    "            logger.error(\"Error reason: %s\", ex)\n",
    "\n",
    "        nMarked += 1\n",
    "        if nMarked % 10 == 0:\n",
    "            logger.info('marked %d files', nMarked)"
   ]
  },
  {
   "cell_type": "code",
   "execution_count": null,
   "id": "910658a8",
   "metadata": {},
   "outputs": [],
   "source": []
  }
 ],
 "metadata": {
  "kernelspec": {
   "display_name": "Python 3 (ipykernel)",
   "language": "python",
   "name": "python3"
  },
  "language_info": {
   "codemirror_mode": {
    "name": "ipython",
    "version": 3
   },
   "file_extension": ".py",
   "mimetype": "text/x-python",
   "name": "python",
   "nbconvert_exporter": "python",
   "pygments_lexer": "ipython3",
   "version": "3.9.6"
  }
 },
 "nbformat": 4,
 "nbformat_minor": 5
}
