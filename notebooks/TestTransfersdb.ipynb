{
 "cells": [
  {
   "cell_type": "code",
   "execution_count": 1,
   "metadata": {},
   "outputs": [],
   "source": [
    "from RESTInteractions import CRABRest\n",
    "from ServerUtilities import encodeRequest\n"
   ]
  },
  {
   "cell_type": "code",
   "execution_count": 2,
   "metadata": {},
   "outputs": [],
   "source": [
    "host='cmsweb-test2.cern.ch'; dbInstance='dev'\n",
    "task='230127_111257:belforte_crab_20230127_121253' # test2\n",
    "\n",
    "#host='cmsweb.cern.ch'; dbInstance='prod'\n",
    "\n",
    "#host='cmsweb-testbed.cern.ch'; dbInstance='preprod'\n",
    "#task = '230131_093942:belforte_crab_20230131_103931' # preprod\n",
    "\n"
   ]
  },
  {
   "cell_type": "code",
   "execution_count": 3,
   "metadata": {},
   "outputs": [
    {
     "name": "stdout",
     "output_type": "stream",
     "text": [
      "Proxy: /tmp/x509up_u8516\n"
     ]
    }
   ],
   "source": [
    "import logging\n",
    "import sys\n",
    "import os\n",
    "from pprint import pprint\n",
    "logging.basicConfig(stream=sys.stdout, level=logging.INFO)\n",
    "logger = logging.getLogger('Logger')\n",
    "\n",
    "proxy = os.environ['X509_USER_PROXY']\n",
    "print(\"Proxy: %s\" % proxy)"
   ]
  },
  {
   "cell_type": "code",
   "execution_count": 4,
   "metadata": {},
   "outputs": [],
   "source": [
    "server = CRABRest(host, proxy, proxy, userAgent='CRABtestSB',verbose=False)\n",
    "# this means that we will use URL's like  https://cmsweb-test1.cern.ch/crabserver\n"
   ]
  },
  {
   "cell_type": "code",
   "execution_count": 5,
   "metadata": {},
   "outputs": [],
   "source": [
    "server.setDbInstance(dbInstance)\n",
    "# this means that we will use URL's like https://cmsweb-test1.cern.ch/crabserver/dev"
   ]
  },
  {
   "cell_type": "code",
   "execution_count": 6,
   "metadata": {},
   "outputs": [],
   "source": [
    "crabServer=server"
   ]
  },
  {
   "cell_type": "code",
   "execution_count": 7,
   "metadata": {},
   "outputs": [
    {
     "name": "stdout",
     "output_type": "stream",
     "text": [
      "belforte\n"
     ]
    }
   ],
   "source": [
    "user = task.split(':')[1].split('_')[0]\n",
    "print(user)"
   ]
  },
  {
   "cell_type": "code",
   "execution_count": 8,
   "metadata": {},
   "outputs": [],
   "source": [
    "# this API is generic\n",
    "# a PUT to it inserts a new record but\n",
    "# a POST or GET performs action specified via subresource field\n",
    "api = 'filetransfers'\n",
    "# means that we will use URL's like https://cmsweb-test1.cern.ch/crabserver/dev/filetransfer"
   ]
  },
  {
   "cell_type": "code",
   "execution_count": 9,
   "metadata": {},
   "outputs": [
    {
     "name": "stdout",
     "output_type": "stream",
     "text": [
      "https://cmsweb-test2.cern.ch:8443/crabserver/dev/fileusertransfers?subresource=getTransferStatus&taskname=230127_111257%3Abelforte_crab_20230127_121253&username=belforte\n"
     ]
    }
   ],
   "source": [
    "# this API is generic\n",
    "# a PUT to it inserts a new record but\n",
    "# a POST or GET performs action specified via subresource field\n",
    "api = 'fileusertransfers'\n",
    "# means that we will use URL's like https://cmsweb-test1.cern.ch/crabserver/dev/filetransfer\n",
    "# GET supports also querying w/o a subresource\n",
    "data = {'subresource':'getTransferStatus', 'taskname':task, 'username':user}\n",
    "data = encodeRequest(data) \n",
    "# this means thar URL will be\n",
    "url = 'https://' + host + ':8443/crabserver/' + dbInstance + '/' + api\n",
    "finalUrl=url+'?'+data\n",
    "print(finalUrl)"
   ]
  },
  {
   "cell_type": "code",
   "execution_count": 10,
   "metadata": {},
   "outputs": [],
   "source": [
    "# now query it\n",
    "res=crabServer.get(api=api, data=data)\n",
    "#pprint(res)"
   ]
  },
  {
   "cell_type": "code",
   "execution_count": 11,
   "metadata": {},
   "outputs": [
    {
     "name": "stdout",
     "output_type": "stream",
     "text": [
      "there are 2 fileIds\n",
      "['3be122bd56444c3f99146f9242042eed29ff521358d570b0eb741f9a',\n",
      " '0894bf139082f54b13fc811f1861a416135fa5493a5aa3e88f05e133']\n"
     ]
    }
   ],
   "source": [
    "result=res[0]['result']\n",
    "numFiles=len(result)\n",
    "print(\"there are %d fileIds\" %numFiles)\n",
    "fileIds=[]\n",
    "for i in range(numFiles):\n",
    "    fileIds.append(result[i][0])\n",
    "pprint(fileIds)\n",
    "#    print(result[i][0])"
   ]
  },
  {
   "cell_type": "code",
   "execution_count": 24,
   "metadata": {},
   "outputs": [
    {
     "name": "stdout",
     "output_type": "stream",
     "text": [
      "https://cmsweb-test2.cern.ch:8443/crabserver/dev/fileusertransfers?subresource=getById&id=3be122bd56444c3f99146f9242042eed29ff521358d570b0eb741f9a\n",
      "tm_id 3be122bd56444c3f99146f9242042eed29ff521358d570b0eb741f9a\n",
      "tm_username belforte\n",
      "tm_taskname 230127_111257:belforte_crab_20230127_121253\n",
      "tm_destination T2_CH_CERN\n",
      "tm_destination_lfn /store/user/belforte/GenericTTbar/crab_20230127_121253/230127_111257/0000/kk_1.root\n",
      "tm_source T2_CH_CERN\n",
      "tm_source_lfn /store/temp/user/belforte.be1f4dc5be8664cbd145bf008f5399adf42b086f/GenericTTbar/crab_20230127_121253/230127_111257/0000/kk_1.root\n",
      "tm_filesize 561301\n",
      "tm_publish 1\n",
      "tm_jobid 1\n",
      "tm_job_retry_count 0\n",
      "tm_type output\n",
      "tm_aso_worker schedd\n",
      "tm_transfer_retry_count 0\n",
      "tm_transfer_max_retry_count 2\n",
      "tm_publication_retry_count 1\n",
      "tm_publication_max_retry_count 2\n",
      "tm_rest_host None\n",
      "tm_rest_uri None\n",
      "tm_transfer_state 3\n",
      "tm_publication_state 3\n",
      "tm_transfer_failure_reason None\n",
      "tm_publication_failure_reason None\n",
      "tm_fts_id None\n",
      "tm_fts_instance None\n",
      "tm_last_update 1675372797\n",
      "tm_start_time 1674818149\n",
      "tm_end_time None\n",
      "tm_dbs_blockname /PrimDsTRETRE/ProcDs/TIER#ablock\n",
      "tm_block_complete TRE\n"
     ]
    }
   ],
   "source": [
    "# get full info for first file\n",
    "data={'subresource': 'getById', 'id':fileIds[0]}\n",
    "data=encodeRequest(data)\n",
    "finalUrl=url+'?'+data\n",
    "print(finalUrl)\n",
    "res=crabServer.get(api=api, data=data)\n",
    "result=res[0]\n",
    "#pprint(res)\n",
    "keys=result['desc']['columns']\n",
    "values=result['result'][0]\n",
    "#print(len(keys))\n",
    "#print(len(values))\n",
    "for i in range(len(keys)):\n",
    "    print(keys[i], values[i])"
   ]
  },
  {
   "cell_type": "code",
   "execution_count": 23,
   "metadata": {},
   "outputs": [
    {
     "name": "stdout",
     "output_type": "stream",
     "text": [
      "{'asoworker': 'schedd',\n",
      " 'list_of_block_complete': ['TRE'],\n",
      " 'list_of_dbs_blockname': ['/PrimDsTRETRE/ProcDs/TIER#ablock'],\n",
      " 'list_of_ids': ['3be122bd56444c3f99146f9242042eed29ff521358d570b0eb741f9a'],\n",
      " 'subresource': 'updateRucioInfo'}\n",
      "({'result': ['']}, 200, 'OK')\n"
     ]
    }
   ],
   "source": [
    "# try to change one value.\n",
    "# This uses POST with  the other API 'filetransfers'\n",
    "# and subresource == 'updateDoc'\n",
    "# like is being done in PostJob\n",
    "# this is mean to be used in RUCIO_Transfers.py to\n",
    "# communicate block info to publisher\n",
    "\n",
    "\n",
    "data = {'subresource':'updateRucioInfo'}\n",
    "data['list_of_ids'] = [fileIds[0]]\n",
    "data['asoworker'] = 'schedd'\n",
    "data['list_of_dbs_blockname'] = ['/PrimDsTRETRE/ProcDs/TIER#ablock']\n",
    "data['list_of_block_complete'] = ['TRE']\n",
    "pprint(data)\n",
    "\n",
    "res=crabServer.post(api='filetransfers', data=encodeRequest(data))\n",
    "\n",
    "pprint(res)"
   ]
  },
  {
   "cell_type": "code",
   "execution_count": null,
   "metadata": {},
   "outputs": [],
   "source": [
    "# make sure to che"
   ]
  },
  {
   "cell_type": "code",
   "execution_count": null,
   "metadata": {},
   "outputs": [],
   "source": []
  }
 ],
 "metadata": {
  "kernelspec": {
   "display_name": "Python 3 (ipykernel)",
   "language": "python",
   "name": "python3"
  },
  "language_info": {
   "codemirror_mode": {
    "name": "ipython",
    "version": 3
   },
   "file_extension": ".py",
   "mimetype": "text/x-python",
   "name": "python",
   "nbconvert_exporter": "python",
   "pygments_lexer": "ipython3",
   "version": "3.9.6"
  }
 },
 "nbformat": 4,
 "nbformat_minor": 2
}
