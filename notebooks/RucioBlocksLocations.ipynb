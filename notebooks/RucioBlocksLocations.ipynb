{
 "cells": [
  {
   "cell_type": "code",
   "execution_count": 2,
   "metadata": {},
   "outputs": [],
   "source": [
    "import os\n",
    "import sys\n",
    "import logging\n",
    "logging.basicConfig(stream=sys.stdout, level=logging.INFO)\n",
    "logger = logging.getLogger('Logger')"
   ]
  },
  {
   "cell_type": "code",
   "execution_count": 3,
   "metadata": {},
   "outputs": [],
   "source": [
    "from rucio.client import Client"
   ]
  },
  {
   "cell_type": "code",
   "execution_count": 4,
   "metadata": {},
   "outputs": [
    {
     "name": "stdout",
     "output_type": "stream",
     "text": [
      "1.23.11.post3\n",
      "{u'status': u'ACTIVE', u'account': u'belforte', u'account_type': u'USER', u'created_at': u'2020-04-28T23:25:20', u'suspended_at': None, u'updated_at': u'2020-04-28T23:25:20', u'deleted_at': None, u'email': u'Stefano.Belforte@cern.ch'}\n"
     ]
    }
   ],
   "source": [
    "import os\n",
    "Rucio_cert = os.getenv('X509_USER_PROXY')\n",
    "Rucio_key = os.getenv('X509_USER_PROXY')\n",
    "Rucio_host = 'https://cms-rucio.cern.ch'\n",
    "Rucio_account = 'belforte'\n",
    "Rucio_authUrl = 'https://cms-rucio-auth.cern.ch'\n",
    "Rucio_caPath = '/etc/grid-security/certificates/'\n",
    "\n",
    "nativeClient = Client(\n",
    "    rucio_host=Rucio_host, auth_host=Rucio_authUrl, ca_cert=Rucio_caPath,\n",
    "    account=Rucio_account,\n",
    "    creds={\"client_cert\": Rucio_cert, \"client_key\": Rucio_key},\n",
    "    auth_type = 'x509'\n",
    ")\n",
    "ret=nativeClient.ping()\n",
    "print(ret['version'])\n",
    "ret = nativeClient.whoami()\n",
    "print(ret)"
   ]
  },
  {
   "cell_type": "code",
   "execution_count": 5,
   "metadata": {},
   "outputs": [],
   "source": [
    "cli=nativeClient"
   ]
  },
  {
   "cell_type": "code",
   "execution_count": 6,
   "metadata": {},
   "outputs": [],
   "source": [
    "site='T2_DE_DESY'\n",
    "lfn1='/store/user/belforte/afile.root'"
   ]
  },
  {
   "cell_type": "code",
   "execution_count": 7,
   "metadata": {},
   "outputs": [],
   "source": [
    "lfns=[lfn1]"
   ]
  },
  {
   "cell_type": "code",
   "execution_count": 8,
   "metadata": {},
   "outputs": [
    {
     "name": "stdout",
     "output_type": "stream",
     "text": [
      "INFO:Logger:found 4 blocks\n",
      "[u'/MuonEG/Run2016B-v1/RAW#86bc5e3e-1519-11e6-a3f4-001e67ac06a0',\n",
      " u'/MuonEG/Run2016B-v1/RAW#898359ee-1760-11e6-8d9e-001e67ac06a0',\n",
      " u'/MuonEG/Run2016B-v1/RAW#9da47a68-1682-11e6-8d9e-001e67ac06a0',\n",
      " u'/MuonEG/Run2016B-v1/RAW#cd4b1b62-13aa-11e6-a3f4-001e67ac06a0']\n"
     ]
    }
   ],
   "source": [
    "# start with a dataset on tape\n",
    "dataset = '/MuonEG/Run2016B-v1/RAW'\n",
    "\n",
    "# can't use DBS Api in this Jupyter. Ask Rucio the list of blocks\n",
    "\n",
    "blockNames=[]\n",
    "response = cli.list_content('cms',dataset)\n",
    "for item in response:\n",
    "    if item['type'].upper() == 'DATASET':\n",
    "        blockNames.append(item['name'])\n",
    "\n",
    "logger.info('found %d blocks', len(blockNames))\n",
    "import pprint\n",
    "pprint.pprint(blockNames)\n"
   ]
  },
  {
   "cell_type": "code",
   "execution_count": 9,
   "metadata": {},
   "outputs": [
    {
     "name": "stdout",
     "output_type": "stream",
     "text": [
      "\n",
      "{u'/MuonEG/Run2016B-v1/RAW#86bc5e3e-1519-11e6-a3f4-001e67ac06a0': [u'T2_IT_Pisa',\n",
      "                                                                   u'T1_FR_CCIN2P3_Tape',\n",
      "                                                                   u'T0_CH_CERN_Tape'],\n",
      " u'/MuonEG/Run2016B-v1/RAW#898359ee-1760-11e6-8d9e-001e67ac06a0': [u'T2_IT_Pisa',\n",
      "                                                                   u'T1_FR_CCIN2P3_Tape',\n",
      "                                                                   u'T0_CH_CERN_Tape'],\n",
      " u'/MuonEG/Run2016B-v1/RAW#9da47a68-1682-11e6-8d9e-001e67ac06a0': [u'T2_IT_Pisa',\n",
      "                                                                   u'T1_FR_CCIN2P3_Tape',\n",
      "                                                                   u'T0_CH_CERN_Tape'],\n",
      " u'/MuonEG/Run2016B-v1/RAW#cd4b1b62-13aa-11e6-a3f4-001e67ac06a0': [u'T1_FR_CCIN2P3_Tape',\n",
      "                                                                   u'T0_CH_CERN_Tape']}\n"
     ]
    }
   ],
   "source": [
    "# now the locations\n",
    "#dids = [{'scope':'cms','name':bname} for bname in blockNames]\n",
    "#response = cli.list_dataset_replicas_bulk(dids)\n",
    "scope = 'cms'\n",
    "#result=[]\n",
    "locationsMap = {}\n",
    "for bName in blockNames:\n",
    "    #print(bName)\n",
    "    replicas = set()\n",
    "    response = cli.list_dataset_replicas(scope, bName)\n",
    "    for item in response:\n",
    "        # same as complete='y' used for PhEDEx\n",
    "        if item['state'].upper() == 'AVAILABLE':\n",
    "            replicas.add(item['rse'])\n",
    "    #result.append({'name': bName, 'replica': list(set(replicas))})\n",
    "    locationsMap[bName] = list(replicas)\n",
    "#pprint.pprint(result)\n",
    "print(\"\")\n",
    "pprint.pprint(locationsMap)\n",
    "#print(\"\")\n",
    "#lM = {}\n",
    "#for r in result:\n",
    "#    lM[r['name']] = r['replica']\n",
    "#print(locationsMap==lM)"
   ]
  },
  {
   "cell_type": "code",
   "execution_count": 13,
   "metadata": {},
   "outputs": [],
   "source": [
    "myscope = 'user.belforte'\n",
    "containerName = 'TapeRecall/pippo1/USER'\n",
    "containerDid='user.belforte:/TapeRecall/pippo1/USER'"
   ]
  },
  {
   "cell_type": "code",
   "execution_count": 11,
   "metadata": {},
   "outputs": [
    {
     "ename": "AttributeError",
     "evalue": "'Client' object has no attribute 'list_replication_rules'",
     "output_type": "error",
     "traceback": [
      "\u001b[0;31m---------------------------------------------------------------------------\u001b[0m",
      "\u001b[0;31mAttributeError\u001b[0m                            Traceback (most recent call last)",
      "\u001b[0;32m<ipython-input-11-de30f67a4950>\u001b[0m in \u001b[0;36m<module>\u001b[0;34m()\u001b[0m\n\u001b[0;32m----> 1\u001b[0;31m \u001b[0mret\u001b[0m \u001b[0;34m=\u001b[0m \u001b[0mcli\u001b[0m\u001b[0;34m.\u001b[0m\u001b[0mlist_replication_rules\u001b[0m\u001b[0;34m(\u001b[0m\u001b[0;34m{\u001b[0m\u001b[0;34m'did'\u001b[0m\u001b[0;34m:\u001b[0m\u001b[0mcontainerDid\u001b[0m\u001b[0;34m}\u001b[0m\u001b[0;34m)\u001b[0m\u001b[0;34m\u001b[0m\u001b[0m\n\u001b[0m",
      "\u001b[0;31mAttributeError\u001b[0m: 'Client' object has no attribute 'list_replication_rules'"
     ]
    }
   ],
   "source": [
    "ret = cli.list_replication_rules({'did':containerDid})"
   ]
  },
  {
   "cell_type": "code",
   "execution_count": 14,
   "metadata": {},
   "outputs": [],
   "source": [
    "ret = cli.list_did_rules(myscope, containerName)\n",
    "                        "
   ]
  },
  {
   "cell_type": "code",
   "execution_count": 15,
   "metadata": {},
   "outputs": [
    {
     "name": "stdout",
     "output_type": "stream",
     "text": [
      "<generator object _load_json_data at 0x7fcf34030960>\n"
     ]
    }
   ],
   "source": [
    "print(ret)"
   ]
  },
  {
   "cell_type": "code",
   "execution_count": 16,
   "metadata": {},
   "outputs": [],
   "source": [
    "resp=list(ret)"
   ]
  },
  {
   "cell_type": "code",
   "execution_count": 17,
   "metadata": {},
   "outputs": [
    {
     "name": "stdout",
     "output_type": "stream",
     "text": [
      "[{u'locks_ok_cnt': 0, u'source_replica_expression': None, u'locks_stuck_cnt': 0, u'purge_replicas': False, u'rse_expression': u'T3_IT_Trieste', u'updated_at': datetime.datetime(2021, 1, 7, 18, 5, 29), u'meta': None, u'child_rule_id': None, u'id': u'd2b715f526e14f91b0c299abb560d5d7', u'ignore_account_limit': False, u'error': None, u'weight': None, u'locks_replicating_cnt': 0, u'notification': u'NO', u'copies': 1, u'comments': u'Staged from tape for belforte', u'split_container': False, u'priority': 3, u'state': u'WAITING_APPROVAL', u'scope': u'user.belforte', u'subscription_id': None, u'stuck_at': None, u'ignore_availability': False, u'eol_at': None, u'expires_at': datetime.datetime(2021, 1, 21, 18, 5, 29), u'did_type': u'CONTAINER', u'account': u'belforte', u'locked': False, u'name': u'/TapeRecall/pippo1/USER', u'created_at': datetime.datetime(2021, 1, 7, 18, 5, 29), u'activity': u'Analysis Input', u'grouping': u'ALL'}]\n"
     ]
    }
   ],
   "source": [
    "print(resp)"
   ]
  },
  {
   "cell_type": "code",
   "execution_count": 18,
   "metadata": {},
   "outputs": [
    {
     "name": "stdout",
     "output_type": "stream",
     "text": [
      "d2b715f526e14f91b0c299abb560d5d7\n"
     ]
    }
   ],
   "source": [
    "print(resp[0]['id'])"
   ]
  },
  {
   "cell_type": "code",
   "execution_count": null,
   "metadata": {},
   "outputs": [],
   "source": []
  }
 ],
 "metadata": {
  "kernelspec": {
   "display_name": "Python 2",
   "language": "python",
   "name": "python2"
  },
  "language_info": {
   "codemirror_mode": {
    "name": "ipython",
    "version": 2
   },
   "file_extension": ".py",
   "mimetype": "text/x-python",
   "name": "python",
   "nbconvert_exporter": "python",
   "pygments_lexer": "ipython2",
   "version": "2.7.5"
  }
 },
 "nbformat": 4,
 "nbformat_minor": 2
}
