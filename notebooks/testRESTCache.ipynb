{
 "cells": [
  {
   "cell_type": "code",
   "execution_count": 1,
   "metadata": {},
   "outputs": [
    {
     "data": {
      "text/plain": [
       "'/afs/cern.ch/work/b/belforte/JUPYTER'"
      ]
     },
     "execution_count": 1,
     "metadata": {},
     "output_type": "execute_result"
    }
   ],
   "source": [
    "from __future__ import division\n",
    "from __future__ import print_function\n",
    "import json\n",
    "import os\n",
    "import time\n",
    "import subprocess\n",
    "import argparse\n",
    "import logging\n",
    "import sys\n",
    "import urllib\n",
    "import CRABClient\n",
    "\n",
    "from RESTInteractions import CRABRest\n",
    "from httplib import HTTPException\n",
    "from ServerUtilities import encodeRequest\n",
    "from ServerUtilities import uploadToS3, retrieveFromS3\n",
    "from ServerUtilities import getDownloadUrlFromS3\n",
    "\n",
    "os.getcwd()"
   ]
  },
  {
   "cell_type": "code",
   "execution_count": 2,
   "metadata": {},
   "outputs": [
    {
     "name": "stdout",
     "output_type": "stream",
     "text": [
      "Proxy: /tmp/x509up_u8516\n"
     ]
    }
   ],
   "source": [
    "\n",
    "logging.basicConfig(stream=sys.stdout, level=logging.INFO)\n",
    "logger = logging.getLogger('Logger')\n",
    "\n",
    "proxy = os.environ['X509_USER_PROXY']\n",
    "print(\"Proxy: %s\" % proxy)"
   ]
  },
  {
   "cell_type": "code",
   "execution_count": 3,
   "metadata": {},
   "outputs": [
    {
     "name": "stdout",
     "output_type": "stream",
     "text": [
      "<RESTInteractions.CRABRest instance at 0x7f84d800a248>\n"
     ]
    }
   ],
   "source": [
    "hostname = 'cmsweb-test1'\n",
    "instance = 'dev'\n",
    "host = hostname + '.cern.ch:8443'\n",
    "server = CRABRest(host, proxy, proxy, userAgent='CRABtestSB')\n",
    "server.setDbInstance(instance)\n",
    "print(server)"
   ]
  },
  {
   "cell_type": "code",
   "execution_count": 4,
   "metadata": {},
   "outputs": [
    {
     "name": "stdout",
     "output_type": "stream",
     "text": [
      "{'uriNoApi': '/crabserver/dev/', 'server': {'retry': 0, 'content_type': 'application/x-www-form-urlencoded', 'cert': '/tmp/x509up_u8516', 'host': 'cmsweb-test1.cern.ch:8443', 'version': 'development', 'accept_type': 'text/html', 'key': '/tmp/x509up_u8516', 'userAgent': 'CRABtestSB', 'conn': <WMCore.Services.pycurl_manager.RequestHandler object at 0x7f84d8075f90>, 'verbose': False}}\n",
      "cmsweb-test1.cern.ch:8443\n"
     ]
    }
   ],
   "source": [
    "print(server.__dict__)\n",
    "print(server.server['host'])"
   ]
  },
  {
   "cell_type": "code",
   "execution_count": null,
   "metadata": {},
   "outputs": [],
   "source": [
    "# test INFO\n",
    "api = 'info'\n",
    "res = server.get(api=api)\n",
    "# HTTPRequests always retutns a 3-element tuple:\n",
    "#(result, HTTPcode, HTTPstatus)\n",
    "print(res)\n",
    "HTTPstatus = res[1]\n",
    "HTTPcode = res[2]\n",
    "print(\"HTTP code and status: %s %s\" %(res[1], res[2]))"
   ]
  },
  {
   "cell_type": "code",
   "execution_count": null,
   "metadata": {},
   "outputs": [],
   "source": [
    "# test upload\n",
    "taskname = '210318_133054:belforte_crab_20210318_143048'\n",
    "aLog = '/afs/cern.ch/user/b/belforte/WORK/CRAB3/TC3/LOCAL/crab.log'\n",
    "object = 'twlog'\n",
    "uploadToS3(crabserver=server,\n",
    "           taskname=taskname, objecttype=tarball, filepath=aLog,\n",
    "           logger=logger)\n",
    "print(\"OK\")"
   ]
  },
  {
   "cell_type": "code",
   "execution_count": null,
   "metadata": {},
   "outputs": [],
   "source": [
    "# get download URL via REST API\n",
    "api = 'cache'\n",
    "taskname = '210318_133054:belforte_crab_20210318_143048'\n",
    "object='twlog'\n",
    "dataDict = {'subresource':'download',\n",
    "            'objecttype':object,\n",
    "            'taskname':taskname}\n",
    "data = encodeRequest(dataDict)\n",
    "res = server.get(api=api, data=data)\n",
    "print(\"HTTP code and status: %s %s\" %(res[1], res[2]))\n",
    "result = res[0]['result']\n",
    "print(result)"
   ]
  },
  {
   "cell_type": "code",
   "execution_count": null,
   "metadata": {},
   "outputs": [],
   "source": [
    "# get download URL via utility function"
   ]
  },
  {
   "cell_type": "code",
   "execution_count": null,
   "metadata": {},
   "outputs": [],
   "source": [
    "url = getDonwloadUrlFromS3(crabserver=server,\n",
    "           taskname=taskname, objecttype='twlog',\n",
    "           logger=logger)\n",
    "print(url)"
   ]
  },
  {
   "cell_type": "code",
   "execution_count": null,
   "metadata": {},
   "outputs": [],
   "source": [
    "from WMCore.Services.Requests import Requests\n",
    "req = Requests()"
   ]
  },
  {
   "cell_type": "code",
   "execution_count": null,
   "metadata": {},
   "outputs": [],
   "source": [
    "sandboxfile='/tmp/sandbox.tgz'\n",
    "resp = Requests().downloadFile(sandboxfile, url)\n"
   ]
  },
  {
   "cell_type": "code",
   "execution_count": null,
   "metadata": {},
   "outputs": [],
   "source": []
  }
 ],
 "metadata": {
  "kernelspec": {
   "display_name": "Python 2",
   "language": "python",
   "name": "python2"
  },
  "language_info": {
   "codemirror_mode": {
    "name": "ipython",
    "version": 2
   },
   "file_extension": ".py",
   "mimetype": "text/x-python",
   "name": "python",
   "nbconvert_exporter": "python",
   "pygments_lexer": "ipython2",
   "version": "2.7.5"
  }
 },
 "nbformat": 4,
 "nbformat_minor": 2
}
