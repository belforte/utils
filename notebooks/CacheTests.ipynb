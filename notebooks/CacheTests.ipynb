{
 "cells": [
  {
   "cell_type": "code",
   "execution_count": 1,
   "metadata": {},
   "outputs": [
    {
     "name": "stdout",
     "output_type": "stream",
     "text": [
      "Proxy: /tmp/x509up_u8516\n"
     ]
    }
   ],
   "source": [
    "##\n",
    "## Needs to be executed in the CRAB Client environment\n",
    "##\n",
    "from __future__ import division\n",
    "from __future__ import print_function\n",
    "import json\n",
    "import os\n",
    "import time\n",
    "import subprocess\n",
    "import argparse\n",
    "import logging\n",
    "import sys\n",
    "#import urllib\n",
    "import CRABClient\n",
    "\n",
    "from RESTInteractions import CRABRest\n",
    "from httplib import HTTPException\n",
    "from ServerUtilities import encodeRequest\n",
    "\n",
    "os.getcwd()\n",
    "logging.basicConfig(stream=sys.stdout, level=logging.NOTSET) # log all messages\n",
    "logging.basicConfig(stream=sys.stdout, level=logging.DEBUG)\n",
    "#logging.basicConfig(stream=sys.stdout, level=logging.INFO)\n",
    "\n",
    "logger = logging.getLogger('Logger')\n",
    "proxy = os.environ['X509_USER_PROXY']\n",
    "print(\"Proxy: %s\" % proxy)"
   ]
  },
  {
   "cell_type": "code",
   "execution_count": 17,
   "metadata": {},
   "outputs": [
    {
     "name": "stdout",
     "output_type": "stream",
     "text": [
      "HTTP code and status: 200 OK\n",
      "server info: %s [{u'crabserver': u'Welcome', u'version': u'v3.210521'}]\n"
     ]
    }
   ],
   "source": [
    "hostname = 'cmsweb-testbed'\n",
    "host = hostname + '.cern.ch:8443'\n",
    "instance = 'preprod'\n",
    "server = CRABRest(host, proxy, proxy, userAgent='CRABtestSB')\n",
    "server.setDbInstance(instance)\n",
    "\n",
    "# test INFO\n",
    "api = '/info'\n",
    "res = server.get(api=api)\n",
    "# HTTPRequests always retutns a 3-element tuple: ({'result':result}, HTTPcode, HTTPstatus)\n",
    "print(\"HTTP code and status: %s %s\" %(res[1], res[2]))\n",
    "print(\"server info: %s\", res[0]['result'])"
   ]
  },
  {
   "cell_type": "code",
   "execution_count": 18,
   "metadata": {},
   "outputs": [],
   "source": [
    "from ServerUtilities import uploadToS3, retrieveFromS3, getDownloadUrlFromS3, downloadFromS3\n"
   ]
  },
  {
   "cell_type": "code",
   "execution_count": 19,
   "metadata": {},
   "outputs": [
    {
     "name": "stdout",
     "output_type": "stream",
     "text": [
      "{'uriNoApi': '/crabserver/preprod/', 'server': {'retry': 0, 'content_type': 'application/x-www-form-urlencoded', 'cert': '/tmp/x509up_u8516', 'host': 'cmsweb-testbed.cern.ch:8443', 'version': 'development', 'accept_type': 'text/html', 'key': '/tmp/x509up_u8516', 'userAgent': 'CRABtestSB', 'conn': <WMCore.Services.pycurl_manager.RequestHandler object at 0x7fde13291d50>, 'verbose': False}}\n"
     ]
    }
   ],
   "source": [
    "print(server.__dict__)\n"
   ]
  },
  {
   "cell_type": "code",
   "execution_count": 20,
   "metadata": {},
   "outputs": [
    {
     "name": "stdout",
     "output_type": "stream",
     "text": [
      "DEBUG:Logger:PreSignedUrl to download twlog received OK\n"
     ]
    },
    {
     "data": {
      "text/plain": [
       "u'http://s3.cern.ch/crabcache_preprod/belforte/210530_102306%3Abelforte_crab_20210530_122256/twlog?AWSAccessKeyId=ab00fcc889f248c495d2875f15a3badb&Expires=1625660033&Signature=v%2BhpHsmh%2FZU0F7d%2Folnl0kz7zE0%3D'"
      ]
     },
     "execution_count": 20,
     "metadata": {},
     "output_type": "execute_result"
    }
   ],
   "source": [
    "taskname='210322_201314:belforte_crab_20210322_211305' # dev\n",
    "taskname='210416_143234:belforte_crab_20210416_163225' # dev\n",
    "taskname='210530_102306:belforte_crab_20210530_122256' # preprod\n",
    "username='belforte'\n",
    "outfile='/tmp/twog.txt'\n",
    "getDownloadUrlFromS3(crabserver=server,objecttype='twlog',taskname=taskname,logger=logger)"
   ]
  },
  {
   "cell_type": "code",
   "execution_count": 21,
   "metadata": {},
   "outputs": [
    {
     "name": "stdout",
     "output_type": "stream",
     "text": [
      "DEBUG:Logger:PreSignedUrl to download twlog received OK\n",
      "DEBUG:Logger:Will execute:\n",
      "wget -Sq -O /tmp/twog.txt  \"http://s3.cern.ch/crabcache_preprod/belforte/210530_102306%3Abelforte_crab_20210530_122256/twlog?AWSAccessKeyId=ab00fcc889f248c495d2875f15a3badb&Expires=1625660040&Signature=Hi3g5u%2BSke99fadtOYCFcDcudIM%3D\"\n",
      "DEBUG:Logger:exitcode: 0\n",
      "stdout: \n",
      "stderr:   HTTP/1.1 200 OK\n",
      "  Accept-Ranges: bytes\n",
      "  Bucket: crabcache_preprod\n",
      "  Content-Length: 5297\n",
      "  Content-Type: binary/octet-stream\n",
      "  Date: Mon, 07 Jun 2021 12:14:00 GMT\n",
      "  Etag: \"b348677de7bb6eac699a7ce3e2bd5dd2\"\n",
      "  Last-Modified: Sun, 30 May 2021 10:23:31 GMT\n",
      "  X-Amz-Expiration: expiry-date=\"Fri, 02 Jul 2021 10:23:31 GMT\", rule-id=\"dj41lx7jufitiv0m7c858y53rr1mu941fuobedem72r9ebw7\"\n",
      "  X-Amz-Request-Id: tx000000000000002a8865b-0060be0d88-1c853219-default\n",
      "  X-Rgw-Object-Type: Normal\n",
      "\n"
     ]
    }
   ],
   "source": [
    "downloadFromS3(crabserver=server,filepath=outfile,objecttype='twlog',taskname=taskname,logger=logger)"
   ]
  },
  {
   "cell_type": "code",
   "execution_count": 22,
   "metadata": {},
   "outputs": [
    {
     "name": "stdout",
     "output_type": "stream",
     "text": [
      "DEBUG:Logger:twlog retrieved OK\n"
     ]
    },
    {
     "data": {
      "text/plain": [
       "u\"2021-05-30 12:23:14,896:INFO:RucioUtils:Initializing native Rucio client\\n2021-05-30 12:23:14,927:INFO:RucioUtils:Rucio server v.1.25.4 contacted\\n2021-05-30 12:23:15,052:INFO:RucioUtils:Rucio client initialized for crab_server in status ACTIVE\\n2021-05-30 12:23:15,513:INFO:MyProxyLogon:try first to retrieve credential with login name belforte_CRAB\\n2021-05-30 12:23:19,126:INFO:Handler:Finished <TaskWorker.Actions.MyProxyLogon.MyProxyLogon object at 0x7f4b874dfed0> on 210530_102306:belforte_crab_20210530_122256 in 3 seconds\\n2021-05-30 12:23:19,183:INFO:ServerUtilities:Will use GFAL2 commands for checking write permissions\\n2021-05-30 12:23:19,186:INFO:StageoutCheck:Will check stageout at T2_CH_CERN\\n2021-05-30 12:23:19,221:INFO:StageoutCheck:Executing cp command: env -i X509_USER_PROXY=/data/certs/creds/cfa0cb32f2043a8042e1290debf652b8fd62334e gfal-copy -v -p -t 180 file:///data/srv/TaskManager/210530102306belfortecrab20210530122256_crab3check.tmp gsiftp://eoscmsftp.cern.ch:2811/eos/cms/store/user/belforte/210530102306belfortecrab20210530122256_crab3check.tmp \\n2021-05-30 12:23:19,222:INFO:StageoutCheck:Executing command: env -i X509_USER_PROXY=/data/certs/creds/cfa0cb32f2043a8042e1290debf652b8fd62334e gfal-copy -v -p -t 180 file:///data/srv/TaskManager/210530102306belfortecrab20210530122256_crab3check.tmp gsiftp://eoscmsftp.cern.ch:2811/eos/cms/store/user/belforte/210530102306belfortecrab20210530122256_crab3check.tmp \\n2021-05-30 12:23:20,921:INFO:StageoutCheck:Executing rm command: env -i X509_USER_PROXY=/data/certs/creds/cfa0cb32f2043a8042e1290debf652b8fd62334e gfal-rm -v -t 180  gsiftp://eoscmsftp.cern.ch:2811/eos/cms/store/user/belforte/210530102306belfortecrab20210530122256_crab3check.tmp \\n2021-05-30 12:23:20,924:INFO:StageoutCheck:Executing command: env -i X509_USER_PROXY=/data/certs/creds/cfa0cb32f2043a8042e1290debf652b8fd62334e gfal-rm -v -t 180  gsiftp://eoscmsftp.cern.ch:2811/eos/cms/store/user/belforte/210530102306belfortecrab20210530122256_crab3check.tmp \\n2021-05-30 12:23:22,495:INFO:Handler:Finished <TaskWorker.Actions.StageoutCheck.StageoutCheck object at 0x7f4b8769d510> on 210530_102306:belforte_crab_20210530_122256 in 3 seconds\\n2021-05-30 12:23:23,703:INFO:Handler:Finished <TaskWorker.Actions.MakeFakeFileSet.MakeFakeFileSet object at 0x7f4b8769d090> on 210530_102306:belforte_crab_20210530_122256 in 1 seconds\\n2021-05-30 12:23:24,870:INFO:Handler:Finished <TaskWorker.Actions.Splitter.Splitter object at 0x7f4b8757d4d0> on 210530_102306:belforte_crab_20210530_122256 in 1 seconds\\n2021-05-30 12:23:25,329:INFO:DagmanCreator:Resulting available sites: ['T1_IT_CNAF', 'T2_HU_Budapest', 'T2_DE_DESY', 'T3_MX_Cinvestav', 'T3_TW_NCU', 'T2_AT_Vienna', 'T2_CH_CSCS', 'T2_UA_KIPT', 'T2_PK_NCP', 'T3_US_PuertoRico', 'T3_CN_THU', 'T2_US_Purdue', 'T3_RU_MEPhI', 'T2_UK_SGrid_RALPP', 'T2_FR_GRIF_LLR', 'T3_CH_CERN_DOMA', 'T2_BE_UCL', 'T2_ES_IFCA', 'T3_KR_KNU', 'T3_UK_London_QMUL', 'T3_US_Rice', 'T2_FR_IPHC', 'T3_ES_Oviedo', 'T3_US_OSU', 'T3_US_TAMU', 'T1_UK_RAL', 'T1_US_FNAL', 'T3_HU_Debrecen', 'T3_US_UMD', 'T2_CN_Beijing', 'T3_US_VC3_NotreDame', 'T2_RU_INR', 'T2_UK_London_Brunel', 'T3_US_Colorado', 'T2_RU_JINR', 'T3_BG_UNI_SOFIA', 'T3_US_FIT', 'T2_UK_London_IC', 'T2_IT_Pisa', 'T2_US_Vanderbilt', 'T2_BE_IIHE', 'T2_EE_Estonia', 'T3_UK_ScotGrid_GLA', 'T2_IN_TIFR', 'T3_IT_Perugia', 'T2_IT_Rome', 'T1_FR_CCIN2P3', 'T1_ES_PIC', 'T2_TR_METU', 'T2_US_Caltech', 'T2_US_Florida', 'T2_FR_GRIF_IRFU', 'T3_UK_London_RHUL', 'T2_UK_SGrid_Bristol', 'T3_US_Baylor', 'T2_IT_Bari', 'T2_US_Nebraska', 'T2_ES_CIEMAT', 'T1_DE_KIT', 'T2_US_UCSD', 'T3_US_FNALWILSON', 'T2_RU_IHEP', 'T2_US_Wisconsin', 'T1_RU_JINR', 'T2_US_MIT', 'T2_DE_RWTH', 'T2_IT_Legnaro', 'T2_KR_KISTI', 'T2_PT_NCG_Lisbon', 'T2_CH_CERN', 'T3_UK_SGrid_Oxford', 'T2_PL_Swierk', 'T3_IT_Trieste', 'T2_BR_SPRACE', 'T3_IT_Bologna']\\n2021-05-30 12:23:26,658:INFO:Handler:Finished <TaskWorker.Actions.DagmanCreator.DagmanCreator object at 0x7f4b8757dd10> on 210530_102306:belforte_crab_20210530_122256 in 1 seconds\\n2021-05-30 12:23:26,776:INFO:DagmanSubmitter:User belforte mapped to local groups set(['/cms', '/cms/TEAM', '/cms/itcms', 'T3_US_FNALLPC', '/cms/integration', '/cms/ALARM']).\\n2021-05-30 12:23:30,408:INFO:DagmanSubmitter:Summary of schedd failures/successes for slave process 1 (PID 15):\\n\\tcrab3@vocms0155.cern.ch:\\n\\t\\tNumber of successes:  2\\n\\t\\tNumber of failures:  0\\n\\tcrab3@vocms0199.cern.ch:\\n\\t\\tNumber of successes:  1\\n\\t\\tNumber of failures:  0\\n\\tcrab3@vocms0121.cern.ch:\\n\\t\\tNumber of successes:  1\\n\\t\\tNumber of failures:  0\\n\\tcrab3@vocms068.cern.ch:\\n\\t\\tNumber of successes:  1\\n\\t\\tNumber of failures:  0\\n\\tcrab3@vocms0119.cern.ch:\\n\\t\\tNumber of successes:  5\\n\\t\\tNumber of failures:  0\\n\\tcrab3@vocms0194.cern.ch:\\n\\t\\tNumber of successes:  1\\n\\t\\tNumber of failures:  0\\n\\tcrab3@vocms059.cern.ch:\\n\\t\\tNumber of successes:  6\\n\\t\\tNumber of failures:  0\\n\\tcrab3@vocms0106.cern.ch:\\n\\t\\tNumber of successes:  1\\n\\t\\tNumber of failures:  0\\n\\tcrab3@vocms0197.cern.ch:\\n\\t\\tNumber of successes:  3\\n\\t\\tNumber of failures:  0\\n\\tcrab3@vocms0107.cern.ch:\\n\\t\\tNumber of successes:  3\\n\\t\\tNumber of failures:  0\\n\\tcrab3@vocms0144.cern.ch:\\n\\t\\tNumber of successes:  1\\n\\t\\tNumber of failures:  0\\n\\tcrab3@vocms0137.cern.ch:\\n\\t\\tNumber of successes:  3\\n\\t\\tNumber of failures:  0\\nLast successful submission: ClusterId 8749705 submitted to schedd crab3@vocms059.cern.ch\\n\\n\""
      ]
     },
     "execution_count": 22,
     "metadata": {},
     "output_type": "execute_result"
    }
   ],
   "source": [
    "retrieveFromS3(crabserver=server,filepath=outfile,objecttype='twlog',taskname=taskname,logger=logger)"
   ]
  },
  {
   "cell_type": "code",
   "execution_count": 13,
   "metadata": {
    "scrolled": true
   },
   "outputs": [
    {
     "name": "stdout",
     "output_type": "stream",
     "text": [
      "DEBUG:Logger:PreSignedUrl to download twlog received OK\n",
      "DEBUG:Logger:Will execute:\n",
      "wget -Sq -O /tmp/clog.txt  \"http://s3.cern.ch/CRABCacheDev/belforte/210318_133054%3Abelforte_crab_20210318_143048/twlog?AWSAccessKeyId=ab00fcc889f248c495d2875f15a3badb&Expires=1620830972&Signature=RQhCg8Xqa7hV8Q%2BPP0TW0fHLQyo%3D\"\n",
      "DEBUG:Logger:exitcode: 0\n",
      "stdout: \n",
      "stderr:   HTTP/1.1 200 OK\n",
      "  Accept-Ranges: bytes\n",
      "  Bucket: CRABCacheDev\n",
      "  Content-Length: 155027\n",
      "  Content-Type: binary/octet-stream\n",
      "  Date: Mon, 12 Apr 2021 14:49:32 GMT\n",
      "  Etag: \"bfc00a4b18d00b73616b19fdd52bc600\"\n",
      "  Last-Modified: Sat, 10 Apr 2021 15:52:53 GMT\n",
      "  X-Amz-Request-Id: tx0000000000000108b1a86-0060745dfc-1755ec7b-default\n",
      "  X-Rgw-Object-Type: Normal\n",
      "\n"
     ]
    }
   ],
   "source": [
    "taskname='210318_133054:belforte_crab_20210318_143048'\n",
    "username='belforte'\n",
    "outfile='/tmp/clog.txt'\n",
    "downloadFromS3(crabserver=server,filepath=outfile,objecttype='twlog',taskname=taskname,logger=logger)"
   ]
  },
  {
   "cell_type": "code",
   "execution_count": 6,
   "metadata": {},
   "outputs": [],
   "source": [
    "sandbx = '/afs/cern.ch/user/b/belforte/WORK/JUPYTER/aSixPointThreeMBfile.tgz'\n",
    "sandbx = '/afs/cern.ch/user/b/belforte/WORK/JUPYTER/a100MBfile.tgz'\n",
    "object = 'sandbox'\n",
    "taskname = '210322_201314:belforte_crab_20210322_211307'\n",
    "taskname = None"
   ]
  },
  {
   "cell_type": "code",
   "execution_count": 7,
   "metadata": {},
   "outputs": [
    {
     "name": "stdout",
     "output_type": "stream",
     "text": [
      "DEBUG:Logger:Will execute:\n",
      "curl -f -v -X POST  -H \"User-Agent: CRAB\" -F \"key=belforte/sandboxes/cache15.tgz\" -F \"AWSAccessKeyId=ab00fcc889f248c495d2875f15a3badb\" -F \"policy=eyJjb25kaXRpb25zIjogW3siYnVja2V0IjogIkNSQUJDYWNoZURldiJ9LCB7ImtleSI6ICJiZWxmb3J0ZS9zYW5kYm94ZXMvY2FjaGUxNS50Z3oifV0sICJleHBpcmF0aW9uIjogIjIwMjEtMDUtMTJUMTA6MjE6NThaIn0=\" -F \"signature=NRBhmVwzUM+UPtFLB9D3wzwyxc0=\" -F \"file=@/afs/cern.ch/user/b/belforte/WORK/JUPYTER/a100MBfile.tgz\" \"http://s3.cern.ch/CRABCacheDev\"\n",
      "DEBUG:Logger:exitcode: 0\n",
      "stdout: \n",
      "stderr: Note: Unnecessary use of -X or --request, POST is already inferred.\n",
      "  % Total    % Received % Xferd  Average Speed   Time    Time     Time  Current\n",
      "                                 Dload  Upload   Total   Spent    Left  Speed\n",
      "  0     0    0     0    0     0      0      0 --:--:-- --:--:-- --:--:--     0*   Trying 2001:1458:d00:c::100:7c...\n",
      "* TCP_NODELAY set\n",
      "* Connected to s3.cern.ch (2001:1458:d00:c::100:7c) port 80 (#0)\n",
      "> POST /CRABCacheDev HTTP/1.1\n",
      "> Host: s3.cern.ch\n",
      "> Accept: */*\n",
      "> User-Agent: CRAB\n",
      "> Content-Length: 104248692\n",
      "> Content-Type: multipart/form-data; boundary=------------------------3f5262a308de5acc\n",
      "> Expect: 100-continue\n",
      "> \n",
      "* Done waiting for 100-continue\n",
      "  0 99.4M    0     0    0     0      0      0 --:--:--  0:00:01 --:--:--     0} [16384 bytes data]\n",
      "< HTTP/1.1 100 Continue\n",
      "} [16384 bytes data]\n",
      " 96 99.4M    0     0   96 96.2M      0  13.7M  0:00:07  0:00:06  0:00:01 16.8M< HTTP/1.1 204 No Content\n",
      "< Accept-Ranges: bytes\n",
      "< Bucket: CRABCacheDev\n",
      "< Date: Wed, 12 May 2021 09:22:06 GMT\n",
      "< X-Amz-Request-Id: tx000000000000014123170-00609b9e36-17a4c915-default\n",
      "< \n",
      "100 99.4M    0     0  100 99.4M      0  13.6M  0:00:07  0:00:07 --:--:-- 16.3M\n",
      "* Connection #0 to host s3.cern.ch left intact\n",
      "\n",
      "DEBUG:Logger:sandbox /afs/cern.ch/user/b/belforte/WORK/JUPYTER/a100MBfile.tgz successully uploaded to S3\n",
      "Elapsed time: 7 sec\n"
     ]
    }
   ],
   "source": [
    "t1=time.time()\n",
    "uploadToS3(crabserver=server,\n",
    "           taskname=taskname, objecttype=object, filepath=sandbx, tarballname='cache15.tgz',\n",
    "           logger=logger)\n",
    "t2=time.time()\n",
    "print('Elapsed time: %d sec' % (t2-t1))"
   ]
  },
  {
   "cell_type": "code",
   "execution_count": 16,
   "metadata": {},
   "outputs": [
    {
     "name": "stdout",
     "output_type": "stream",
     "text": [
      "DEBUG:Logger:PreSignedUrl to download sandbox received OK\n",
      "DEBUG:Logger:Will execute:\n",
      "wget -Sq -O /tmp/sand15  \"http://s3.cern.ch/CRABCacheDev/belforte/sandboxes/cache15.tgz?AWSAccessKeyId=ab00fcc889f248c495d2875f15a3badb&Expires=1618242578&Signature=t09IG2cYJ8YVPX3VtTkhW8dGVwU%3D\"\n",
      "DEBUG:Logger:exitcode: 0\n",
      "stdout: \n",
      "stderr:   HTTP/1.1 200 OK\n",
      "  Accept-Ranges: bytes\n",
      "  Bucket: CRABCacheDev\n",
      "  Content-Length: 104247840\n",
      "  Content-Type: binary/octet-stream\n",
      "  Date: Mon, 12 Apr 2021 14:49:38 GMT\n",
      "  Etag: \"dab908b1e3cef567341cdc2efac9222d\"\n",
      "  Last-Modified: Mon, 12 Apr 2021 13:53:24 GMT\n",
      "  X-Amz-Request-Id: tx0000000000000054fea39-0060745e02-18c14690-default\n",
      "  X-Rgw-Object-Type: Normal\n",
      "\n"
     ]
    }
   ],
   "source": [
    "downloadFromS3(crabserver=server,username='belforte',\n",
    "           objecttype='sandbox', tarballname='cache15.tgz', filepath='/tmp/sand15',\n",
    "           logger=logger)\n"
   ]
  },
  {
   "cell_type": "code",
   "execution_count": 17,
   "metadata": {},
   "outputs": [
    {
     "name": "stdout",
     "output_type": "stream",
     "text": [
      "DEBUG:Logger:Will execute:\n",
      "curl -f -v -X POST  -H \"User-Agent: CRAB\" -F \"key=belforte/210322_201314:belforte_crab_20210322_211307/clientlog\" -F \"AWSAccessKeyId=ab00fcc889f248c495d2875f15a3badb\" -F \"policy=eyJjb25kaXRpb25zIjogW3siYnVja2V0IjogIkNSQUJDYWNoZURldiJ9LCB7ImtleSI6ICJiZWxmb3J0ZS8yMTAzMjJfMjAxMzE0OmJlbGZvcnRlX2NyYWJfMjAyMTAzMjJfMjExMzA3L2NsaWVudGxvZyJ9XSwgImV4cGlyYXRpb24iOiAiMjAyMS0wNC0xMlQxNjo1NToxOVoifQ==\" -F \"signature=nD4/Pr5S4TwvtH1Ifsi/I+vWRzk=\" -F \"file=@/afs/cern.ch/user/b/belforte/WORK/CRAB3/TC3/LOCAL/crab_20210322_211305/crab.log\" \"http://s3.cern.ch/CRABCacheDev\"\n",
      "DEBUG:Logger:exitcode: 0\n",
      "stdout: \n",
      "stderr: Note: Unnecessary use of -X or --request, POST is already inferred.\n",
      "  % Total    % Received % Xferd  Average Speed   Time    Time     Time  Current\n",
      "                                 Dload  Upload   Total   Spent    Left  Speed\n",
      "  0     0    0     0    0     0      0      0 --:--:-- --:--:-- --:--:--     0*   Trying 2001:1458:d00:7::100:5a...\n",
      "* TCP_NODELAY set\n",
      "* Connected to s3.cern.ch (2001:1458:d00:7::100:5a) port 80 (#0)\n",
      "> POST /CRABCacheDev HTTP/1.1\n",
      "> Host: s3.cern.ch\n",
      "> Accept: */*\n",
      "> User-Agent: CRAB\n",
      "> Content-Length: 45129\n",
      "> Content-Type: multipart/form-data; boundary=------------------------079ee185466be527\n",
      "> Expect: 100-continue\n",
      "> \n",
      "* Done waiting for 100-continue\n",
      "  0 45129    0     0    0     0      0      0 --:--:--  0:00:01 --:--:--     0< HTTP/1.1 100 Continue\n",
      "} [16384 bytes data]\n",
      "< HTTP/1.1 204 No Content\n",
      "< Accept-Ranges: bytes\n",
      "< Bucket: CRABCacheDev\n",
      "< Date: Mon, 12 Apr 2021 15:55:20 GMT\n",
      "< X-Amz-Request-Id: tx0000000000000108f79f3-0060746d67-1755ec7b-default\n",
      "< \n",
      "100 45129    0     0  100 45129      0  43942  0:00:01  0:00:01 --:--:-- 43942\n",
      "* Connection #0 to host s3.cern.ch left intact\n",
      "\n",
      "DEBUG:Logger:clientlog /afs/cern.ch/user/b/belforte/WORK/CRAB3/TC3/LOCAL/crab_20210322_211305/crab.log successully uploaded to S3\n"
     ]
    }
   ],
   "source": [
    "aLog = '/afs/cern.ch/user/b/belforte/WORK/CRAB3/TC3/LOCAL/crab_20210322_211305/crab.log'\n",
    "object = 'clientlog'\n",
    "taskname = '210322_201314:belforte_crab_20210322_211307'\n",
    "\n",
    "uploadToS3(crabserver=server, \n",
    "           taskname=taskname, objecttype=object, filepath=aLog,\n",
    "           logger=logger)"
   ]
  },
  {
   "cell_type": "code",
   "execution_count": null,
   "metadata": {},
   "outputs": [],
   "source": [
    "mylog = retrieveFromS3(crabserver=server,\n",
    "           taskname=taskname, objecttype=object,\n",
    "           logger=logger)\n",
    "print(type(mylog))\n",
    "print(mylog)"
   ]
  },
  {
   "cell_type": "code",
   "execution_count": null,
   "metadata": {},
   "outputs": [],
   "source": [
    "uri='/crabserver/dev/cache'\n",
    "print(uri)\n",
    "cachename = 'cache4.tgz'\n",
    "dataDict = {'subresource':'upload',\n",
    "            'object':object,\n",
    "            'taskname':taskname,\n",
    "            'cachename':cachename}\n"
   ]
  },
  {
   "cell_type": "code",
   "execution_count": 4,
   "metadata": {},
   "outputs": [
    {
     "name": "stdout",
     "output_type": "stream",
     "text": [
      "DEBUG:Logger:PreSignedUrl to download clientlog received OK\n",
      "http://s3.cern.ch/CRABCacheDev/belforte/210322_201314%3Abelforte_crab_20210322_211305/clientlog?AWSAccessKeyId=ab00fcc889f248c495d2875f15a3badb&Expires=1620829616&Signature=daimDBnXLe%2FVV5WtoYeVsYJjM2A%3D\n"
     ]
    }
   ],
   "source": [
    "objecttype='clientlog'\n",
    "taskname='210322_201314:belforte_crab_20210322_211305'\n",
    "username='belforte'\n",
    "outfile='/tmp/clog.txt'\n",
    "tarballname=None\n",
    "preSignedUrl = getDonwloadUrlFromS3 (crabserver=server, objecttype=objecttype,\n",
    "            taskname=taskname, username=username, tarballname=tarballname, logger=logger)\n",
    "print(preSignedUrl)"
   ]
  },
  {
   "cell_type": "code",
   "execution_count": null,
   "metadata": {},
   "outputs": [],
   "source": []
  }
 ],
 "metadata": {
  "kernelspec": {
   "display_name": "Python 2",
   "language": "python",
   "name": "python2"
  },
  "language_info": {
   "codemirror_mode": {
    "name": "ipython",
    "version": 2
   },
   "file_extension": ".py",
   "mimetype": "text/x-python",
   "name": "python",
   "nbconvert_exporter": "python",
   "pygments_lexer": "ipython2",
   "version": "2.7.5"
  }
 },
 "nbformat": 4,
 "nbformat_minor": 2
}
