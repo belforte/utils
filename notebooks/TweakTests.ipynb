{
 "cells": [
  {
   "cell_type": "code",
   "execution_count": 1,
   "metadata": {},
   "outputs": [],
   "source": [
    "import pprint\n",
    "\n",
    "import json\n",
    "import logging\n",
    "import os\n",
    "import pickle\n",
    "import socket"
   ]
  },
  {
   "cell_type": "code",
   "execution_count": 2,
   "metadata": {},
   "outputs": [],
   "source": [
    "import PSetTweaks.WMTweak as WMTweaks\n",
    "from PSetTweaks.PSetTweak import PSetTweak"
   ]
  },
  {
   "cell_type": "code",
   "execution_count": 3,
   "metadata": {},
   "outputs": [],
   "source": [
    "from WMCore.WMRuntime.Tools.Scram import Scram"
   ]
  },
  {
   "cell_type": "code",
   "execution_count": 4,
   "metadata": {},
   "outputs": [],
   "source": [
    "cmsswVersion='CMSSW_10_6_12'\n",
    "scramArch='slc7_amd64_gcc700'\n",
    "scram = Scram(version=cmsswVersion, directory=os.getcwd()+'/scram', architecture=scramArch)"
   ]
  },
  {
   "cell_type": "code",
   "execution_count": 5,
   "metadata": {},
   "outputs": [],
   "source": [
    "def factory(module, name):\n",
    "    \"\"\"\n",
    "    _factory_\n",
    "    Function to return a dummy module name when a module\n",
    "    is not available\n",
    "    \"\"\"\n",
    "\n",
    "    class DummyClass(object):\n",
    "        \"\"\"\n",
    "        _DummyClass_\n",
    "        Dummy class to return when a cms class cannot be imported \n",
    "        \"\"\"\n",
    "        def __init__(self, module, name='', *args, **kwargs):\n",
    "            self.__module = module\n",
    "            self.__name = name\n",
    "            self.__d = dict()\n",
    "\n",
    "        def __setitem__(self, key, value):\n",
    "            self.__d[key] = value\n",
    "\n",
    "        def __getitem__(self, item):\n",
    "            return self.__d[item]\n",
    "\n",
    "        def __call__(self, *args, **kwargs):\n",
    "            pass\n",
    "\n",
    "        def __repr__(self):\n",
    "            return \"{module}.{name}\".format(module=self.__module, name=self.__name)\n",
    "\n",
    "    return DummyClass"
   ]
  },
  {
   "cell_type": "code",
   "execution_count": 6,
   "metadata": {},
   "outputs": [],
   "source": [
    "class Unpickler(pickle.Unpickler):\n",
    "    \"\"\"\n",
    "    _Unpickler_\n",
    "    Use this when loading a PSet pickle\n",
    "    and a specific module is not available (i.e.: FWCore modules)\n",
    "    \"\"\"\n",
    "    def find_class(self, module, name):\n",
    "        return factory(module, name)"
   ]
  },
  {
   "cell_type": "code",
   "execution_count": 7,
   "metadata": {
    "scrolled": true
   },
   "outputs": [
    {
     "data": {
      "text/plain": [
       "0"
      ]
     },
     "execution_count": 7,
     "metadata": {},
     "output_type": "execute_result"
    }
   ],
   "source": [
    "scram.project()"
   ]
  },
  {
   "cell_type": "code",
   "execution_count": 8,
   "metadata": {},
   "outputs": [
    {
     "data": {
      "text/plain": [
       "0"
      ]
     },
     "execution_count": 8,
     "metadata": {},
     "output_type": "execute_result"
    }
   ],
   "source": [
    "scram.runtime()"
   ]
  },
  {
   "cell_type": "code",
   "execution_count": null,
   "metadata": {},
   "outputs": [],
   "source": [
    "procScript = \"edm_pset_pickler.py\"\n",
    "cmd = \"%s --input %s --output_pkl %s\" % (\n",
    "    procScript, 'PSet.pkl', 'PSOut.pkl')"
   ]
  },
  {
   "cell_type": "code",
   "execution_count": 9,
   "metadata": {},
   "outputs": [],
   "source": [
    "with open('PSet.pkl','rb') as f:\n",
    "      process = Unpickler(f).load()"
   ]
  },
  {
   "cell_type": "code",
   "execution_count": 10,
   "metadata": {},
   "outputs": [
    {
     "name": "stdout",
     "output_type": "stream",
     "text": [
      "{'MessageLogger': <class '__main__.DummyClass'>.<class '__main__.DummyClass'>,\n",
      " 'PoolSource': <class '__main__.DummyClass'>.<class '__main__.DummyClass'>,\n",
      " '_DummyClass__d': {},\n",
      " '_DummyClass__module': <class '__main__.DummyClass'>,\n",
      " '_DummyClass__name': <class '__main__.DummyClass'>,\n",
      " '_Process__InExtendCall': False,\n",
      " '_Process__aliases': {},\n",
      " '_Process__analyzers': {'demo': <class '__main__.DummyClass'>.<class '__main__.DummyClass'>},\n",
      " '_Process__endpaths': <class '__main__.DummyClass'>.<class '__main__.DummyClass'>,\n",
      " '_Process__esprefers': {},\n",
      " '_Process__esproducers': {},\n",
      " '_Process__essources': {},\n",
      " '_Process__filters': {},\n",
      " '_Process__isStrict': False,\n",
      " '_Process__looper': None,\n",
      " '_Process__modifiers': (),\n",
      " '_Process__name': 'Demo',\n",
      " '_Process__outputmodules': {'out': <class '__main__.DummyClass'>.<class '__main__.DummyClass'>},\n",
      " '_Process__partialschedules': {},\n",
      " '_Process__paths': <class '__main__.DummyClass'>.<class '__main__.DummyClass'>,\n",
      " '_Process__producers': {},\n",
      " '_Process__psets': {'maxEvents': <class '__main__.DummyClass'>.<class '__main__.DummyClass'>},\n",
      " '_Process__schedule': None,\n",
      " '_Process__sequences': {},\n",
      " '_Process__services': {'MessageLogger': <class '__main__.DummyClass'>.<class '__main__.DummyClass'>},\n",
      " '_Process__source': <class '__main__.DummyClass'>.<class '__main__.DummyClass'>,\n",
      " '_Process__subProcesses': [],\n",
      " '_Process__switchproducers': {},\n",
      " '_Process__tasks': {},\n",
      " '_Process__vpsets': {},\n",
      " '_cloneToObjectDict': {139796765795792: <class '__main__.DummyClass'>.<class '__main__.DummyClass'>,\n",
      "                        139796765795920: <class '__main__.DummyClass'>.<class '__main__.DummyClass'>,\n",
      "                        139796765796048: <class '__main__.DummyClass'>.<class '__main__.DummyClass'>,\n",
      "                        139796765796176: <class '__main__.DummyClass'>.<class '__main__.DummyClass'>,\n",
      "                        139796765796368: <class '__main__.DummyClass'>.<class '__main__.DummyClass'>},\n",
      " 'demo': <class '__main__.DummyClass'>.<class '__main__.DummyClass'>,\n",
      " 'e': <class '__main__.DummyClass'>.<class '__main__.DummyClass'>,\n",
      " 'maxEvents': <class '__main__.DummyClass'>.<class '__main__.DummyClass'>,\n",
      " 'out': <class '__main__.DummyClass'>.<class '__main__.DummyClass'>,\n",
      " 'p': <class '__main__.DummyClass'>.<class '__main__.DummyClass'>,\n",
      " 'source': <class '__main__.DummyClass'>.<class '__main__.DummyClass'>}\n"
     ]
    }
   ],
   "source": [
    "pprint.pprint(process.__dict__)"
   ]
  },
  {
   "cell_type": "code",
   "execution_count": 12,
   "metadata": {},
   "outputs": [
    {
     "data": {
      "text/plain": [
       "<class '__main__.DummyClass'>.<class '__main__.DummyClass'>"
      ]
     },
     "execution_count": 12,
     "metadata": {},
     "output_type": "execute_result"
    }
   ],
   "source": [
    "getattr(process, \"source\", None)"
   ]
  },
  {
   "cell_type": "code",
   "execution_count": 13,
   "metadata": {},
   "outputs": [
    {
     "data": {
      "text/plain": [
       "<class '__main__.DummyClass'>.<class '__main__.DummyClass'>"
      ]
     },
     "execution_count": 13,
     "metadata": {},
     "output_type": "execute_result"
    }
   ],
   "source": [
    "getattr(process, \"_Process__source\", None)"
   ]
  },
  {
   "cell_type": "code",
   "execution_count": 16,
   "metadata": {},
   "outputs": [
    {
     "data": {
      "text/plain": [
       "False"
      ]
     },
     "execution_count": 16,
     "metadata": {},
     "output_type": "execute_result"
    }
   ],
   "source": [
    "hasattr(process, \"_Process_outputmodules_\")"
   ]
  },
  {
   "cell_type": "code",
   "execution_count": 17,
   "metadata": {},
   "outputs": [],
   "source": [
    "tweak = PSetTweak()"
   ]
  },
  {
   "cell_type": "code",
   "execution_count": 18,
   "metadata": {},
   "outputs": [],
   "source": [
    "tweak.addParameter(\"process.source.inputFile\", \"customTypeCms.untracked.string('')\")"
   ]
  },
  {
   "cell_type": "code",
   "execution_count": 19,
   "metadata": {},
   "outputs": [
    {
     "ename": "NameError",
     "evalue": "name 'psetTweak' is not defined",
     "output_type": "error",
     "traceback": [
      "\u001b[0;31m---------------------------------------------------------------------------\u001b[0m",
      "\u001b[0;31mNameError\u001b[0m                                 Traceback (most recent call last)",
      "\u001b[0;32m<ipython-input-19-737b5ba970e0>\u001b[0m in \u001b[0;36m<module>\u001b[0;34m()\u001b[0m\n\u001b[0;32m----> 1\u001b[0;31m \u001b[0mpsetTweak\u001b[0m\u001b[0;34m.\u001b[0m\u001b[0mpersist\u001b[0m\u001b[0;34m(\u001b[0m\u001b[0;34m'tweaks.json'\u001b[0m\u001b[0;34m,\u001b[0m \u001b[0mformatting\u001b[0m\u001b[0;34m=\u001b[0m\u001b[0;34m'simplejson'\u001b[0m\u001b[0;34m)\u001b[0m\u001b[0;34m\u001b[0m\u001b[0m\n\u001b[0m",
      "\u001b[0;31mNameError\u001b[0m: name 'psetTweak' is not defined"
     ]
    }
   ],
   "source": [
    "psetTweak.persist('tweaks.json', formatting='simplejson')\n"
   ]
  },
  {
   "cell_type": "code",
   "execution_count": null,
   "metadata": {},
   "outputs": [],
   "source": []
  }
 ],
 "metadata": {
  "kernelspec": {
   "display_name": "Python 2",
   "language": "python",
   "name": "python2"
  },
  "language_info": {
   "codemirror_mode": {
    "name": "ipython",
    "version": 2
   },
   "file_extension": ".py",
   "mimetype": "text/x-python",
   "name": "python",
   "nbconvert_exporter": "python",
   "pygments_lexer": "ipython2",
   "version": "2.7.5"
  }
 },
 "nbformat": 4,
 "nbformat_minor": 2
}
