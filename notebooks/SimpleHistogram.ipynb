{
 "cells": [
  {
   "cell_type": "code",
   "execution_count": 2,
   "metadata": {},
   "outputs": [],
   "source": [
    "import plotly.graph_objs as go\n",
    "import plotly\n",
    "file='/home/belforte/STEFANO/WORK/TEMP/CrabCacheList.txt'\n",
    "with open(file) as fp:\n",
    "    sbs=fp.readlines()\n",
    "sbs=[int(x.strip()) for x in sbs]\n",
    "all=[go.Histogram(x=sbs)]\n",
    "yaxis=dict(type='log')\n",
    "xaxis=dict(ticks='outside', ticklen=20, tickwidth=4, range=[0,120*1024*1024])\n",
    "fig=go.Figure(data=all, layout=go.Layout(xaxis=xaxis,yaxis=yaxis))\n",
    "#plotly.offline.plot(fig)"
   ]
  },
  {
   "cell_type": "markdown",
   "metadata": {},
   "source": [
    "Now try to do the same with Histbook and Vegas"
   ]
  },
  {
   "cell_type": "code",
   "execution_count": 13,
   "metadata": {},
   "outputs": [
    {
     "data": {
      "application/javascript": [
       "var spec = {\"$schema\": \"https://vega.github.io/schema/vega-lite/v2.json\", \"encoding\": {\"y\": {\"field\": \"a1\", \"type\": \"quantitative\", \"axis\": {\"title\": \"entries per bin\"}}, \"x\": {\"field\": \"a0\", \"scale\": {\"zero\": false}, \"type\": \"quantitative\", \"axis\": {\"title\": \"SandboxSize\"}}}, \"data\": {\"values\": [{\"a1\": 0.0, \"a0\": 0.0}, {\"a1\": 0.0, \"a0\": 1.3312e-05}, {\"a1\": 0.0, \"a0\": 1024.0}, {\"a1\": 0.0, \"a0\": 2048.0}, {\"a1\": 0.0, \"a0\": 3072.0}, {\"a1\": 0.0, \"a0\": 4096.0}, {\"a1\": 0.0, \"a0\": 5120.0}, {\"a1\": 1.0, \"a0\": 6144.0}, {\"a1\": 243.0, \"a0\": 7168.0}, {\"a1\": 3023.0, \"a0\": 8192.0}, {\"a1\": 3402.0, \"a0\": 9216.0}, {\"a1\": 1361.0, \"a0\": 10240.0}, {\"a1\": 334.0, \"a0\": 11264.0}, {\"a1\": 377.0, \"a0\": 12288.0}, {\"a1\": 100.0, \"a0\": 13312.0}, {\"a1\": 100.0, \"a0\": 14336.0}, {\"a1\": 8.0, \"a0\": 15360.0}, {\"a1\": 30.0, \"a0\": 16384.0}, {\"a1\": 114.0, \"a0\": 17408.0}, {\"a1\": 88.0, \"a0\": 18432.0}, {\"a1\": 5.0, \"a0\": 19456.0}, {\"a1\": 150.0, \"a0\": 20480.0}, {\"a1\": 281.0, \"a0\": 21504.0}, {\"a1\": 26.0, \"a0\": 22528.0}, {\"a1\": 2.0, \"a0\": 23552.0}, {\"a1\": 9.0, \"a0\": 24576.0}, {\"a1\": 5.0, \"a0\": 25600.0}, {\"a1\": 0.0, \"a0\": 26624.0}, {\"a1\": 0.0, \"a0\": 27648.0}, {\"a1\": 0.0, \"a0\": 28672.0}, {\"a1\": 0.0, \"a0\": 29696.0}, {\"a1\": 1.0, \"a0\": 30720.0}, {\"a1\": 0.0, \"a0\": 31744.0}, {\"a1\": 0.0, \"a0\": 32768.0}, {\"a1\": 1.0, \"a0\": 33792.0}, {\"a1\": 0.0, \"a0\": 34816.0}, {\"a1\": 1.0, \"a0\": 35840.0}, {\"a1\": 1.0, \"a0\": 36864.0}, {\"a1\": 2.0, \"a0\": 37888.0}, {\"a1\": 5.0, \"a0\": 38912.0}, {\"a1\": 6.0, \"a0\": 39936.0}, {\"a1\": 2.0, \"a0\": 40960.0}, {\"a1\": 1.0, \"a0\": 41984.0}, {\"a1\": 1.0, \"a0\": 43008.0}, {\"a1\": 14.0, \"a0\": 44032.0}, {\"a1\": 0.0, \"a0\": 45056.0}, {\"a1\": 3.0, \"a0\": 46080.0}, {\"a1\": 0.0, \"a0\": 47104.0}, {\"a1\": 2.0, \"a0\": 48128.0}, {\"a1\": 0.0, \"a0\": 49152.0}, {\"a1\": 2.0, \"a0\": 50176.0}, {\"a1\": 1.0, \"a0\": 51200.0}, {\"a1\": 0.0, \"a0\": 52224.0}, {\"a1\": 1.0, \"a0\": 53248.0}, {\"a1\": 0.0, \"a0\": 54272.0}, {\"a1\": 0.0, \"a0\": 55296.0}, {\"a1\": 0.0, \"a0\": 56320.0}, {\"a1\": 0.0, \"a0\": 57344.0}, {\"a1\": 0.0, \"a0\": 58368.0}, {\"a1\": 0.0, \"a0\": 59392.0}, {\"a1\": 0.0, \"a0\": 60416.0}, {\"a1\": 22.0, \"a0\": 61440.0}, {\"a1\": 2.0, \"a0\": 62464.0}, {\"a1\": 0.0, \"a0\": 63488.0}, {\"a1\": 0.0, \"a0\": 64512.0}, {\"a1\": 0.0, \"a0\": 65536.0}, {\"a1\": 224.0, \"a0\": 66560.0}, {\"a1\": 227.0, \"a0\": 67584.0}, {\"a1\": 0.0, \"a0\": 68608.0}, {\"a1\": 0.0, \"a0\": 69632.0}, {\"a1\": 1.0, \"a0\": 70656.0}, {\"a1\": 1.0, \"a0\": 71680.0}, {\"a1\": 3.0, \"a0\": 72704.0}, {\"a1\": 0.0, \"a0\": 73728.0}, {\"a1\": 0.0, \"a0\": 74752.0}, {\"a1\": 0.0, \"a0\": 75776.0}, {\"a1\": 0.0, \"a0\": 76800.0}, {\"a1\": 0.0, \"a0\": 77824.0}, {\"a1\": 0.0, \"a0\": 78848.0}, {\"a1\": 3.0, \"a0\": 79872.0}, {\"a1\": 1.0, \"a0\": 80896.0}, {\"a1\": 0.0, \"a0\": 81920.0}, {\"a1\": 0.0, \"a0\": 82944.0}, {\"a1\": 0.0, \"a0\": 83968.0}, {\"a1\": 0.0, \"a0\": 84992.0}, {\"a1\": 0.0, \"a0\": 86016.0}, {\"a1\": 0.0, \"a0\": 87040.0}, {\"a1\": 0.0, \"a0\": 88064.0}, {\"a1\": 0.0, \"a0\": 89088.0}, {\"a1\": 0.0, \"a0\": 90112.0}, {\"a1\": 0.0, \"a0\": 91136.0}, {\"a1\": 0.0, \"a0\": 92160.0}, {\"a1\": 1.0, \"a0\": 93184.0}, {\"a1\": 1.0, \"a0\": 94208.0}, {\"a1\": 7.0, \"a0\": 95232.0}, {\"a1\": 1.0, \"a0\": 96256.0}, {\"a1\": 0.0, \"a0\": 97280.0}, {\"a1\": 0.0, \"a0\": 98304.0}, {\"a1\": 0.0, \"a0\": 99328.0}, {\"a1\": 0.0, \"a0\": 100352.0}, {\"a1\": 0.0, \"a0\": 101376.0}, {\"a1\": 0.0, \"a0\": 102400.0}, {\"a1\": 0.0, \"a0\": 103424.0}, {\"a1\": 0.0, \"a0\": 104448.0}, {\"a1\": 5.0, \"a0\": 105472.0}, {\"a1\": 0.0, \"a0\": 106496.0}, {\"a1\": 0.0, \"a0\": 107520.0}, {\"a1\": 0.0, \"a0\": 108544.0}, {\"a1\": 0.0, \"a0\": 109568.0}, {\"a1\": 0.0, \"a0\": 110592.0}, {\"a1\": 0.0, \"a0\": 111616.0}, {\"a1\": 0.0, \"a0\": 112640.0}, {\"a1\": 0.0, \"a0\": 113664.0}, {\"a1\": 0.0, \"a0\": 114688.0}, {\"a1\": 0.0, \"a0\": 115712.0}, {\"a1\": 0.0, \"a0\": 116736.0}, {\"a1\": 0.0, \"a0\": 117760.0}, {\"a1\": 0.0, \"a0\": 118784.0}, {\"a1\": 0.0, \"a0\": 119808.0}, {\"a1\": 19.0, \"a0\": 120832.0}, {\"a1\": 0.0, \"a0\": 121856.0}, {\"a1\": 1.0, \"a0\": 122880.0}, {\"a1\": 0.0, \"a0\": 123904.0}, {\"a1\": 0.0, \"a0\": 124928.0}, {\"a1\": 6.0, \"a0\": 125952.0}, {\"a1\": 190.0, \"a0\": 126976.0}, {\"a1\": 0.0, \"a0\": 128000.0}, {\"a1\": 0.0, \"a0\": 129024.0}, {\"a1\": 1.0, \"a0\": 130048.0}, {\"a1\": 1.0, \"a0\": 131072.0}, {\"a1\": 0.0, \"a0\": 132096.0}, {\"a1\": 0.0, \"a0\": 133120.0}]}, \"transform\": [], \"mark\": {\"type\": \"line\", \"clip\": true, \"interpolate\": \"step-before\"}};\n",
       "var opt = {};\n",
       "var type = \"vega-lite\";\n",
       "var id = \"53d06dee-2976-4409-83d8-e16941e3f3b3\";\n",
       "\n",
       "var output_area = this;\n",
       "\n",
       "require([\"nbextensions/jupyter-vega/index\"], function(vega) {\n",
       "  var target = document.createElement(\"div\");\n",
       "  target.id = id;\n",
       "  target.className = \"vega-embed\";\n",
       "\n",
       "  var style = document.createElement(\"style\");\n",
       "  style.textContent = [\n",
       "    \".vega-embed .error p {\",\n",
       "    \"  color: firebrick;\",\n",
       "    \"  font-size: 14px;\",\n",
       "    \"}\",\n",
       "  ].join(\"\\\\n\");\n",
       "\n",
       "  // element is a jQuery wrapped DOM element inside the output area\n",
       "  // see http://ipython.readthedocs.io/en/stable/api/generated/\\\n",
       "  // IPython.display.html#IPython.display.Javascript.__init__\n",
       "  element[0].appendChild(target);\n",
       "  element[0].appendChild(style);\n",
       "\n",
       "  vega.render(\"#\" + id, spec, type, opt, output_area);\n",
       "}, function (err) {\n",
       "  if (err.requireType !== \"scripterror\") {\n",
       "    throw(err);\n",
       "  }\n",
       "});\n"
      ],
      "text/plain": [
       "<vega.vegalite.VegaLite at 0x7f3e7278fd50>"
      ]
     },
     "execution_count": 13,
     "metadata": {
      "jupyter-vega": "#53d06dee-2976-4409-83d8-e16941e3f3b3"
     },
     "output_type": "execute_result"
    },
    {
     "data": {
      "image/png": "[encoded data removed]"
     },
     "metadata": {
      "jupyter-vega": "#53d06dee-2976-4409-83d8-e16941e3f3b3"
     },
     "output_type": "display_data"
    }
   ],
   "source": [
    "# Try with same with Histbook and Vegas\n",
    "from histbook import *\n",
    "import numpy\n",
    "from vega import VegaLite as canvas\n",
    "histogram = Hist(bin(\"SandboxSize\", 130, 0, 130*1024))\n",
    "histogram.fill(SandboxSize=sbs)\n",
    "histogram.step(\"SandboxSize\").to(canvas)\n"
   ]
  },
  {
   "cell_type": "code",
   "execution_count": null,
   "metadata": {},
   "outputs": [],
   "source": []
  }
 ],
 "metadata": {
  "kernelspec": {
   "display_name": "Python 2",
   "language": "python",
   "name": "python2"
  },
  "language_info": {
   "codemirror_mode": {
    "name": "ipython",
    "version": 2
   },
   "file_extension": ".py",
   "mimetype": "text/x-python",
   "name": "python",
   "nbconvert_exporter": "python",
   "pygments_lexer": "ipython2",
   "version": "2.7.15rc1"
  }
 },
 "nbformat": 4,
 "nbformat_minor": 2
}
