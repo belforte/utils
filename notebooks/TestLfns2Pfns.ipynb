{
 "cells": [
  {
   "cell_type": "code",
   "execution_count": 31,
   "metadata": {},
   "outputs": [],
   "source": [
    "import pprint\n",
    "import logging, sys\n",
    "\n",
    "logging.basicConfig(stream=sys.stdout, level=logging.NOTSET) # log all messages\n",
    "#logging.basicConfig(stream=sys.stdout, level=logging.DEBUG)\n",
    "#logging.basicConfig(stream=sys.stdout, level=logging.INFO)\n",
    "\n",
    "logger = logging.getLogger('Logger')"
   ]
  },
  {
   "cell_type": "code",
   "execution_count": 2,
   "metadata": {},
   "outputs": [],
   "source": [
    "from rucio.client import Client\n",
    "from rucio.rse.rsemanager import find_matching_scheme\n",
    "cli=Client()"
   ]
  },
  {
   "cell_type": "code",
   "execution_count": 3,
   "metadata": {},
   "outputs": [],
   "source": [
    "dd=cli.list_rses()\n",
    "rses=list(dd)\n"
   ]
  },
  {
   "cell_type": "code",
   "execution_count": 29,
   "metadata": {},
   "outputs": [
    {
     "name": "stdout",
     "output_type": "stream",
     "text": [
      "[u'rse_type', u'region_code', u'ISP', u'updated_at', u'vo', u'qos_class', u'id', u'deleted_at', u'availability', u'city', u'deterministic', u'continent', u'volatile', u'country_name', u'ASN', u'deleted', u'rse', u'staging_area', u'latitude', u'created_at', u'time_zone', u'longitude']\n",
      "{u'ASN': None,\n",
      " u'ISP': None,\n",
      " u'availability': 7,\n",
      " u'city': None,\n",
      " u'continent': None,\n",
      " u'country_name': None,\n",
      " u'created_at': datetime.datetime(2021, 2, 11, 16, 19, 16),\n",
      " u'deleted': False,\n",
      " u'deleted_at': None,\n",
      " u'deterministic': True,\n",
      " u'id': u'1f24d71ae25c4d52b0a7787b78d088ff',\n",
      " u'latitude': None,\n",
      " u'longitude': None,\n",
      " u'qos_class': None,\n",
      " u'region_code': None,\n",
      " u'rse': u'T0_CH_CERN_Disk',\n",
      " u'rse_type': u'DISK',\n",
      " u'staging_area': False,\n",
      " u'time_zone': None,\n",
      " u'updated_at': datetime.datetime(2021, 2, 11, 16, 19, 16),\n",
      " u'vo': u'def',\n",
      " u'volatile': False}\n"
     ]
    }
   ],
   "source": [
    "len(rses)\n",
    "print(rses[0].keys())\n",
    "pprint.pprint(rses[0])"
   ]
  },
  {
   "cell_type": "code",
   "execution_count": 8,
   "metadata": {},
   "outputs": [
    {
     "name": "stdout",
     "output_type": "stream",
     "text": [
      "(u'T0_CH_CERN_Disk', ' : ', [u'root', u'gsiftp'])\n",
      "(u'T2_BE_UCL', ' : ', [u'srm'])\n",
      "(u'T2_FR_CCIN2P3', ' : ', [u'srm'])\n",
      "(u'T2_FR_CCIN2P3_Temp', ' : ', [u'srm'])\n",
      "(u'T2_GR_Ioannina', ' : ', [u'srm'])\n",
      "(u'T2_GR_Ioannina_Temp', ' : ', [u'srm'])\n",
      "(u'T2_GR_Ioannina_Test', ' : ', [u'srm'])\n",
      "(u'T2_IT_Pisa', ' : ', [u'srm'])\n",
      "(u'T2_PK_NCP', ' : ', [u'root', u'srm'])\n",
      "(u'T2_PK_NCP_Test', ' : ', [u'root', u'srm'])\n",
      "(u'T2_PL_Warsaw', ' : ', [u'mock'])\n",
      "(u'T2_UK_SGrid_Bristol', ' : ', [u'gsiftp'])\n",
      "(u'T2_US_Caltech_Ceph', ' : ', [u'gsiftp'])\n",
      "(u'T2_US_Caltech_Ceph_Test', ' : ', [u'gsiftp'])\n",
      "(u'T2_US_Vanderbilt', ' : ', [u'gsiftp'])\n",
      "(u'T3_CH_CERNBOX', ' : ', [u'gsiftp'])\n",
      "(u'T3_CH_CERN_OpenData', ' : ', [u'gsiftp'])\n",
      "(u'T3_CH_PSI', ' : ', [u'root', u'srm'])\n",
      "(u'T3_CH_PSI_Temp', ' : ', [u'root', u'srm'])\n",
      "(u'T3_FR_IPNL', ' : ', [u'srm'])\n",
      "(u'T3_FR_IPNL_Temp', ' : ', [u'srm'])\n",
      "(u'T3_HR_IRB', ' : ', [])\n",
      "(u'T3_IT_MIB', ' : ', [u'srm'])\n",
      "(u'T3_IT_MIB_Temp', ' : ', [u'srm'])\n",
      "(u'T3_IT_MIB_Test', ' : ', [u'srm'])\n",
      "(u'T3_KR_KISTI', ' : ', [u'gsiftp'])\n",
      "(u'T3_KR_UOS', ' : ', [u'gsiftp', u'root'])\n",
      "(u'T3_MX_Cinvestav', ' : ', [u'gsiftp'])\n",
      "(u'T3_MX_Cinvestav_Temp', ' : ', [u'gsiftp'])\n",
      "(u'T3_MX_Cinvestav_Test', ' : ', [u'gsiftp'])\n",
      "(u'T3_TW_NCU', ' : ', [u'srm'])\n",
      "(u'T3_TW_NCU_Temp', ' : ', [u'srm'])\n",
      "(u'T3_TW_NTU_HEP', ' : ', [u'srm'])\n",
      "(u'T3_US_Baylor', ' : ', [u'gsiftp'])\n",
      "(u'T3_US_Brown', ' : ', [u'gsiftp'])\n",
      "(u'T3_US_CMU', ' : ', [u'gsiftp'])\n",
      "(u'T3_US_CMU_Temp', ' : ', [u'gsiftp'])\n",
      "(u'T3_US_CMU_Test', ' : ', [u'gsiftp'])\n",
      "(u'T3_US_Colorado', ' : ', [u'gsiftp'])\n",
      "(u'T3_US_FNALLPC', ' : ', [u'gsiftp'])\n",
      "(u'T3_US_FNALLPC_Temp', ' : ', [u'gsiftp', u'root'])\n",
      "(u'T3_US_NERSC', ' : ', [u'gsiftp', u'gsiftp', u'gsiftp', u'gsiftp'])\n",
      "(u'T3_US_NotreDame', ' : ', [u'gsiftp'])\n",
      "(u'T3_US_NotreDame_Temp', ' : ', [u'gsiftp'])\n",
      "(u'T3_US_NotreDame_Test', ' : ', [u'gsiftp'])\n",
      "(u'T3_US_Princeton_ICSE', ' : ', [u'gsiftp'])\n",
      "(u'T3_US_Rice', ' : ', [u'gsiftp'])\n",
      "(u'T3_US_Rutgers', ' : ', [u'gsiftp'])\n",
      "(u'T3_US_TAMU', ' : ', [u'gsiftp'])\n",
      "(u'T3_US_UMD', ' : ', [u'gsiftp'])\n",
      "(u'T3_US_UMD_Temp', ' : ', [u'gsiftp'])\n",
      "(u'T3_US_UMiss', ' : ', [u'gsiftp', u'root'])\n"
     ]
    }
   ],
   "source": [
    "for rse in rses:\n",
    "    if not rse['rse_type'] == 'DISK':\n",
    "        continue\n",
    "    site = rse['rse']\n",
    "    #print(site)\n",
    "    dd=cli.get_rse(site)\n",
    "    schemes = [p['scheme']for p in dd['protocols']]\n",
    "    if not 'davs' in schemes:\n",
    "        print (site,' : ',schemes)\n",
    "    \n",
    "    "
   ]
  },
  {
   "cell_type": "code",
   "execution_count": 3,
   "metadata": {},
   "outputs": [],
   "source": [
    "site='T2_DESY'\n",
    "lfn1='/store/temp/user/belforte/afile-%s.root'\n",
    "lfn='/store/temp/user/belforte/afile.root'\n",
    "lfn='/store/user/belforte/afile.root'\n",
    "lfns=[lfn]\n",
    "dids=['cms:'+lfn for lfn in lfns]"
   ]
  },
  {
   "cell_type": "code",
   "execution_count": 9,
   "metadata": {},
   "outputs": [
    {
     "name": "stdout",
     "output_type": "stream",
     "text": [
      "T2_US_Vanderbilt\n",
      "{u'read': 1, u'write': 1, u'third_party_copy': 2, u'delete': 1}\n"
     ]
    }
   ],
   "source": [
    "site='T2_IT_Legnaro'\n",
    "site= 'T2_US_Vanderbilt'\n",
    "#site='T3_CH_CERNBOX'\n",
    "#site='T2_US_Nebraska'\n",
    "print(site)\n",
    "pd=cli.get_rse(site)\n",
    "#pprint.pprint(pd['protocols'])\n",
    "print(pd['protocols'][0]['domains']['wan'])"
   ]
  },
  {
   "cell_type": "code",
   "execution_count": 10,
   "metadata": {},
   "outputs": [
    {
     "name": "stdout",
     "output_type": "stream",
     "text": [
      "{u'availability_delete': True,\n",
      " u'availability_read': True,\n",
      " u'availability_write': True,\n",
      " u'credentials': None,\n",
      " u'delete_protocol': 1,\n",
      " u'deterministic': True,\n",
      " u'domain': [u'lan', u'wan'],\n",
      " u'id': u'5eeec458c03d4bd18ef70a3cad0a31af',\n",
      " u'lfn2pfn_algorithm': u'cmstfc',\n",
      " u'protocols': [{u'domains': {u'lan': {u'delete': 0,\n",
      "                                       u'read': 0,\n",
      "                                       u'write': 0},\n",
      "                              u'wan': {u'delete': 1,\n",
      "                                       u'read': 1,\n",
      "                                       u'third_party_copy': 2,\n",
      "                                       u'write': 1}},\n",
      "                 u'extended_attributes': None,\n",
      "                 u'hostname': u'gridftp-vanderbilt.sites.opensciencegrid.org',\n",
      "                 u'impl': u'rucio.rse.protocols.gfalv2.Default',\n",
      "                 u'port': 2811,\n",
      "                 u'prefix': u'/lio/lfs/cms/',\n",
      "                 u'scheme': u'gsiftp'}],\n",
      " u'qos_class': None,\n",
      " u'read_protocol': 1,\n",
      " u'rse': u'T2_US_Vanderbilt',\n",
      " u'rse_type': u'DISK',\n",
      " u'sign_url': None,\n",
      " u'staging_area': False,\n",
      " u'third_party_copy_protocol': 1,\n",
      " u'verify_checksum': True,\n",
      " u'volatile': False,\n",
      " u'write_protocol': 1}\n"
     ]
    }
   ],
   "source": [
    "pprint.pprint(pd)"
   ]
  },
  {
   "cell_type": "code",
   "execution_count": 15,
   "metadata": {},
   "outputs": [
    {
     "name": "stdout",
     "output_type": "stream",
     "text": [
      "gsiftp\n",
      "davs\n",
      "root\n"
     ]
    }
   ],
   "source": [
    "for p in pd['protocols']:\n",
    "    print p['scheme']"
   ]
  },
  {
   "cell_type": "code",
   "execution_count": 5,
   "metadata": {},
   "outputs": [
    {
     "ename": "NameError",
     "evalue": "name 'dids' is not defined",
     "output_type": "error",
     "traceback": [
      "\u001b[0;31m---------------------------------------------------------------------------\u001b[0m",
      "\u001b[0;31mNameError\u001b[0m                                 Traceback (most recent call last)",
      "\u001b[0;32m<ipython-input-5-436ff2380af8>\u001b[0m in \u001b[0;36m<module>\u001b[0;34m()\u001b[0m\n\u001b[1;32m     11\u001b[0m \u001b[0;31m#site='T2_DE_DESY'\u001b[0m\u001b[0;34m\u001b[0m\u001b[0;34m\u001b[0m\u001b[0m\n\u001b[1;32m     12\u001b[0m \u001b[0;31m#site='T1_DE_KIT_Disk'\u001b[0m\u001b[0;34m\u001b[0m\u001b[0;34m\u001b[0m\u001b[0m\n\u001b[0;32m---> 13\u001b[0;31m \u001b[0;32mprint\u001b[0m\u001b[0;34m(\u001b[0m\u001b[0mdids\u001b[0m\u001b[0;34m)\u001b[0m\u001b[0;34m\u001b[0m\u001b[0m\n\u001b[0m\u001b[1;32m     14\u001b[0m \u001b[0;31m#site='T3_CH_CERNBOX'\u001b[0m\u001b[0;34m\u001b[0m\u001b[0;34m\u001b[0m\u001b[0m\n\u001b[1;32m     15\u001b[0m \u001b[0;34m\u001b[0m\u001b[0m\n",
      "\u001b[0;31mNameError\u001b[0m: name 'dids' is not defined"
     ]
    }
   ],
   "source": [
    "site='T3_US_CMU'\n",
    "#site='T2_IT_Bari_Temp'\n",
    "site='T3_US_TAMU'\n",
    "#site='T3_KR_UOS'\n",
    "#site='T3_TW_NTU_HEP'\n",
    "site='T3_US_FNALLPC'\n",
    "#site='T1_US_FNAL_Disk'\n",
    "site='T2_IT_Pisa'\n",
    "#site='T2_IT_Legnaro'\n",
    "site='T3_CH_CERNBOX'\n",
    "#site='T2_DE_DESY'\n",
    "#site='T1_DE_KIT_Disk'\n",
    "print(dids)\n",
    "#site='T3_CH_CERNBOX'\n",
    "\n",
    "pd=cli.lfns2pfns(site,dids,operation='write', scheme='davs')\n",
    "#pd=cli.lfns2pfns(site,dids)\n",
    "\n",
    "pprint.pprint(pd)"
   ]
  },
  {
   "cell_type": "code",
   "execution_count": 7,
   "metadata": {},
   "outputs": [
    {
     "name": "stdout",
     "output_type": "stream",
     "text": [
      "(u'gsiftp', u'srm')\n"
     ]
    }
   ],
   "source": [
    "client=cli\n",
    "src_rse = \"T2_IT_Legnaro\"\n",
    "dst_rse = \"T3_CH_CERNBOX\"\n",
    "dids = [\"cms:/store/user/ncsmith/my_file.root\"]\n",
    "dst_scheme, src_scheme, _, _ = find_matching_scheme(\n",
    "    {\"protocols\": client.get_protocols(dst_rse)},\n",
    "    {\"protocols\": client.get_protocols(src_rse)},\n",
    "    \"third_party_copy\",\n",
    "    \"third_party_copy\",\n",
    ")\n",
    "print(dst_scheme, src_scheme)\n",
    "\n"
   ]
  },
  {
   "cell_type": "code",
   "execution_count": 6,
   "metadata": {},
   "outputs": [
    {
     "name": "stdout",
     "output_type": "stream",
     "text": [
      "u'gsiftp'\n",
      "u'srm'\n",
      "{u'cms:/store/user/ncsmith/my_file.root': u'srm://t2-srm-02.lnl.infn.it:8443/srm/managerv2?SFN=/pnfs/lnl.infn.it/data/cms/store/user/ncsmith/my_file.root'}\n",
      "{u'cms:/store/user/ncsmith/my_file.root': u'gsiftp://eosuserftp.cern.ch:2811/eos/user/n/ncsmith/my_file.root'}\n",
      "srm://t2-srm-02.lnl.infn.it:8443/srm/managerv2?SFN=/pnfs/lnl.infn.it/data/cms/store/user/ncsmith/my_file.root\n",
      "gsiftp://eosuserftp.cern.ch:2811/eos/user/n/ncsmith/my_file.root\n"
     ]
    }
   ],
   "source": [
    "client=cli\n",
    "src_rse = \"T2_IT_Legnaro\"\n",
    "dst_rse = \"T3_CH_CERNBOX\"\n",
    "#src_rse = 'T2_DE_RWTH'\n",
    "#dst_rse = 'T2_US_Caltech'\n",
    "#src_rse = 'T2_BE_UCL'\n",
    "#dst_rse = 'T2_US_Vanderbilt'\n",
    "dids = [\"cms:/store/user/ncsmith/my_file.root\"]\n",
    "dst_scheme, src_scheme, _, _ = find_matching_scheme(\n",
    "    {\"protocols\": client.get_protocols(dst_rse)},\n",
    "    {\"protocols\": client.get_protocols(src_rse)},\n",
    "    #\"third_party_copy\",\n",
    "    #\"third_party_copy\",\n",
    "    \"third_party_copy\",\n",
    "    \"write\",\n",
    ")\n",
    "pprint.pprint(dst_scheme)\n",
    "pprint.pprint(src_scheme)\n",
    "\n",
    "src_pfns = client.lfns2pfns(src_rse, dids, operation=\"third_party_copy\", scheme=src_scheme)\n",
    "dst_pfns = client.lfns2pfns(dst_rse, dids, operation=\"third_party_copy\", scheme=dst_scheme)\n",
    "pprint.pprint(src_pfns)\n",
    "pprint.pprint(dst_pfns)\n",
    "print(src_pfns[dids[0]])\n",
    "print(dst_pfns[dids[0]])\n"
   ]
  },
  {
   "cell_type": "code",
   "execution_count": 10,
   "metadata": {},
   "outputs": [
    {
     "name": "stdout",
     "output_type": "stream",
     "text": [
      "found a total of 221 RSEs\n",
      "of those: 16 Tape  66 Test  53 Temp\n",
      "leavin 86 normal/production RSEs\n",
      "T0_CH_CERN_Disk\n"
     ]
    }
   ],
   "source": [
    "# this returns a generator\n",
    "rses=cli.list_rses()\n",
    "# but I want a list\n",
    "RSEs = [ rse['rse'] for rse in rses]\n",
    "tape=0\n",
    "test=0\n",
    "temp=0\n",
    "for rse in RSEs:\n",
    "    if 'Tape' in rse:\n",
    "        tape +=1\n",
    "    else:\n",
    "        if 'Test' in rse: test += 1\n",
    "        if 'Temp' in rse: temp +=1\n",
    "        \n",
    "print('found a total of %d RSEs'%len(RSEs))\n",
    "print('of those: %d Tape  %d Test  %d Temp' % (tape, test, temp))\n",
    "print('leavin %d normal/production RSEs' % (len(RSEs) - tape - test-temp))\n",
    "print(RSEs[0])"
   ]
  },
  {
   "cell_type": "code",
   "execution_count": null,
   "metadata": {},
   "outputs": [],
   "source": [
    "#pprint.pprint(RSEs)\n",
    "# this returns a generator\n",
    "rses=cli.list_rses()\n",
    "# but I want a list\n",
    "RSEs = [ rse['rse'] for rse in rses]"
   ]
  },
  {
   "cell_type": "code",
   "execution_count": 15,
   "metadata": {},
   "outputs": [
    {
     "name": "stdout",
     "output_type": "stream",
     "text": [
      "True\n",
      "('FOUND, %d', 186)\n",
      "T3_CH_CERNBOX\n",
      "gsiftp://eosuserftp.cern.ch:2811/eos/user/n/ncsmith/my_file.root\n"
     ]
    }
   ],
   "source": [
    "dids = [\"cms:/store/user/ncsmith/my_file.root\"]\n",
    "print('T3_CH_CERNBOX' in RSEs)\n",
    "i=0\n",
    "for rse in RSEs:\n",
    "    if rse=='T3_CH_CERNBOX':\n",
    "        print('FOUND, %d', i)\n",
    "        break\n",
    "    i = i+1\n",
    "#site=RSEs[179]\n",
    "site='T2_US_MIT'\n",
    "site='T3_CH_CERNBOX'\n",
    "print(site)\n",
    "pd=cli.lfns2pfns(site,dids,operation='third_party_copy')\n",
    "#print(pd)\n",
    "print(pd[dids[0]])"
   ]
  },
  {
   "cell_type": "code",
   "execution_count": 53,
   "metadata": {},
   "outputs": [
    {
     "name": "stdout",
     "output_type": "stream",
     "text": [
      "DEBUG:dogpile.lock:value creation lock <dogpile.cache.region._LockWrapper object at 0x7f57a029a410> acquired\n",
      "DEBUG:dogpile.lock:Calling creation function for previously expired value\n",
      "DEBUG:dogpile.lock:Released creation lock\n",
      "DEBUG:urllib3.connectionpool:Resetting dropped connection: cms-rucio.cern.ch\n",
      "DEBUG:urllib3.connectionpool:http://cms-rucio.cern.ch:80 \"GET /rses/T3_IT_Trieste HTTP/1.1\" 401 106\n",
      "DEBUG:rucio.client.baseclient:get a new token\n",
      "DEBUG:urllib3.connectionpool:Starting new HTTPS connection (1): cms-rucio-auth.cern.ch:443\n",
      "DEBUG:urllib3.connectionpool:https://cms-rucio-auth.cern.ch:443 \"GET /auth/x509_proxy HTTP/1.1\" 200 0\n",
      "DEBUG:rucio.client.baseclient:got new token\n",
      "DEBUG:urllib3.connectionpool:Starting new HTTP connection (1): cms-rucio.cern.ch:80\n",
      "DEBUG:urllib3.connectionpool:http://cms-rucio.cern.ch:80 \"GET /rses/T3_IT_Trieste HTTP/1.1\" 200 None\n",
      "DEBUG:urllib3.connectionpool:http://cms-rucio.cern.ch:80 \"GET /rses/T3_IT_Trieste HTTP/1.1\" 200 None\n",
      "T3_IT_Trieste\n",
      "davs\n",
      "root\n",
      "gsiftp\n",
      "DEBUG:urllib3.connectionpool:http://cms-rucio.cern.ch:80 \"GET /rses/T2_US_Nebraska HTTP/1.1\" 200 None\n",
      "DEBUG:urllib3.connectionpool:http://cms-rucio.cern.ch:80 \"GET /rses/T2_US_Nebraska HTTP/1.1\" 200 None\n",
      "T2_US_Nebraska\n",
      "gsiftp\n",
      "davs\n",
      "root\n",
      "DEBUG:urllib3.connectionpool:http://cms-rucio.cern.ch:80 \"GET /rses/T3_CH_CERNBOX HTTP/1.1\" 200 None\n",
      "DEBUG:urllib3.connectionpool:http://cms-rucio.cern.ch:80 \"GET /rses/T3_CH_CERNBOX HTTP/1.1\" 200 None\n",
      "T3_CH_CERNBOX\n",
      "gsiftp\n",
      "DEBUG:urllib3.connectionpool:http://cms-rucio.cern.ch:80 \"GET /rses/T2_US_Vanderbilt HTTP/1.1\" 200 None\n",
      "DEBUG:urllib3.connectionpool:http://cms-rucio.cern.ch:80 \"GET /rses/T2_US_Vanderbilt HTTP/1.1\" 200 None\n",
      "T2_US_Vanderbilt\n",
      "gsiftp\n",
      "DEBUG:urllib3.connectionpool:http://cms-rucio.cern.ch:80 \"GET /rses/T2_CH_CERN HTTP/1.1\" 200 None\n",
      "DEBUG:urllib3.connectionpool:http://cms-rucio.cern.ch:80 \"GET /rses/T2_CH_CERN HTTP/1.1\" 200 None\n",
      "T2_CH_CERN\n",
      "davs\n",
      "root\n",
      "gsiftp\n",
      "DEBUG:urllib3.connectionpool:http://cms-rucio.cern.ch:80 \"GET /rses/T2_IT_Pisa HTTP/1.1\" 200 None\n",
      "DEBUG:urllib3.connectionpool:http://cms-rucio.cern.ch:80 \"GET /rses/T2_IT_Pisa HTTP/1.1\" 200 None\n",
      "T2_IT_Pisa\n",
      "srm\n",
      "davs\n"
     ]
    }
   ],
   "source": [
    "for site in [\n",
    "    'T3_IT_Trieste',\n",
    "    'T2_US_Nebraska',\n",
    "    'T3_CH_CERNBOX',\n",
    "    'T2_US_Vanderbilt',\n",
    "    'T2_CH_CERN',\n",
    "    'T2_IT_Pisa'\n",
    "]:\n",
    "    #print (site)\n",
    "    di=cli.get_rse(site)\n",
    "    #print(di)\n",
    "    #print(di['third_party_copy_protocol'])\n",
    "    #print(di['protocols'][0]['scheme'])\n",
    "    rse = cli.get_rse(site)\n",
    "    print(site)\n",
    "    for protocol in rse['protocols']:\n",
    "        print protocol['scheme']"
   ]
  },
  {
   "cell_type": "code",
   "execution_count": 34,
   "metadata": {},
   "outputs": [
    {
     "name": "stdout",
     "output_type": "stream",
     "text": [
      "MISMATCH\n",
      "8 T1_US_FNAL_Disk {u'cms:/store/temp/user/belforte/afile.root': u'davs://cmsdcadisk.fnal.gov:2880/dcache/uscmsdisk/store/temp/user/belforte/afile.root'} {u'cms:/store/temp/user/belforte/afile.root': u'https://cmsdcadisk.fnal.gov:2880/dcache/uscmsdisk/store/temp/user/belforte/afile.root'}\n",
      "10\n",
      "20\n",
      "30\n",
      "Exception for T2_PL_Warsaw\n",
      "40\n",
      "50\n",
      "Exception for T3_CH_CERNBOX\n",
      "60\n",
      "Exception for T3_CH_CERN_OpenData\n",
      "70\n",
      "80\n"
     ]
    }
   ],
   "source": [
    "# try lfn2pfn on all sites, for both read and write operations\n",
    "i=0\n",
    "for rse in RSEs:\n",
    "    if rse.endswith('Temp') or rse.endswith('Test'):\n",
    "        continue  # put continue here is want to skip those\n",
    "    if 'Tape' in rse:\n",
    "        continue\n",
    "    i += 1\n",
    "    try:\n",
    "        pdw=cli.lfns2pfns(rse,dids,operation='write')\n",
    "        pdr=cli.lfns2pfns(rse,dids,operation='read')\n",
    "    except Exception as ex:\n",
    "        print('Exception for %s' % rse)\n",
    "        #print(\"%i %s %s %s\" % (i, rse, pdr, pdw))\n",
    "        pass\n",
    "    #print(pdw==pdr)\n",
    "    if i%10 == 0 :\n",
    "        print(i)\n",
    "        #print(\"%d %s\"%(i,rse))\n",
    "        #print(pdw[dids[0]])\n",
    "        #print(pdr[dids[0]])\n",
    "    if not pdw==pdr:\n",
    "        print('MISMATCH')\n",
    "        print(\"%i %s %s %s\" % (i, rse, pdr, pdw))\n"
   ]
  },
  {
   "cell_type": "code",
   "execution_count": 26,
   "metadata": {},
   "outputs": [],
   "source": [
    "rucioClient=cli"
   ]
  },
  {
   "cell_type": "code",
   "execution_count": 27,
   "metadata": {},
   "outputs": [],
   "source": [
    "did=dids[0]"
   ]
  },
  {
   "cell_type": "code",
   "execution_count": 50,
   "metadata": {},
   "outputs": [],
   "source": [
    "siteName='T3_CH_CERNBOX'\n",
    "siteName='T2_UK_SGrid_Bristol'\n",
    "siteName='T3_US_FNALLPC'"
   ]
  },
  {
   "cell_type": "code",
   "execution_count": 51,
   "metadata": {},
   "outputs": [
    {
     "name": "stdout",
     "output_type": "stream",
     "text": [
      "WARNING:Logger:Try Rucio lfn2pn with operation third_party_copy\n",
      "DEBUG:dogpile.lock:value creation lock <dogpile.cache.region._LockWrapper object at 0x7f57a014cd50> acquired\n",
      "DEBUG:dogpile.lock:Calling creation function for previously expired value\n",
      "DEBUG:dogpile.lock:Released creation lock\n",
      "DEBUG:urllib3.connectionpool:Resetting dropped connection: cms-rucio.cern.ch\n",
      "DEBUG:urllib3.connectionpool:http://cms-rucio.cern.ch:80 \"GET /rses/T3_US_FNALLPC/lfns2pfns?operation=third_party_copy&lfn=cms%3A%2Fstore%2Fuser%2Fncsmith%2Fmy_file.root HTTP/1.1\" 401 106\n",
      "DEBUG:rucio.client.baseclient:get a new token\n",
      "DEBUG:urllib3.connectionpool:Starting new HTTPS connection (1): cms-rucio-auth.cern.ch:443\n",
      "DEBUG:urllib3.connectionpool:https://cms-rucio-auth.cern.ch:443 \"GET /auth/x509_proxy HTTP/1.1\" 200 0\n",
      "DEBUG:rucio.client.baseclient:got new token\n",
      "DEBUG:urllib3.connectionpool:Starting new HTTP connection (1): cms-rucio.cern.ch:80\n",
      "DEBUG:urllib3.connectionpool:http://cms-rucio.cern.ch:80 \"GET /rses/T3_US_FNALLPC/lfns2pfns?operation=third_party_copy&lfn=cms%3A%2Fstore%2Fuser%2Fncsmith%2Fmy_file.root HTTP/1.1\" 200 123\n",
      "\n",
      "u'gsiftp://cmseos-gridftp.fnal.gov:2811/eos/uscms/store/user/ncsmith/my_file.root'\n"
     ]
    }
   ],
   "source": [
    "    for operation in ['third_party_copy', 'write', 'read']:\n",
    "        try:\n",
    "            logger.warning('Try Rucio lfn2pn with operation %s', operation)\n",
    "            didDict = rucioClient.lfns2pfns(siteName, [did], operation=operation)\n",
    "            break\n",
    "        except Exception as ex:\n",
    "            msg = 'Rucio lfn2pfn resolution for %s failed with:\\n%s\\nTry next one.'\n",
    "            logger.warning(msg, operation, str(ex))\n",
    "    if not didDict:\n",
    "        msg = 'lfn2pfn resolution with Rucio failed for site: %s  LFN: %s' % (siteName, lfn)\n",
    "        msg += ' with exception :\\n%s' % str(ex)\n",
    "    #print('TROVATO')\n",
    "    print('')\n",
    "    pprint.pprint(didDict[did])"
   ]
  },
  {
   "cell_type": "code",
   "execution_count": null,
   "metadata": {},
   "outputs": [],
   "source": []
  }
 ],
 "metadata": {
  "kernelspec": {
   "display_name": "Python 2",
   "language": "python",
   "name": "python2"
  },
  "language_info": {
   "codemirror_mode": {
    "name": "ipython",
    "version": 2
   },
   "file_extension": ".py",
   "mimetype": "text/x-python",
   "name": "python",
   "nbconvert_exporter": "python",
   "pygments_lexer": "ipython2",
   "version": "2.7.5"
  }
 },
 "nbformat": 4,
 "nbformat_minor": 2
}
