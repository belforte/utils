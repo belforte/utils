{
 "cells": [
  {
   "cell_type": "code",
   "execution_count": 1,
   "metadata": {},
   "outputs": [
    {
     "name": "stdout",
     "output_type": "stream",
     "text": [
      "Proxy: /tmp/x509up_u8516\n"
     ]
    }
   ],
   "source": [
    "##\n",
    "## to be run in TW or Crabserver environment\n",
    "##\n",
    "import os\n",
    "import sys\n",
    "import logging\n",
    "import pprint\n",
    "import boto3\n",
    "from botocore.exceptions import ClientError\n",
    "\n",
    "logging.basicConfig(stream=sys.stdout, level=logging.INFO)\n",
    "logger = logging.getLogger('Logger')\n",
    "\n",
    "proxy = os.environ['X509_USER_PROXY']\n",
    "print(\"Proxy: %s\" % proxy)"
   ]
  },
  {
   "cell_type": "code",
   "execution_count": 4,
   "metadata": {},
   "outputs": [
    {
     "name": "stdout",
     "output_type": "stream",
     "text": [
      "<class 'str'>\n",
      "FIXME\n",
      "\n",
      "FIXME\n",
      "\n"
     ]
    }
   ],
   "source": [
    "# my OpenStack credentials are also used as S3 AWS keys :-(\n",
    "\n",
    "with open('/afs/cern.ch/user/b/belforte/.globus/OS_access_key.txt') as fp:\n",
    "    access_key = fp.read()\n",
    "with open('/afs/cern.ch/user/b/belforte/.globus/OS_secret_key.txt') as fp:\n",
    "    secret_key = fp.read()\n",
    "print(type(secret_key))\n",
    "print(secret_key)\n",
    "print(access_key)\n",
    "\n",
    "access_key='53ac10f1b45442a2ab374a225b9bf213'\n",
    "secret_key='5b6e66d56c2a4e858397121ad0d7a03d'\n",
    "\n",
    "# TODO take this from rest config json file ? worry about transition from old to new !\n",
    "endpoint = 'https://s3.cern.ch'\n",
    "s3_client = boto3.client('s3', endpoint_url=endpoint, aws_access_key_id=access_key,\n",
    "                         aws_secret_access_key=secret_key)\n",
    "s3_bucket = 'bucket1'"
   ]
  },
  {
   "cell_type": "code",
   "execution_count": 5,
   "metadata": {
    "scrolled": true
   },
   "outputs": [
    {
     "name": "stdout",
     "output_type": "stream",
     "text": [
      "{'ResponseMetadata': {'HTTPHeaders': {'bucket': 'crabcache_dev',\n",
      "                                      'content-length': '286',\n",
      "                                      'content-type': 'application/xml',\n",
      "                                      'date': 'Sun, 15 May 2022 10:39:17 GMT',\n",
      "                                      'x-amz-request-id': 'tx000000000000018eb985b-006280d855-28e3e1b8-default'},\n",
      "                      'HTTPStatusCode': 200,\n",
      "                      'HostId': '',\n",
      "                      'RequestId': 'tx000000000000018eb985b-006280d855-28e3e1b8-default',\n",
      "                      'RetryAttempts': 0},\n",
      " 'Rules': [{'Expiration': {'Days': 33},\n",
      "            'ID': 'a2e6bffdnzzmjj0i94v87v4bagt8d6hey2wkfz395le76heq',\n",
      "            'Prefix': '',\n",
      "            'Status': 'Enabled'}]}\n"
     ]
    }
   ],
   "source": [
    "response = s3_client.get_bucket_lifecycle_configuration(Bucket='crabcache_dev')\n",
    "pprint.pprint(response)"
   ]
  },
  {
   "cell_type": "code",
   "execution_count": 6,
   "metadata": {
    "scrolled": true
   },
   "outputs": [
    {
     "ename": "NoSuchBucket",
     "evalue": "An error occurred (NoSuchBucket) when calling the GetBucketLifecycleConfiguration operation: Unknown",
     "output_type": "error",
     "traceback": [
      "\u001b[0;31m---------------------------------------------------------------------------\u001b[0m",
      "\u001b[0;31mNoSuchBucket\u001b[0m                              Traceback (most recent call last)",
      "\u001b[0;32m/tmp/belforte/ipykernel_617780/4113855487.py\u001b[0m in \u001b[0;36m<module>\u001b[0;34m\u001b[0m\n\u001b[0;32m----> 1\u001b[0;31m \u001b[0mresponse1\u001b[0m \u001b[0;34m=\u001b[0m \u001b[0ms3_client\u001b[0m\u001b[0;34m.\u001b[0m\u001b[0mget_bucket_lifecycle_configuration\u001b[0m\u001b[0;34m(\u001b[0m\u001b[0mBucket\u001b[0m\u001b[0;34m=\u001b[0m\u001b[0;34m'expireInOneDay'\u001b[0m\u001b[0;34m)\u001b[0m\u001b[0;34m\u001b[0m\u001b[0;34m\u001b[0m\u001b[0m\n\u001b[0m\u001b[1;32m      2\u001b[0m \u001b[0mpprint\u001b[0m\u001b[0;34m.\u001b[0m\u001b[0mpprint\u001b[0m\u001b[0;34m(\u001b[0m\u001b[0mresponse1\u001b[0m\u001b[0;34m[\u001b[0m\u001b[0;34m'Rules'\u001b[0m\u001b[0;34m]\u001b[0m\u001b[0;34m)\u001b[0m\u001b[0;34m\u001b[0m\u001b[0;34m\u001b[0m\u001b[0m\n\u001b[1;32m      3\u001b[0m \u001b[0mprint\u001b[0m\u001b[0;34m(\u001b[0m\u001b[0;34m'=========================================================================='\u001b[0m\u001b[0;34m)\u001b[0m\u001b[0;34m\u001b[0m\u001b[0;34m\u001b[0m\u001b[0m\n\u001b[1;32m      4\u001b[0m \u001b[0mresponse2\u001b[0m \u001b[0;34m=\u001b[0m \u001b[0ms3_client\u001b[0m\u001b[0;34m.\u001b[0m\u001b[0mget_bucket_lifecycle_configuration\u001b[0m\u001b[0;34m(\u001b[0m\u001b[0mBucket\u001b[0m\u001b[0;34m=\u001b[0m\u001b[0;34m'expireInOneDay2'\u001b[0m\u001b[0;34m)\u001b[0m\u001b[0;34m\u001b[0m\u001b[0;34m\u001b[0m\u001b[0m\n\u001b[1;32m      5\u001b[0m \u001b[0mpprint\u001b[0m\u001b[0;34m.\u001b[0m\u001b[0mpprint\u001b[0m\u001b[0;34m(\u001b[0m\u001b[0mresponse2\u001b[0m\u001b[0;34m[\u001b[0m\u001b[0;34m'Rules'\u001b[0m\u001b[0;34m]\u001b[0m\u001b[0;34m)\u001b[0m\u001b[0;34m\u001b[0m\u001b[0;34m\u001b[0m\u001b[0m\n",
      "\u001b[0;32m~/.local/lib/python3.9/site-packages/botocore/client.py\u001b[0m in \u001b[0;36m_api_call\u001b[0;34m(self, *args, **kwargs)\u001b[0m\n\u001b[1;32m    506\u001b[0m                 )\n\u001b[1;32m    507\u001b[0m             \u001b[0;31m# The \"self\" in this scope is referring to the BaseClient.\u001b[0m\u001b[0;34m\u001b[0m\u001b[0;34m\u001b[0m\u001b[0;34m\u001b[0m\u001b[0m\n\u001b[0;32m--> 508\u001b[0;31m             \u001b[0;32mreturn\u001b[0m \u001b[0mself\u001b[0m\u001b[0;34m.\u001b[0m\u001b[0m_make_api_call\u001b[0m\u001b[0;34m(\u001b[0m\u001b[0moperation_name\u001b[0m\u001b[0;34m,\u001b[0m \u001b[0mkwargs\u001b[0m\u001b[0;34m)\u001b[0m\u001b[0;34m\u001b[0m\u001b[0;34m\u001b[0m\u001b[0m\n\u001b[0m\u001b[1;32m    509\u001b[0m \u001b[0;34m\u001b[0m\u001b[0m\n\u001b[1;32m    510\u001b[0m         \u001b[0m_api_call\u001b[0m\u001b[0;34m.\u001b[0m\u001b[0m__name__\u001b[0m \u001b[0;34m=\u001b[0m \u001b[0mstr\u001b[0m\u001b[0;34m(\u001b[0m\u001b[0mpy_operation_name\u001b[0m\u001b[0;34m)\u001b[0m\u001b[0;34m\u001b[0m\u001b[0;34m\u001b[0m\u001b[0m\n",
      "\u001b[0;32m~/.local/lib/python3.9/site-packages/botocore/client.py\u001b[0m in \u001b[0;36m_make_api_call\u001b[0;34m(self, operation_name, api_params)\u001b[0m\n\u001b[1;32m    909\u001b[0m             \u001b[0merror_code\u001b[0m \u001b[0;34m=\u001b[0m \u001b[0mparsed_response\u001b[0m\u001b[0;34m.\u001b[0m\u001b[0mget\u001b[0m\u001b[0;34m(\u001b[0m\u001b[0;34m\"Error\"\u001b[0m\u001b[0;34m,\u001b[0m \u001b[0;34m{\u001b[0m\u001b[0;34m}\u001b[0m\u001b[0;34m)\u001b[0m\u001b[0;34m.\u001b[0m\u001b[0mget\u001b[0m\u001b[0;34m(\u001b[0m\u001b[0;34m\"Code\"\u001b[0m\u001b[0;34m)\u001b[0m\u001b[0;34m\u001b[0m\u001b[0;34m\u001b[0m\u001b[0m\n\u001b[1;32m    910\u001b[0m             \u001b[0merror_class\u001b[0m \u001b[0;34m=\u001b[0m \u001b[0mself\u001b[0m\u001b[0;34m.\u001b[0m\u001b[0mexceptions\u001b[0m\u001b[0;34m.\u001b[0m\u001b[0mfrom_code\u001b[0m\u001b[0;34m(\u001b[0m\u001b[0merror_code\u001b[0m\u001b[0;34m)\u001b[0m\u001b[0;34m\u001b[0m\u001b[0;34m\u001b[0m\u001b[0m\n\u001b[0;32m--> 911\u001b[0;31m             \u001b[0;32mraise\u001b[0m \u001b[0merror_class\u001b[0m\u001b[0;34m(\u001b[0m\u001b[0mparsed_response\u001b[0m\u001b[0;34m,\u001b[0m \u001b[0moperation_name\u001b[0m\u001b[0;34m)\u001b[0m\u001b[0;34m\u001b[0m\u001b[0;34m\u001b[0m\u001b[0m\n\u001b[0m\u001b[1;32m    912\u001b[0m         \u001b[0;32melse\u001b[0m\u001b[0;34m:\u001b[0m\u001b[0;34m\u001b[0m\u001b[0;34m\u001b[0m\u001b[0m\n\u001b[1;32m    913\u001b[0m             \u001b[0;32mreturn\u001b[0m \u001b[0mparsed_response\u001b[0m\u001b[0;34m\u001b[0m\u001b[0;34m\u001b[0m\u001b[0m\n",
      "\u001b[0;31mNoSuchBucket\u001b[0m: An error occurred (NoSuchBucket) when calling the GetBucketLifecycleConfiguration operation: Unknown"
     ]
    }
   ],
   "source": [
    "response1 = s3_client.get_bucket_lifecycle_configuration(Bucket='expireInOneDay')\n",
    "pprint.pprint(response1['Rules'])\n",
    "print('==========================================================================')\n",
    "response2 = s3_client.get_bucket_lifecycle_configuration(Bucket='expireInOneDay2')\n",
    "pprint.pprint(response2['Rules'])"
   ]
  },
  {
   "cell_type": "code",
   "execution_count": 10,
   "metadata": {},
   "outputs": [
    {
     "name": "stdout",
     "output_type": "stream",
     "text": [
      "{'ResponseMetadata': {'HTTPHeaders': {'bucket': 'crab_test2',\n",
      "                                      'content-length': '0',\n",
      "                                      'content-type': 'application/xml',\n",
      "                                      'date': 'Sun, 15 May 2022 10:44:13 GMT',\n",
      "                                      'x-amz-request-id': 'tx000000000000006fef25b-006280d97d-2926d071-default'},\n",
      "                      'HTTPStatusCode': 200,\n",
      "                      'HostId': '',\n",
      "                      'RequestId': 'tx000000000000006fef25b-006280d97d-2926d071-default',\n",
      "                      'RetryAttempts': 0}}\n",
      "==========================================================================\n",
      "[{'Expiration': {'Days': 10},\n",
      "  'ID': 'vf9nzluxzp0q2gla464ab43316yh5c0z8iw376hw1m7mpqpx',\n",
      "  'Prefix': '',\n",
      "  'Status': 'Enabled'}]\n"
     ]
    }
   ],
   "source": [
    "bucket='crab_test2'\n",
    "LFC={'Rules': [ {'Expiration': {'Days': 10}, 'Filter': {'Prefix': ''}, 'Status':'Enabled' } ]}\n",
    "responseP= s3_client.put_bucket_lifecycle_configuration(Bucket=bucket, LifecycleConfiguration=LFC)\n",
    "pprint.pprint(responseP)\n",
    "print('==========================================================================')\n",
    "response3 = s3_client.get_bucket_lifecycle_configuration(Bucket=bucket)\n",
    "pprint.pprint(response3['Rules'])\n"
   ]
  },
  {
   "cell_type": "code",
   "execution_count": 7,
   "metadata": {},
   "outputs": [
    {
     "name": "stdout",
     "output_type": "stream",
     "text": [
      "{'ResponseMetadata': {'HTTPHeaders': {'bucket': 'crabcache_prod',\n",
      "                                      'content-length': '0',\n",
      "                                      'content-type': 'application/xml',\n",
      "                                      'date': 'Sun, 15 May 2022 10:39:44 GMT',\n",
      "                                      'x-amz-request-id': 'tx000000000000006fe2db2-006280d870-2926d071-default'},\n",
      "                      'HTTPStatusCode': 200,\n",
      "                      'HostId': '',\n",
      "                      'RequestId': 'tx000000000000006fe2db2-006280d870-2926d071-default',\n",
      "                      'RetryAttempts': 0}}\n",
      "==========================================================================\n",
      "[{'Expiration': {'Days': 33},\n",
      "  'ID': 'p845g9ez7o36wijg25vg5div2pfj8eshm6srktlfa0qy6b4u',\n",
      "  'Prefix': '',\n",
      "  'Status': 'Enabled'}]\n"
     ]
    }
   ],
   "source": [
    "bucket='crabcache_prod'\n",
    "LFC={'Rules': [ {'Expiration': {'Days': 33}, 'Filter': {'Prefix': ''}, 'Status':'Enabled' } ]}\n",
    "responseP= s3_client.put_bucket_lifecycle_configuration(Bucket=bucket, LifecycleConfiguration=LFC)\n",
    "pprint.pprint(responseP)\n",
    "print('==========================================================================')\n",
    "response3 = s3_client.get_bucket_lifecycle_configuration(Bucket=bucket)\n",
    "pprint.pprint(response3['Rules'])\n"
   ]
  },
  {
   "cell_type": "code",
   "execution_count": 8,
   "metadata": {},
   "outputs": [
    {
     "name": "stdout",
     "output_type": "stream",
     "text": [
      "crabcache_dev {'Days': 33}\n",
      "crabcache_preprod {'Days': 33}\n",
      "crabcache_prod {'Days': 33}\n",
      "crab_test1 {'Days': 10}\n",
      "crab_test2 {'Days': 10}\n"
     ]
    }
   ],
   "source": [
    "buckets=['crabcache_dev', 'crabcache_preprod', 'crabcache_prod', 'crab_test1', 'crab_test2', 'bucket1', 'bucket2']\n",
    "for buck in buckets:\n",
    "    try:\n",
    "        response3 = s3_client.get_bucket_lifecycle_configuration(Bucket=buck)\n",
    "        print(buck, response3['Rules'][0]['Expiration'])\n",
    "    except:\n",
    "        pass"
   ]
  },
  {
   "cell_type": "code",
   "execution_count": 18,
   "metadata": {},
   "outputs": [
    {
     "name": "stdout",
     "output_type": "stream",
     "text": [
      "{'ResponseMetadata': {'HTTPHeaders': {'bucket': 'CRABCacheDev',\n",
      "                                      'content-length': '0',\n",
      "                                      'content-type': 'application/xml',\n",
      "                                      'date': 'Thu, 22 Apr 2021 11:57:24 GMT',\n",
      "                                      'x-amz-request-id': 'tx000000000000007153841-00608164a4-18c14690-default'},\n",
      "                      'HTTPStatusCode': 200,\n",
      "                      'HostId': '',\n",
      "                      'RequestId': 'tx000000000000007153841-00608164a4-18c14690-default',\n",
      "                      'RetryAttempts': 0}}\n",
      "==========================================================================\n",
      "[{u'Expiration': {u'Days': 7},\n",
      "  u'ID': '41lxbtln2cf15xvbgwn8n9m7q8t3ayo5fc400k19njei9jjk',\n",
      "  u'Prefix': '',\n",
      "  u'Status': 'Enabled'}]\n"
     ]
    },
    {
     "name": "stderr",
     "output_type": "stream",
     "text": [
      "/cvmfs/cms.cern.ch/rucio/current/lib/python2.7/site-packages/urllib3/connectionpool.py:986: InsecureRequestWarning: Unverified HTTPS request is being made to host 's3.cern.ch'. Adding certificate verification is strongly advised. See: https://urllib3.readthedocs.io/en/latest/advanced-usage.html#ssl-warnings\n",
      "  InsecureRequestWarning,\n",
      "/cvmfs/cms.cern.ch/rucio/current/lib/python2.7/site-packages/urllib3/connectionpool.py:986: InsecureRequestWarning: Unverified HTTPS request is being made to host 's3.cern.ch'. Adding certificate verification is strongly advised. See: https://urllib3.readthedocs.io/en/latest/advanced-usage.html#ssl-warnings\n",
      "  InsecureRequestWarning,\n"
     ]
    }
   ],
   "source": [
    "LFC={'Rules': [ {'Expiration': {'Days': 7}, 'Filter': {'Prefix': ''}, 'Status':'Enabled' } ]}\n",
    "responseP= s3_client.put_bucket_lifecycle_configuration(Bucket='CRABCacheDev', LifecycleConfiguration=LFC)\n",
    "pprint.pprint(responseP)\n",
    "print('==========================================================================')\n",
    "response3 = s3_client.get_bucket_lifecycle_configuration(Bucket='CRABCacheDev')\n",
    "pprint.pprint(response3['Rules'])"
   ]
  },
  {
   "cell_type": "code",
   "execution_count": 9,
   "metadata": {},
   "outputs": [
    {
     "name": "stdout",
     "output_type": "stream",
     "text": [
      "{'fields': {'AWSAccessKeyId': '53ac10f1b45442a2ab374a225b9bf213',\n",
      "            'key': 'valentin/testfile-1.t1',\n",
      "            'policy': 'eyJleHBpcmF0aW9uIjogIjIwMjMtMDUtMTVUMTA6NDA6MTBaIiwgImNvbmRpdGlvbnMiOiBbeyJidWNrZXQiOiAiY3JhYmNhY2hlX2RldiJ9LCB7ImtleSI6ICJ2YWxlbnRpbi90ZXN0ZmlsZS0xLnQxIn1dfQ==',\n",
      "            'signature': '1eI/plN0Lw8TH67J5a5KrTCYF+U='},\n",
      " 'url': 'https://s3.cern.ch/crabcache_dev'}\n"
     ]
    }
   ],
   "source": [
    "bucket = 'crabcache_dev'\n",
    "expiration = 60*60*24*365\n",
    "s3_objectKey = 'valentin/testfile-1.t1'\n",
    "response = s3_client.generate_presigned_post(bucket, s3_objectKey, ExpiresIn=expiration)\n",
    "pprint.pprint(response)\n",
    "response1 = response"
   ]
  },
  {
   "cell_type": "code",
   "execution_count": 18,
   "metadata": {},
   "outputs": [
    {
     "name": "stdout",
     "output_type": "stream",
     "text": [
      "{'fields': {'AWSAccessKeyId': u'53ac10f1b45442a2ab374a225b9bf213',\n",
      "            'key': 'valentin/testfile-2.t2',\n",
      "            'policy': u'eyJjb25kaXRpb25zIjogW3siYnVja2V0IjogImNyYWJjYWNoZV9kZXYifSwgeyJrZXkiOiAidmFsZW50aW4vdGVzdGZpbGUtMi50MiJ9XSwgImV4cGlyYXRpb24iOiAiMjAyMi0wNy0wMVQwODo0ODo1MVoifQ==',\n",
      "            'signature': u'6M0Q0Yjvdi5IEFZGSefFqVSMvfA='},\n",
      " 'url': u'https://s3.cern.ch/crabcache_dev'}\n"
     ]
    }
   ],
   "source": [
    "bucket = 'crabcache_dev'\n",
    "expiration = 60*60*24*365\n",
    "s3_objectKey = 'valentin/testfile-2.t2'\n",
    "response = s3_client.generate_presigned_post(bucket, s3_objectKey, ExpiresIn=expiration)\n",
    "pprint.pprint(response)\n",
    "response2 = response"
   ]
  },
  {
   "cell_type": "code",
   "execution_count": 20,
   "metadata": {},
   "outputs": [
    {
     "name": "stdout",
     "output_type": "stream",
     "text": [
      "curl -f -v -X POST  -H \"User-Agent: myTest\" -F \"key=valentin/testfile-1.t1\" -F \"AWSAccessKeyId=53ac10f1b45442a2ab374a225b9bf213\" -F \"policy=eyJjb25kaXRpb25zIjogW3siYnVja2V0IjogImNyYWJjYWNoZV9kZXYifSwgeyJrZXkiOiAidmFsZW50aW4vdGVzdGZpbGUtMS50MSJ9XSwgImV4cGlyYXRpb24iOiAiMjAyMi0wNy0wMVQwODo0ODozM1oifQ==\" -F \"signature=t2wSDVOhukQi/irzja5PLoFpaE4=\" -F \"file=@/tmp/somedummyfile\" \"https://s3.cern.ch/crabcache_dev\"\n"
     ]
    }
   ],
   "source": [
    "response=response1\n",
    "userAgent = 'myTest'\n",
    "key = response['fields']['key']\n",
    "AWSAccessKeyId = response['fields']['AWSAccessKeyId']\n",
    "policy = response['fields']['policy']\n",
    "signature = response['fields']['signature']\n",
    "url = response['url']\n",
    "filepath = '/tmp/somedummyfile'\n",
    "\n",
    "uploadCommand = 'curl -f -v -X POST '\n",
    "uploadCommand += ' -H \"User-Agent: %s\"' % userAgent\n",
    "uploadCommand += ' -F \"key=%s\"' % key\n",
    "uploadCommand += ' -F \"AWSAccessKeyId=%s\"' % AWSAccessKeyId\n",
    "uploadCommand += ' -F \"policy=%s\"' % policy\n",
    "uploadCommand += ' -F \"signature=%s\"' % signature\n",
    "uploadCommand += ' -F \"file=@%s\"' % filepath\n",
    "uploadCommand += ' \"%s\"' % url\n",
    "print(uploadCommand)"
   ]
  },
  {
   "cell_type": "code",
   "execution_count": 17,
   "metadata": {
    "scrolled": true
   },
   "outputs": [
    {
     "name": "stdout",
     "output_type": "stream",
     "text": [
      "{'EncodingType': 'url',\n",
      " 'IsTruncated': False,\n",
      " 'KeyCount': 0,\n",
      " 'MaxKeys': 1000,\n",
      " 'Name': 'crabcache_dev',\n",
      " 'Prefix': 'valentin',\n",
      " 'ResponseMetadata': {'HTTPHeaders': {'bucket': 'crabcache_dev',\n",
      "                                      'content-length': '283',\n",
      "                                      'content-type': 'application/xml',\n",
      "                                      'date': 'Sun, 15 May 2022 11:05:50 GMT',\n",
      "                                      'x-amz-request-id': 'tx000000000000018ef2226-006280de8d-28e3e1b8-default'},\n",
      "                      'HTTPStatusCode': 200,\n",
      "                      'HostId': '',\n",
      "                      'RequestId': 'tx000000000000018ef2226-006280de8d-28e3e1b8-default',\n",
      "                      'RetryAttempts': 0}}\n"
     ]
    },
    {
     "ename": "KeyError",
     "evalue": "'Contents'",
     "output_type": "error",
     "traceback": [
      "\u001b[0;31m---------------------------------------------------------------------------\u001b[0m",
      "\u001b[0;31mKeyError\u001b[0m                                  Traceback (most recent call last)",
      "\u001b[0;32m/tmp/belforte/ipykernel_617780/282206119.py\u001b[0m in \u001b[0;36m<module>\u001b[0;34m\u001b[0m\n\u001b[1;32m      5\u001b[0m \u001b[0;32mfor\u001b[0m \u001b[0mpage\u001b[0m \u001b[0;32min\u001b[0m \u001b[0mpage_iterator\u001b[0m\u001b[0;34m:\u001b[0m\u001b[0;34m\u001b[0m\u001b[0;34m\u001b[0m\u001b[0m\n\u001b[1;32m      6\u001b[0m     \u001b[0mpprint\u001b[0m\u001b[0;34m.\u001b[0m\u001b[0mpprint\u001b[0m\u001b[0;34m(\u001b[0m\u001b[0mpage\u001b[0m\u001b[0;34m)\u001b[0m\u001b[0;34m\u001b[0m\u001b[0;34m\u001b[0m\u001b[0m\n\u001b[0;32m----> 7\u001b[0;31m     \u001b[0mnamesInPage\u001b[0m \u001b[0;34m=\u001b[0m \u001b[0;34m[\u001b[0m\u001b[0mitem\u001b[0m\u001b[0;34m[\u001b[0m\u001b[0;34m'Key'\u001b[0m\u001b[0;34m]\u001b[0m\u001b[0;34m.\u001b[0m\u001b[0mreplace\u001b[0m\u001b[0;34m(\u001b[0m\u001b[0muser\u001b[0m\u001b[0;34m+\u001b[0m\u001b[0;34m'/'\u001b[0m\u001b[0;34m,\u001b[0m\u001b[0;34m''\u001b[0m\u001b[0;34m,\u001b[0m\u001b[0;36m1\u001b[0m\u001b[0;34m)\u001b[0m \u001b[0;32mfor\u001b[0m \u001b[0mitem\u001b[0m \u001b[0;32min\u001b[0m \u001b[0mpage\u001b[0m\u001b[0;34m[\u001b[0m\u001b[0;34m'Contents'\u001b[0m\u001b[0;34m]\u001b[0m\u001b[0;34m]\u001b[0m\u001b[0;34m\u001b[0m\u001b[0;34m\u001b[0m\u001b[0m\n\u001b[0m\u001b[1;32m      8\u001b[0m     \u001b[0;31m#print(namesInPage)\u001b[0m\u001b[0;34m\u001b[0m\u001b[0;34m\u001b[0m\u001b[0;34m\u001b[0m\u001b[0m\n",
      "\u001b[0;31mKeyError\u001b[0m: 'Contents'"
     ]
    }
   ],
   "source": [
    "paginator = s3_client.get_paginator('list_objects_v2')\n",
    "user='valentin'\n",
    "operation_parameters = {'Bucket': 'crabcache_dev', 'Prefix': user}\n",
    "page_iterator = paginator.paginate(**operation_parameters)\n",
    "for page in page_iterator:\n",
    "    pprint.pprint(page)\n",
    "    namesInPage = [item['Key'].replace(user+'/','',1) for item in page['Contents']]\n",
    "    #print(namesInPage)"
   ]
  },
  {
   "cell_type": "code",
   "execution_count": 15,
   "metadata": {
    "scrolled": true
   },
   "outputs": [],
   "source": [
    "s3_bucket='crab_test1'\n",
    "response = s3_client.list_objects_v2(Bucket=s3_bucket)"
   ]
  },
  {
   "cell_type": "code",
   "execution_count": 16,
   "metadata": {
    "scrolled": true
   },
   "outputs": [
    {
     "name": "stdout",
     "output_type": "stream",
     "text": [
      "dict_keys(['ResponseMetadata', 'IsTruncated', 'Name', 'Prefix', 'MaxKeys', 'EncodingType', 'KeyCount'])\n",
      "\n",
      "False\n",
      "1000\n"
     ]
    }
   ],
   "source": [
    "print(response.keys())\n",
    "print(response['Prefix'])\n",
    "print(response['IsTruncated'])\n",
    "print(response['MaxKeys'])"
   ]
  },
  {
   "cell_type": "code",
   "execution_count": 6,
   "metadata": {},
   "outputs": [
    {
     "ename": "KeyError",
     "evalue": "'Contents'",
     "output_type": "error",
     "traceback": [
      "\u001b[0;31m---------------------------------------------------------------------------\u001b[0m",
      "\u001b[0;31mKeyError\u001b[0m                                  Traceback (most recent call last)",
      "\u001b[0;32m<ipython-input-6-dfda5e694dbb>\u001b[0m in \u001b[0;36m<module>\u001b[0;34m()\u001b[0m\n\u001b[0;32m----> 1\u001b[0;31m \u001b[0mfullList\u001b[0m \u001b[0;34m=\u001b[0m \u001b[0;34m[\u001b[0m\u001b[0mobject\u001b[0m\u001b[0;34m[\u001b[0m\u001b[0;34m'Key'\u001b[0m\u001b[0;34m]\u001b[0m \u001b[0;32mfor\u001b[0m \u001b[0mobject\u001b[0m \u001b[0;32min\u001b[0m \u001b[0mresponse\u001b[0m\u001b[0;34m[\u001b[0m\u001b[0;34m'Contents'\u001b[0m\u001b[0;34m]\u001b[0m\u001b[0;34m]\u001b[0m\u001b[0;34m\u001b[0m\u001b[0m\n\u001b[0m\u001b[1;32m      2\u001b[0m \u001b[0mpprint\u001b[0m\u001b[0;34m.\u001b[0m\u001b[0mpprint\u001b[0m\u001b[0;34m(\u001b[0m\u001b[0mfullList\u001b[0m\u001b[0;34m)\u001b[0m\u001b[0;34m\u001b[0m\u001b[0m\n",
      "\u001b[0;31mKeyError\u001b[0m: 'Contents'"
     ]
    }
   ],
   "source": [
    "fullList = [object['Key'] for object in response['Contents']]\n",
    "pprint.pprint(fullList)"
   ]
  },
  {
   "cell_type": "code",
   "execution_count": 7,
   "metadata": {
    "scrolled": true
   },
   "outputs": [
    {
     "name": "stdout",
     "output_type": "stream",
     "text": [
      "https://s3.cern.ch/bucket1/belforte/2%3Abelforte_crab_20210323/clientlog?AWSAccessKeyId=53ac10f1b45442a2ab374a225b9bf213&Expires=1617976545&Signature=mOMk6NBbu4zpYsJ%2F624Mn%2FwUIos%3D\n"
     ]
    }
   ],
   "source": [
    "key = 'belforte/210322_201314:belforte_crab_20210322_211305/clientlog'\n",
    "key=u'belforte/2:belforte_crab_20210323/clientlog'\n",
    "expiration = 300\n",
    "url=s3_client.generate_presigned_url('get_object',Params={'Bucket': s3_bucket,'Key': key},ExpiresIn=expiration)\n",
    "print(url)\n",
    "#file_key = bucket.get_key('datafile_data.txt')\n"
   ]
  },
  {
   "cell_type": "code",
   "execution_count": null,
   "metadata": {},
   "outputs": [],
   "source": [
    "filename = 'belforte/210322_201314:belforte_crab_20210322_211305/sandbox/cache3.tgz'\n",
    "objectPath = filename\n",
    "alreadyThere = False\n",
    "try:\n",
    "    s3_client.head_object(Bucket=s3_bucket, Key=objectPath)\n",
    "    alreadyThere = True\n",
    "except ClientError:\n",
    "    pass\n",
    "if alreadyThere:\n",
    "    print(\"C'e' gia'\")\n",
    "    "
   ]
  },
  {
   "cell_type": "code",
   "execution_count": null,
   "metadata": {},
   "outputs": [],
   "source": [
    "try:\n",
    "    response = s3_client.head_object(Bucket=s3_bucket, Key=filename)\n",
    "    found = True\n",
    "    print('Found')\n",
    "except ClientError as ex:\n",
    "    print(str(ex))\n",
    "    print (ex)\n",
    "    print('Not found')\n",
    "    found = False\n",
    "\n",
    "if found:\n",
    "    print(response)"
   ]
  },
  {
   "cell_type": "code",
   "execution_count": null,
   "metadata": {},
   "outputs": [],
   "source": [
    "response = s3_client.list_objects_v2(Bucket=s3_bucket,Prefix='belforte')"
   ]
  },
  {
   "cell_type": "code",
   "execution_count": null,
   "metadata": {},
   "outputs": [],
   "source": [
    "#pprint.pprint(response)\n",
    "fullList = [object['Key'] for object in response['Contents']]\n",
    "pprint.pprint(fullList)"
   ]
  },
  {
   "cell_type": "code",
   "execution_count": null,
   "metadata": {},
   "outputs": [],
   "source": [
    "paginator = s3_client.get_paginator('list_objects_v2')\n",
    "operation_parameters = {'Bucket': s3_bucket,\n",
    "                        'Prefix': 'belforte'}\n",
    "page_iterator = paginator.paginate(**operation_parameters)\n",
    "for page in page_iterator:\n",
    "    print(page['Contents'])"
   ]
  },
  {
   "cell_type": "code",
   "execution_count": null,
   "metadata": {},
   "outputs": [],
   "source": [
    "paginator = s3_client.get_paginator('list_objects')\n",
    "operation_parameters = {'Bucket': s3_bucket,\n",
    "                        'Prefix': 'belforte/210322_201314:belforte_crab_20210322_211305'}\n",
    "page_iterator = paginator.paginate(**operation_parameters)\n",
    "for page in page_iterator:\n",
    "    print([object['Key'] for object in page['Contents']])"
   ]
  },
  {
   "cell_type": "code",
   "execution_count": null,
   "metadata": {},
   "outputs": [],
   "source": [
    "paginator = s3_client.get_paginator('list_objects')\n",
    "operation_parameters = {'Bucket': s3_bucket,\n",
    "                        'Prefix': 'belforte'}\n",
    "page_iterator = paginator.paginate(**operation_parameters)\n",
    "for page in page_iterator:\n",
    "    pprint.pprint(page)\n",
    "    print([object['Key'] for object in page['Contents']])"
   ]
  },
  {
   "cell_type": "code",
   "execution_count": null,
   "metadata": {},
   "outputs": [],
   "source": [
    "fileNames = []\n",
    "print(fileNames)\n"
   ]
  },
  {
   "cell_type": "code",
   "execution_count": null,
   "metadata": {},
   "outputs": [],
   "source": [
    "username = 'belforte'\n",
    "for page in page_iterator:\n",
    "    namesInPage = [item['Key'].lstrip(username+'/') for item in page['Contents']]\n",
    "    #namesInPage = [item['Key'] for item in page['Contents']]\n",
    "    print(namesInPage)\n",
    "    fileNames += namesInPage\n"
   ]
  },
  {
   "cell_type": "code",
   "execution_count": null,
   "metadata": {},
   "outputs": [],
   "source": [
    "fileNames"
   ]
  },
  {
   "cell_type": "code",
   "execution_count": null,
   "metadata": {},
   "outputs": [],
   "source": [
    "object='sandbox'\n",
    "#object='clientlog'"
   ]
  },
  {
   "cell_type": "code",
   "execution_count": null,
   "metadata": {},
   "outputs": [],
   "source": [
    "if object :\n",
    "    filteredFileNames = [f for f in fileNames if object in f ]\n",
    "print (filteredFileNames)"
   ]
  },
  {
   "cell_type": "code",
   "execution_count": null,
   "metadata": {},
   "outputs": [],
   "source": [
    "username = 'belforte'\n",
    "paginator = s3_client.get_paginator('list_objects_v2')\n",
    "operation_parameters = {'Bucket': s3_bucket,\n",
    "                        'Prefix': username}\n",
    "page_iterator = paginator.paginate(**operation_parameters)\n",
    "# S3 records object size in bytes, see:\n",
    "# https://boto3.amazonaws.com/v1/documentation/api/latest/reference/services/s3.html#S3.Client.list_objects_v2\n",
    "usedBytes = 0\n",
    "for page in page_iterator:\n",
    "    for item in page['Contents']:\n",
    "        usedBytes += item['Size']\n",
    "usedMBytes = usedBytes / 1024 / 1024\n",
    "print(usedMBytes)"
   ]
  },
  {
   "cell_type": "code",
   "execution_count": null,
   "metadata": {},
   "outputs": [],
   "source": []
  }
 ],
 "metadata": {
  "kernelspec": {
   "display_name": "Python 2",
   "language": "python",
   "name": "python2"
  },
  "language_info": {
   "codemirror_mode": {
    "name": "ipython",
    "version": 3
   },
   "file_extension": ".py",
   "mimetype": "text/x-python",
   "name": "python",
   "nbconvert_exporter": "python",
   "pygments_lexer": "ipython3",
   "version": "3.9.6"
  }
 },
 "nbformat": 4,
 "nbformat_minor": 2
}
