{
 "cells": [
  {
   "cell_type": "code",
   "execution_count": 1,
   "metadata": {},
   "outputs": [],
   "source": [
    "\n",
    "#help(Client)"
   ]
  },
  {
   "cell_type": "code",
   "execution_count": 2,
   "metadata": {},
   "outputs": [
    {
     "name": "stdout",
     "output_type": "stream",
     "text": [
      "1.27.9\n",
      "{'account_type': 'USER', 'suspended_at': None, 'created_at': '2020-04-28T23:25:20', 'account': 'belforte', 'status': 'ACTIVE', 'email': 'Stefano.Belforte@cern.ch', 'deleted_at': None, 'updated_at': '2020-04-28T23:25:20'}\n"
     ]
    }
   ],
   "source": [
    "import os\n",
    "import os\n",
    "import sys\n",
    "import pprint\n",
    "import logging\n",
    "\n",
    "from rucio.client import Client\n",
    "from rucio.common.exception import (DuplicateRule, DataIdentifierAlreadyExists, DuplicateContent)\n",
    "\n",
    "\n",
    "logging.basicConfig(stream=sys.stdout, level=logging.INFO)\n",
    "logger = logging.getLogger('Logger')\n",
    "if os.getenv('X509_USER_CERT'):\n",
    "    Rucio_cert = os.getenv('X509_USER_CERT')\n",
    "    Rucio_key = os.getenv('X509_USER_KEY')\n",
    "else:\n",
    "    Rucio_cert = os.getenv('X509_USER_PROXY')\n",
    "    Rucio_key = os.getenv('X509_USER_PROXY')\n",
    "Rucio_host = 'https://cms-rucio.cern.ch'\n",
    "Rucio_account = 'belforte'\n",
    "Rucio_authUrl = 'https://cms-rucio-auth.cern.ch'\n",
    "Rucio_caPath = '/etc/grid-security/certificates/'\n",
    "\n",
    "nativeClient = Client(\n",
    "    rucio_host=Rucio_host, auth_host=Rucio_authUrl, ca_cert=Rucio_caPath,\n",
    "    account=Rucio_account,\n",
    "    creds={\"client_cert\": Rucio_cert, \"client_key\": Rucio_key},\n",
    "    auth_type = 'x509'\n",
    ")\n",
    "ret=nativeClient.ping()\n",
    "print(ret['version'])\n",
    "ret = nativeClient.whoami()\n",
    "print(ret)"
   ]
  },
  {
   "cell_type": "code",
   "execution_count": 3,
   "metadata": {},
   "outputs": [
    {
     "name": "stdout",
     "output_type": "stream",
     "text": [
      "belforte\n"
     ]
    }
   ],
   "source": [
    "username='belforte'\n",
    "print(username)"
   ]
  },
  {
   "cell_type": "code",
   "execution_count": 4,
   "metadata": {},
   "outputs": [],
   "source": [
    "# a shortcut\n",
    "cli=nativeClient\n",
    "# compatibility for CRAB calls\n",
    "rucioClient = nativeClient"
   ]
  },
  {
   "cell_type": "code",
   "execution_count": 10,
   "metadata": {},
   "outputs": [
    {
     "name": "stdout",
     "output_type": "stream",
     "text": [
      "<class 'generator'>\n",
      "<class 'list'>\n"
     ]
    },
    {
     "data": {
      "text/plain": [
       "55"
      ]
     },
     "execution_count": 10,
     "metadata": {},
     "output_type": "execute_result"
    }
   ],
   "source": [
    "client = nativeClient\n",
    "ALL_RSES = \"ddm_quota>0&(tier=1|tier=2)&rse_type=DISK\"\n",
    "RSES_raw = client.list_rses(ALL_RSES)\n",
    "print(type(RSES_raw))\n",
    "rses=[]\n",
    "for r in RSES_raw:\n",
    "    rses.append(r['rse'])\n",
    "print(type(rses))\n",
    "len(rses)"
   ]
  },
  {
   "cell_type": "code",
   "execution_count": 30,
   "metadata": {},
   "outputs": [
    {
     "name": "stdout",
     "output_type": "stream",
     "text": [
      "      T1_DE_KIT_Disk, DE, A,    640   6095   6750    655\n",
      "      T1_ES_PIC_Disk, ES, C,    508   2577   3100    523\n",
      "  T1_FR_CCIN2P3_Disk, FR, A,   1269   6722   8000   1278\n",
      "     T1_IT_CNAF_Disk, IT, C,   1339   8055   9400   1345\n",
      "      T1_UK_RAL_Disk, UK, A,    515   4724   5250    526\n",
      "     T1_US_FNAL_Disk, US, B,   4737  24025  28750   4725\n",
      "        T2_AT_Vienna, AT, A,     52    442    510     68\n",
      "          T2_BE_IIHE, BE, C,    377   3532   3925    393\n",
      "           T2_BE_UCL, BE, C,    160   1581   1757    176\n",
      "        T2_BR_SPRACE, BR, B,    175   1809   2000    191\n",
      "          T2_CH_CSCS, CH, A,    825   1592   2430    838\n",
      "       T2_CN_Beijing, CN, D,    100    484    600    116\n",
      "          T2_DE_DESY, DE, A,    336   5149   5500    351\n",
      "          T2_DE_RWTH, DE, C,    186   1839   2040    201\n",
      "       T2_EE_Estonia, EE, D,    124   1241   1380    139\n",
      "        T2_ES_CIEMAT, ES, C,    190   2094   2300    206\n",
      "          T2_ES_IFCA, ES, C,    183    652    850    198\n",
      "           T2_FI_HIP, FI, D,     82    852    950     98\n",
      "     T2_FR_GRIF_IRFU, FR, A,    105   1179   1300    121\n",
      "      T2_FR_GRIF_LLR, FR, A,    127   1307   1450    143\n",
      "          T2_FR_IPHC, FR, A,    145   1589   1750    161\n",
      "      T2_GR_Ioannina, GR, C,     17    132    165     33\n",
      "      T2_HU_Budapest, HU, A,     75    829    920     91\n",
      "          T2_IN_TIFR, IN, D,   5494   5506  11000   5494\n",
      "          T2_IT_Bari, IT, A,    186   1800   2000    200\n",
      "       T2_IT_Legnaro, IT, C,    346   3240   3600    360\n",
      "          T2_IT_Pisa, IT, C,    290   2194   2500    306\n",
      "          T2_IT_Rome, IT, A,    763   1573   2350    777\n",
      "         T2_KR_KISTI, KR, D,     89   1096   1200    104\n",
      "           T2_PK_NCP, PK, D,    203    182    401    219\n",
      "        T2_PL_Swierk, PL, D,     43    621    680     59\n",
      "          T2_RU_IHEP, RU, D,     19    265    300     35\n",
      "          T2_RU_JINR, RU, D,    137   1417   1570    153\n",
      "          T2_TR_METU, TR, C,    173    737    925    188\n",
      "          T2_TW_NCHC, TW, D,     39    458    512     54\n",
      " T2_UK_London_Brunel, UK, A,     67    717    800     83\n",
      "     T2_UK_London_IC, UK, A,   1850   4444   6300   1856\n",
      " T2_UK_SGrid_Bristol, UK, C,     38    146    200     54\n",
      "   T2_UK_SGrid_RALPP, UK, A,    125   1409   1550    141\n",
      "       T2_US_Florida, US, B,    393   3120   3520    400\n",
      "           T2_US_MIT, US, B,    355   4458   4829    371\n",
      "      T2_US_Nebraska, US, B,    405   3904   4324    420\n",
      "        T2_US_Purdue, US, B,    284   2692   2990    298\n",
      "          T2_US_UCSD, US, B,    107   1139   1261    122\n",
      "    T2_US_Vanderbilt, US, B,    249   5409   5676    267\n",
      "     T2_US_Wisconsin, US, B,    336   3150   3500    350\n"
     ]
    }
   ],
   "source": [
    "   \n",
    "rses.sort()\n",
    "\n",
    "for rse in rses:\n",
    "    rse_attr = client.list_rse_attributes(rse)\n",
    "    region = rse_attr[\"region\"] if 'region' in rse_attr else None\n",
    "    dq = int(rse_attr['ddm_quota'])//1e12\n",
    "    use = 0\n",
    "    tot = 0\n",
    "    for ru in cli.get_rse_usage(rse):\n",
    "        use = ru['total']//1e12 if ru['source'] == 'rucio' else use\n",
    "        tot = ru['total']//1e12 if ru['source'] == 'static' else tot\n",
    "            \n",
    "    if dq > 10:\n",
    "        print(\"%20s, %s, %s, %6d %6d %6d %6d\" %\n",
    "              (rse, rse_attr['country'], region, dq, use, tot, tot-use))"
   ]
  },
  {
   "cell_type": "code",
   "execution_count": 15,
   "metadata": {},
   "outputs": [
    {
     "name": "stdout",
     "output_type": "stream",
     "text": [
      "{'T2_US_Wisconsin': True, 'cms_type': 'real', 'country': 'US', 'ddm_quota': '336813721136324', 'fts': 'https://cmsfts3.fnal.gov:8446,https://fts3-cms.cern.ch:8446', 'lfn2pfn_algorithm': 'cmstfc', 'loadtest': True, 'pnn': 'T2_US_Wisconsin', 'quota_approvers': 'dasu,cvuosalo,mohapatr,dbradley', 'reaper': True, 'region': 'B', 'rule_approvers': 'dasu,cvuosalo,mohapatr,dbradley', 'source_for_total_space': 'static', 'source_for_used_space': 'rucio', 'tier': '2', 'update_from_json': True}\n"
     ]
    }
   ],
   "source": [
    "print(rse_attr)"
   ]
  },
  {
   "cell_type": "code",
   "execution_count": 5,
   "metadata": {
    "scrolled": true
   },
   "outputs": [
    {
     "ename": "RSENotFound",
     "evalue": "RSE does not exist.\nDetails: RSE 'T2_&' cannot be found in vo 'def'",
     "output_type": "error",
     "traceback": [
      "\u001b[0;31m---------------------------------------------------------------------------\u001b[0m",
      "\u001b[0;31mRSENotFound\u001b[0m                               Traceback (most recent call last)",
      "\u001b[0;32m/tmp/belforte/ipykernel_793/1119536430.py\u001b[0m in \u001b[0;36m<module>\u001b[0;34m\u001b[0m\n\u001b[0;32m----> 1\u001b[0;31m \u001b[0mret\u001b[0m\u001b[0;34m=\u001b[0m\u001b[0mcli\u001b[0m\u001b[0;34m.\u001b[0m\u001b[0mget_account_usage_history\u001b[0m\u001b[0;34m(\u001b[0m\u001b[0musername\u001b[0m\u001b[0;34m,\u001b[0m \u001b[0;34m'T2_&'\u001b[0m\u001b[0;34m)\u001b[0m\u001b[0;34m\u001b[0m\u001b[0;34m\u001b[0m\u001b[0m\n\u001b[0m\u001b[1;32m      2\u001b[0m \u001b[0mprint\u001b[0m\u001b[0;34m(\u001b[0m\u001b[0mret\u001b[0m\u001b[0;34m)\u001b[0m\u001b[0;34m\u001b[0m\u001b[0;34m\u001b[0m\u001b[0m\n",
      "\u001b[0;32m/cvmfs/cms.cern.ch/rucio/x86_64/slc7/py3/current/lib/python3.6/site-packages/rucio/client/accountclient.py\u001b[0m in \u001b[0;36mget_account_usage_history\u001b[0;34m(self, account, rse)\u001b[0m\n\u001b[1;32m    377\u001b[0m         \u001b[0;32melse\u001b[0m\u001b[0;34m:\u001b[0m\u001b[0;34m\u001b[0m\u001b[0;34m\u001b[0m\u001b[0m\n\u001b[1;32m    378\u001b[0m             \u001b[0mexc_cls\u001b[0m\u001b[0;34m,\u001b[0m \u001b[0mexc_msg\u001b[0m \u001b[0;34m=\u001b[0m \u001b[0mself\u001b[0m\u001b[0;34m.\u001b[0m\u001b[0m_get_exception\u001b[0m\u001b[0;34m(\u001b[0m\u001b[0mheaders\u001b[0m\u001b[0;34m=\u001b[0m\u001b[0mres\u001b[0m\u001b[0;34m.\u001b[0m\u001b[0mheaders\u001b[0m\u001b[0;34m,\u001b[0m \u001b[0mstatus_code\u001b[0m\u001b[0;34m=\u001b[0m\u001b[0mres\u001b[0m\u001b[0;34m.\u001b[0m\u001b[0mstatus_code\u001b[0m\u001b[0;34m,\u001b[0m \u001b[0mdata\u001b[0m\u001b[0;34m=\u001b[0m\u001b[0mres\u001b[0m\u001b[0;34m.\u001b[0m\u001b[0mcontent\u001b[0m\u001b[0;34m)\u001b[0m\u001b[0;34m\u001b[0m\u001b[0;34m\u001b[0m\u001b[0m\n\u001b[0;32m--> 379\u001b[0;31m             \u001b[0;32mraise\u001b[0m \u001b[0mexc_cls\u001b[0m\u001b[0;34m(\u001b[0m\u001b[0mexc_msg\u001b[0m\u001b[0;34m)\u001b[0m\u001b[0;34m\u001b[0m\u001b[0;34m\u001b[0m\u001b[0m\n\u001b[0m\u001b[1;32m    380\u001b[0m \u001b[0;34m\u001b[0m\u001b[0m\n\u001b[1;32m    381\u001b[0m     \u001b[0;32mdef\u001b[0m \u001b[0mlist_account_attributes\u001b[0m\u001b[0;34m(\u001b[0m\u001b[0mself\u001b[0m\u001b[0;34m,\u001b[0m \u001b[0maccount\u001b[0m\u001b[0;34m)\u001b[0m\u001b[0;34m:\u001b[0m\u001b[0;34m\u001b[0m\u001b[0;34m\u001b[0m\u001b[0m\n",
      "\u001b[0;31mRSENotFound\u001b[0m: RSE does not exist.\nDetails: RSE 'T2_&' cannot be found in vo 'def'"
     ]
    }
   ],
   "source": [
    "ret=cli.get_account_usage_history(username, 'T2_&')\n",
    "print(ret)"
   ]
  },
  {
   "cell_type": "code",
   "execution_count": null,
   "metadata": {
    "scrolled": true
   },
   "outputs": [],
   "source": [
    "# in CRAB tape requests start with a block list\n",
    "# start with a dataset on tape\n",
    "dataset = '/MuonEG/Run2016F-v1/RAW'\n",
    "\n",
    "# can't use DBS Api in this Jupyter. Ask Rucio\n",
    "rucioResp = rucioClient.list_content('cms', dataset)\n",
    "blocks = [item['name'] for item in rucioResp]\n",
    "\n",
    "logger.info('found %d blocks', len(blocks))\n",
    "pprint.pprint(blocks)\n"
   ]
  },
  {
   "cell_type": "code",
   "execution_count": null,
   "metadata": {},
   "outputs": [],
   "source": [
    "dids = [{'scope':'cms','name':block} for block in blocks]\n",
    "#dids = [{'scope':'user.belforte:','name':block} for block in blocks]\n",
    "#pprint.pprint(dids)"
   ]
  },
  {
   "cell_type": "code",
   "execution_count": null,
   "metadata": {},
   "outputs": [],
   "source": [
    "#print(len(blocks))\n",
    "size = 0\n",
    "for block in blocks:\n",
    "    block_replicas = nativeClient.list_dataset_replicas('cms',block)\n",
    "    bytes = block_replicas.next()['bytes']\n",
    "    print (bytes)\n",
    "    size += bytes\n",
    "#replicas=list(block_replicas)\n",
    "print('total = %d GBytes' % (size / 1e9))\n",
    "print('total = %d TBytes' % (size / 1e12))"
   ]
  },
  {
   "cell_type": "code",
   "execution_count": null,
   "metadata": {},
   "outputs": [],
   "source": [
    "#let's pick the small block\n",
    "didsToRecall=[dids[7]]\n",
    "bytesToRecall = cli.list_dataset_replicas('cms',blocks[7]).next()['bytes']\n",
    "print(didsToRecall)\n",
    "print (\"%d MB\" % (bytesToRecall/1.e6))"
   ]
  },
  {
   "cell_type": "code",
   "execution_count": null,
   "metadata": {},
   "outputs": [],
   "source": [
    "# make a new container to hold them, embedding task name\n",
    "taskName='210111_111111:belforte_crab_210111_111111'.replace(':','.')\n",
    "print(taskName)\n",
    "containerName='/TapeRecall/%s/USER' % taskName\n",
    "print(containerName)\n",
    "try:\n",
    "    created = rucioClient.add_container('user.belforte', containerName)\n",
    "except DataIdentifierAlreadyExists:\n",
    "    logger.info(\"Container name already exists in Rucio. Keep going\")\n",
    "logger.info('container creation is %s', created)"
   ]
  },
  {
   "cell_type": "code",
   "execution_count": null,
   "metadata": {},
   "outputs": [],
   "source": [
    "myScope = 'user.belforte'\n",
    "containerDid = {'scope':myScope, 'name':containerName}"
   ]
  },
  {
   "cell_type": "code",
   "execution_count": null,
   "metadata": {},
   "outputs": [],
   "source": [
    "# add blocks (datasets in Rucio language) to container\n",
    "pprint.pprint(didsToRecall)\n",
    "pprint.pprint(containerName)\n",
    "#ret=nativeCli.add_datasets_to_container('user.belforte', containerName, didsToRecall)\n",
    "#ret=nativeCli.add_containers_to_container('user.belforte', containerName, didsToRecall)\n",
    "ret = rucioClient.attach_dids('user.belforte', containerName, didsToRecall)"
   ]
  },
  {
   "cell_type": "code",
   "execution_count": null,
   "metadata": {},
   "outputs": [],
   "source": [
    "print(containerName)\n",
    "cc=nativeClient.list_content('user.belforte',containerName)\n",
    "content = [i for i in cc]\n",
    "print(content)"
   ]
  },
  {
   "cell_type": "code",
   "execution_count": null,
   "metadata": {},
   "outputs": [],
   "source": [
    "DAYS = 1 * 24 * 3600\n",
    "# createReplicationRule(self, names, rseExpression, scope='cms', copies=1, **kwargs):\n",
    "rules = nativeClient.add_replication_rule([containerDid], copies=1, rse_expression='T3_IT_Trieste',\n",
    "                                  weight='ddm_quota', lifetime=DAYS, account=Rucio_account, grouping='ALL',\n",
    "                                  activity='Analysis Input', comment='Staged from tape for %s' % username,\n",
    "                                  ask_approval=True, asynchronous=True,\n",
    "                                           )"
   ]
  },
  {
   "cell_type": "code",
   "execution_count": null,
   "metadata": {},
   "outputs": [],
   "source": [
    "\n",
    "print(rules)\n",
    "ruleId=rules[0]\n",
    "print(ruleId)"
   ]
  },
  {
   "cell_type": "code",
   "execution_count": null,
   "metadata": {},
   "outputs": [],
   "source": [
    "#ruleId='e7d17c2f768542318d414618f5d44f86'"
   ]
  },
  {
   "cell_type": "code",
   "execution_count": null,
   "metadata": {},
   "outputs": [],
   "source": [
    "resp = nativeClient.get_replication_rule(ruleId,estimate_ttc=True)\n",
    "print(resp)"
   ]
  },
  {
   "cell_type": "code",
   "execution_count": null,
   "metadata": {},
   "outputs": [],
   "source": [
    "expiration=resp['expires_at']\n",
    "print(expiration)"
   ]
  },
  {
   "cell_type": "code",
   "execution_count": null,
   "metadata": {},
   "outputs": [],
   "source": [
    "pprint.pprint(resp)"
   ]
  },
  {
   "cell_type": "code",
   "execution_count": null,
   "metadata": {},
   "outputs": [],
   "source": [
    "ruleInfo = rucioClient.get_replication_rule(ruleId,ttc=True)\n",
    "state=ruleInfo['state']\n",
    "\"\"\"\n",
    "possible values:\n",
    "class RuleState(Enum):\n",
    "    REPLICATING = 'R'\n",
    "    OK = 'O'\n",
    "    STUCK = 'S'\n",
    "    SUSPENDED = 'U'\n",
    "    WAITING_APPROVAL = 'W'\n",
    "    INJECT = 'I'\n",
    "\"\"\"\n"
   ]
  },
  {
   "cell_type": "code",
   "execution_count": null,
   "metadata": {},
   "outputs": [],
   "source": [
    "print(rules)\n",
    "rule = rules[0]\n",
    "\n",
    "print(\"Rule %s has been created for %s\" % (rule, user))\n",
    "print(\"This rule can be monitored through DAS by checking the dataset or directly through Rucio with:\")\n",
    "print(\" rucio rule-info %s\" % rule)\n",
    "\n",
    "rule_info = cli.get_replication_rule(rule)\n",
    "\n",
    "print('This rule expires at %s after which the data may be removed if not used occassionally'\n",
    "      % rule_info['expires_at'])\n",
    "\n",
    "print(\"This rule can be found by asking Rucio with:\")\n",
    "print(\" rucio list-rules %s:%s\" % ('user.belforte', containerName))"
   ]
  },
  {
   "cell_type": "code",
   "execution_count": null,
   "metadata": {},
   "outputs": [],
   "source": [
    "if not pippo: print \"SI\""
   ]
  },
  {
   "cell_type": "code",
   "execution_count": null,
   "metadata": {},
   "outputs": [],
   "source": [
    "ruleId='cf9db5949a894efc9f39805a64ac275a'\n",
    "resp=nativeClient.get_replication_rule(ruleId)"
   ]
  },
  {
   "cell_type": "code",
   "execution_count": null,
   "metadata": {},
   "outputs": [],
   "source": [
    "rule_info=resp\n",
    "rule = ruleId\n",
    "\n",
    "\n",
    "print(\"Rule %s has been created for user %s\" % (rule, user))\n",
    "print(\"This rule can be monitored through DAS by checking the dataset or directly through Rucio with:\")\n",
    "print(\" rucio rule-info %s\" % rule)\n",
    "\n",
    "rule_info = nativeClient.get_replication_rule(rule)\n",
    "\n",
    "print('This rule expires at %s after which the data may be removed if not used'\n",
    "      % rule_info['expires_at'])\n",
    "\n",
    "print(\"This rule can be found by asking Rucio with:\")\n",
    "print(\" rucio list-rules %s:%s\" % ('user.belforte', containerName))"
   ]
  },
  {
   "cell_type": "code",
   "execution_count": null,
   "metadata": {},
   "outputs": [],
   "source": [
    "pprint.pprint(resp)"
   ]
  },
  {
   "cell_type": "code",
   "execution_count": null,
   "metadata": {},
   "outputs": [],
   "source": []
  }
 ],
 "metadata": {
  "kernelspec": {
   "display_name": "Python 3 (ipykernel)",
   "language": "python",
   "name": "python3"
  },
  "language_info": {
   "codemirror_mode": {
    "name": "ipython",
    "version": 3
   },
   "file_extension": ".py",
   "mimetype": "text/x-python",
   "name": "python",
   "nbconvert_exporter": "python",
   "pygments_lexer": "ipython3",
   "version": "3.9.6"
  }
 },
 "nbformat": 4,
 "nbformat_minor": 2
}
