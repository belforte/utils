{
 "cells": [
  {
   "cell_type": "code",
   "execution_count": 1,
   "metadata": {},
   "outputs": [
    {
     "name": "stdout",
     "output_type": "stream",
     "text": [
      "Proxy: /tmp/x509up_u8516\n"
     ]
    }
   ],
   "source": [
    "##\n",
    "## Needs to be executed in the CRAB Client environment\n",
    "##\n",
    "from __future__ import division\n",
    "from __future__ import print_function\n",
    "import json\n",
    "import os\n",
    "import time\n",
    "import subprocess\n",
    "import argparse\n",
    "import logging\n",
    "import sys\n",
    "#import urllib\n",
    "import CRABClient\n",
    "\n",
    "from RESTInteractions import CRABRest\n",
    "from httplib import HTTPException\n",
    "from ServerUtilities import encodeRequest\n",
    "\n",
    "os.getcwd()\n",
    "\n",
    "\n",
    "logging.basicConfig(stream=sys.stdout, level=logging.NOTSET) # log all messages\n",
    "logging.basicConfig(stream=sys.stdout, level=logging.DEBUG)\n",
    "\n",
    "logger = logging.getLogger('Logger')\n",
    "\n",
    "proxy = os.environ['X509_USER_PROXY']\n",
    "print(\"Proxy: %s\" % proxy)"
   ]
  },
  {
   "cell_type": "code",
   "execution_count": null,
   "metadata": {},
   "outputs": [],
   "source": [
    "# from CRABClient import __version__\n",
    "# class CRABRest:\n",
    "#     def __init__(self, host='localhost', localcert=None, localkey=None, version=__version__,\n",
    "#                  retry=0, logger=None, verbose=False, userAgent='CRAB?'):\n",
    "#         self.server = HTTPRequests(host, localcert, localkey, version,\n",
    "#                  retry, logger, verbose, userAgent)\n",
    "#         instance = 'prod'\n",
    "#         self.uriNoApi = '/crabserver/' + instance + '/'\n",
    "#     def setDbInstance(self, dbInstance='prod'):\n",
    "#         self.uriNoApi = '/crabserver/' + dbInstance + '/'\n",
    "#     def getDbInstance(self):\n",
    "# #         return self.uriNoApi.rstrip('/').split('/')[-1]\n",
    "#     def get(self, api=None, data=None):\n",
    "#         uri = self.uriNoApi + api\n",
    "#         return self.server.get(uri, data)\n",
    "#     def post(self, api=None, data=None):\n",
    "#         uri = self.uriNoApi + api\n",
    "#         return self.server.post(uri, data)\n",
    "#     def put(self, api=None, data=None):\n",
    "#         uri = self.uriNoApi + api\n",
    "#         return self.server.put(uri, data)\n",
    "#     def delete(self, api=None, data=None):\n",
    "#         uri = self.uriNoApi + api\n",
    "#         return self.server.delete(uri, data)\n",
    "        \n",
    "        "
   ]
  },
  {
   "cell_type": "code",
   "execution_count": 2,
   "metadata": {},
   "outputs": [
    {
     "name": "stdout",
     "output_type": "stream",
     "text": [
      "INFO:root:ora:  prod\n",
      "INFO:root:dopo: dev\n",
      "HTTP code and status: 200 OK\n",
      "server info: %s [{u'crabserver': u'Welcome', u'version': u'v3.210408'}]\n"
     ]
    }
   ],
   "source": [
    "hostname = 'cmsweb-test1'\n",
    "instance = 'dev'\n",
    "host = hostname + '.cern.ch:8443'\n",
    "#uriNoApi = '/crabserver/' + instance + '/'\n",
    "#server = HTTPRequests(host, proxy, proxy, userAgent='CRABtestSB')\n",
    "rest = CRABRest(host, proxy, proxy, userAgent='CRABtestSB')\n",
    "logging.info(\"ora:  %s\", rest.getDbInstance())\n",
    "rest.setDbInstance('dev')\n",
    "logging.info(\"dopo: %s\", rest.getDbInstance())\n",
    "\n",
    "# test INFO\n",
    "api = '/info'\n",
    "#uri = uriNoApi + api\n",
    "#res = server.get(uri)\n",
    "res = rest.get(api)\n",
    "# HTTPRequests always retutns a 3-element tuple: ({'result':result}, HTTPcode, HTTPstatus)\n",
    "print(\"HTTP code and status: %s %s\" %(res[1], res[2]))\n",
    "print(\"server info: %s\", res[0]['result'])"
   ]
  },
  {
   "cell_type": "code",
   "execution_count": null,
   "metadata": {},
   "outputs": [],
   "source": []
  }
 ],
 "metadata": {
  "kernelspec": {
   "display_name": "Python 2",
   "language": "python",
   "name": "python2"
  },
  "language_info": {
   "codemirror_mode": {
    "name": "ipython",
    "version": 2
   },
   "file_extension": ".py",
   "mimetype": "text/x-python",
   "name": "python",
   "nbconvert_exporter": "python",
   "pygments_lexer": "ipython2",
   "version": "2.7.14+"
  }
 },
 "nbformat": 4,
 "nbformat_minor": 2
}
